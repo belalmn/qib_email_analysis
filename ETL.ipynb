{
 "cells": [
  {
   "cell_type": "markdown",
   "metadata": {},
   "source": [
    "# ETL Pipeline"
   ]
  },
  {
   "cell_type": "markdown",
   "metadata": {},
   "source": [
    "## Imports"
   ]
  },
  {
   "cell_type": "code",
   "execution_count": 1,
   "metadata": {},
   "outputs": [
    {
     "name": "stderr",
     "output_type": "stream",
     "text": [
      "INFO:sentence_transformers.SentenceTransformer:Use pytorch device_name: cuda\n",
      "INFO:sentence_transformers.SentenceTransformer:Load pretrained SentenceTransformer: all-MiniLM-L6-v2\n",
      "/home/belalm/miniconda3/envs/qib/lib/python3.11/site-packages/transformers/tokenization_utils_base.py:1601: FutureWarning: `clean_up_tokenization_spaces` was not set. It will be set to `True` by default. This behavior will be depracted in transformers v4.45, and will be then set to `False` by default. For more details check this issue: https://github.com/huggingface/transformers/issues/31884\n",
      "  warnings.warn(\n",
      "[nltk_data] Downloading package punkt to /home/belalm/nltk_data...\n",
      "[nltk_data]   Package punkt is already up-to-date!\n",
      "[nltk_data] Downloading package punkt_tab to /home/belalm/nltk_data...\n",
      "[nltk_data]   Package punkt_tab is already up-to-date!\n",
      "[nltk_data] Downloading package wordnet to /home/belalm/nltk_data...\n",
      "[nltk_data]   Package wordnet is already up-to-date!\n",
      "[nltk_data] Downloading package stopwords to /home/belalm/nltk_data...\n",
      "[nltk_data]   Package stopwords is already up-to-date!\n"
     ]
    }
   ],
   "source": [
    "import logging\n",
    "\n",
    "import matplotlib.pyplot as plt\n",
    "import pandas as pd\n",
    "\n",
    "from src.extract.imap.imap_extractor import IMAPExtractor\n",
    "from src.extract.pst.pst_extractor import PSTExtractor\n",
    "from src.models.topic_modelling import TopicModellor\n",
    "from src.models.vectorizer import Vectorizer\n",
    "from src.transform.message_transformer import get_language, get_response_time, clean_text, normalize_text\n",
    "from src.models.message_classification import classify_messages\n",
    "\n",
    "logging.basicConfig(level=logging.INFO)"
   ]
  },
  {
   "cell_type": "markdown",
   "metadata": {},
   "source": [
    "## Extraction"
   ]
  },
  {
   "cell_type": "markdown",
   "metadata": {},
   "source": [
    "### Ingest from PST"
   ]
  },
  {
   "cell_type": "code",
   "execution_count": 2,
   "metadata": {},
   "outputs": [
    {
     "name": "stderr",
     "output_type": "stream",
     "text": [
      "INFO:root:Opening ./data/raw/emails.pst for extraction\n",
      "INFO:root:Found 5039 messages in total\n",
      "INFO:root:Parsing messages\n",
      "INFO:root:Filling missing data\n",
      "INFO:root:Parsing email threading\n",
      "INFO:root:Parsing domain info\n",
      "INFO:root:Extracting missing email ids\n",
      "INFO:root:Extracted 5039 messages\n"
     ]
    }
   ],
   "source": [
    "pst_extractor = PSTExtractor(\"./data/raw/emails.pst\")\n",
    "pst_message_df = pst_extractor.message_df"
   ]
  },
  {
   "cell_type": "markdown",
   "metadata": {},
   "source": [
    "Get missing emails."
   ]
  },
  {
   "cell_type": "code",
   "execution_count": 3,
   "metadata": {},
   "outputs": [
    {
     "name": "stdout",
     "output_type": "stream",
     "text": [
      "739\n"
     ]
    }
   ],
   "source": [
    "missing_emails = pst_extractor.missing_email_ids\n",
    "print(len(missing_emails))"
   ]
  },
  {
   "cell_type": "markdown",
   "metadata": {},
   "source": [
    "### Ingest Missing Emails from IMAP Server"
   ]
  },
  {
   "cell_type": "markdown",
   "metadata": {},
   "source": [
    "IMAP Server Setup"
   ]
  },
  {
   "cell_type": "code",
   "execution_count": 4,
   "metadata": {},
   "outputs": [],
   "source": [
    "# EMAIL_ACCOUNT = ''\n",
    "# PASSWORD = ''\n",
    "# SERVER = 'imap.gmail.com'\n",
    "# imap_extractor = IMAPExtractor(EMAIL_ACCOUNT, PASSWORD, SERVER)"
   ]
  },
  {
   "cell_type": "markdown",
   "metadata": {},
   "source": [
    "Available Mailboxes"
   ]
  },
  {
   "cell_type": "code",
   "execution_count": 5,
   "metadata": {},
   "outputs": [],
   "source": [
    "# imap_extractor.list_mailboxes()"
   ]
  },
  {
   "cell_type": "markdown",
   "metadata": {},
   "source": [
    "Fetch Missing Emails"
   ]
  },
  {
   "cell_type": "code",
   "execution_count": 6,
   "metadata": {},
   "outputs": [],
   "source": [
    "# mailboxes_to_fetch = [\"INBOX\", \"\\\"[Gmail]/Sent Mail\\\"\"]\n",
    "# imap_message_df = imap_extractor.extract_messages_from_imap(mailboxes_to_fetch, missing_emails, None)"
   ]
  },
  {
   "cell_type": "markdown",
   "metadata": {},
   "source": [
    "Export to CSV"
   ]
  },
  {
   "cell_type": "code",
   "execution_count": 7,
   "metadata": {},
   "outputs": [],
   "source": [
    "pst_message_df.to_csv(\"./data/interim/pst_emails.csv\", index=False)\n",
    "# imap_message_df.to_csv(\"./data/interim/imap_emails.csv\", index=False)"
   ]
  },
  {
   "cell_type": "markdown",
   "metadata": {},
   "source": [
    "Load from CSV"
   ]
  },
  {
   "cell_type": "code",
   "execution_count": 8,
   "metadata": {},
   "outputs": [],
   "source": [
    "pst_message_df = pd.read_csv(\"./data/interim/pst_emails.csv\")\n",
    "# imap_message_df = pd.read_csv(\"./data/interim/imap_emails.csv\")"
   ]
  },
  {
   "cell_type": "markdown",
   "metadata": {},
   "source": [
    "## Transformations"
   ]
  },
  {
   "cell_type": "markdown",
   "metadata": {},
   "source": [
    "### Preprocessing"
   ]
  },
  {
   "cell_type": "markdown",
   "metadata": {},
   "source": [
    "Concatenate PST and IMAP Messages"
   ]
  },
  {
   "cell_type": "code",
   "execution_count": 9,
   "metadata": {},
   "outputs": [],
   "source": [
    "# message_df = pd.concat([pst_message_df, imap_message_df], ignore_index=True)\n",
    "message_df = pst_message_df"
   ]
  },
  {
   "cell_type": "markdown",
   "metadata": {},
   "source": [
    "Clean Text"
   ]
  },
  {
   "cell_type": "code",
   "execution_count": 10,
   "metadata": {},
   "outputs": [],
   "source": [
    "message_df['clean_text'] = message_df['plain_text_body'].apply(lambda x: clean_text(x))"
   ]
  },
  {
   "cell_type": "markdown",
   "metadata": {},
   "source": [
    "Text Intended for NLP"
   ]
  },
  {
   "cell_type": "code",
   "execution_count": 11,
   "metadata": {},
   "outputs": [],
   "source": [
    "message_df['normalized_text'] = message_df['clean_text'].apply(lambda x: normalize_text(x))"
   ]
  },
  {
   "cell_type": "markdown",
   "metadata": {},
   "source": [
    "Response Times"
   ]
  },
  {
   "cell_type": "code",
   "execution_count": 12,
   "metadata": {},
   "outputs": [],
   "source": [
    "message_df = get_response_time(message_df)"
   ]
  },
  {
   "cell_type": "markdown",
   "metadata": {},
   "source": [
    "Language Detection"
   ]
  },
  {
   "cell_type": "code",
   "execution_count": 13,
   "metadata": {},
   "outputs": [],
   "source": [
    "message_df[\"language\"] = message_df[\"clean_text\"].apply(get_language)"
   ]
  },
  {
   "cell_type": "markdown",
   "metadata": {},
   "source": [
    "Sample and Export Preprocessed Messages"
   ]
  },
  {
   "cell_type": "code",
   "execution_count": 14,
   "metadata": {},
   "outputs": [
    {
     "data": {
      "text/html": [
       "<div>\n",
       "<style scoped>\n",
       "    .dataframe tbody tr th:only-of-type {\n",
       "        vertical-align: middle;\n",
       "    }\n",
       "\n",
       "    .dataframe tbody tr th {\n",
       "        vertical-align: top;\n",
       "    }\n",
       "\n",
       "    .dataframe thead th {\n",
       "        text-align: right;\n",
       "    }\n",
       "</style>\n",
       "<table border=\"1\" class=\"dataframe\">\n",
       "  <thead>\n",
       "    <tr style=\"text-align: right;\">\n",
       "      <th></th>\n",
       "      <th>message_id</th>\n",
       "      <th>subject</th>\n",
       "      <th>subject_prefix</th>\n",
       "      <th>submit_time</th>\n",
       "      <th>delivery_time</th>\n",
       "      <th>html_body</th>\n",
       "      <th>plain_text_body</th>\n",
       "      <th>from_name</th>\n",
       "      <th>from_address</th>\n",
       "      <th>to_address</th>\n",
       "      <th>...</th>\n",
       "      <th>first_in_thread</th>\n",
       "      <th>num_previous_messages</th>\n",
       "      <th>thread_id</th>\n",
       "      <th>sender_domain</th>\n",
       "      <th>all_domains</th>\n",
       "      <th>is_internal</th>\n",
       "      <th>clean_text</th>\n",
       "      <th>normalized_text</th>\n",
       "      <th>response_time</th>\n",
       "      <th>language</th>\n",
       "    </tr>\n",
       "  </thead>\n",
       "  <tbody>\n",
       "    <tr>\n",
       "      <th>0</th>\n",
       "      <td>CANc0Yq66py_2t28pJ0H6E47s_BRZv1qR6O9=KFp2wqUC+...</td>\n",
       "      <td>Re: QSTP summer Workshops Program</td>\n",
       "      <td>re:</td>\n",
       "      <td>2024-06-30 05:06:15+00:00</td>\n",
       "      <td>2024-06-30 05:06:26+00:00</td>\n",
       "      <td>&lt;div dir=\"ltr\"&gt;&lt;div dir=\"auto\"&gt;&lt;b&gt;&lt;font color=...</td>\n",
       "      <td>Reminder!\\n\\n  \\n\\nOn Sat, 29 Jun 2024 at 6:06...</td>\n",
       "      <td>Mohammed Alsahal</td>\n",
       "      <td>m7mdalsahal@gmail.com</td>\n",
       "      <td>20180065@ariu.edu.qa, 2862633102@qq.com, ahmed...</td>\n",
       "      <td>...</td>\n",
       "      <td>False</td>\n",
       "      <td>1.0</td>\n",
       "      <td>CANc0Yq7Oy8un7hjwvQsEJyum4-p905KNjfPscOpabNgtC...</td>\n",
       "      <td>gmail.com</td>\n",
       "      <td>andrew.cmu.edu, ariu.edu.qa, ecommeta.uk, gmai...</td>\n",
       "      <td>False</td>\n",
       "      <td>Reminder!</td>\n",
       "      <td>remind</td>\n",
       "      <td>None</td>\n",
       "      <td>en</td>\n",
       "    </tr>\n",
       "    <tr>\n",
       "      <th>1</th>\n",
       "      <td>1f230c7e1de149559e2814218dfa5b53@ubc-csm.sympl...</td>\n",
       "      <td>Belal, the latest \"All Opportunities\" jobs are...</td>\n",
       "      <td>NaN</td>\n",
       "      <td>2024-06-30 06:14:35+00:00</td>\n",
       "      <td>2024-06-30 06:14:38+00:00</td>\n",
       "      <td>&lt;!DOCTYPE html PUBLIC \"-//W3C//DTD XHTML 1.0 T...</td>\n",
       "      <td>|  |   \\n---  \\n  \\n  Belal, here are your lat...</td>\n",
       "      <td>csic.careersonline@ubc.ca</td>\n",
       "      <td>csic.careersonline@ubc.ca</td>\n",
       "      <td>belal.mnur@gmail.com</td>\n",
       "      <td>...</td>\n",
       "      <td>True</td>\n",
       "      <td>NaN</td>\n",
       "      <td>NaN</td>\n",
       "      <td>ubc.ca</td>\n",
       "      <td>gmail.com, ubc.ca</td>\n",
       "      <td>False</td>\n",
       "      <td>|  |   \\n---  \\n  Belal, here are your latest ...</td>\n",
       "      <td>belal latest job match miss match opportun job...</td>\n",
       "      <td>None</td>\n",
       "      <td>en</td>\n",
       "    </tr>\n",
       "    <tr>\n",
       "      <th>2</th>\n",
       "      <td>ff49f537-ed2d-5429-9079-70350a2e4b6a@mail.uber...</td>\n",
       "      <td>Your Sunday morning trip with Uber</td>\n",
       "      <td>NaN</td>\n",
       "      <td>2024-06-30 06:36:18+00:00</td>\n",
       "      <td>2024-06-30 06:36:20+00:00</td>\n",
       "      <td>&lt;!doctype html&gt;&lt;html&gt;&lt;head&gt;&lt;meta charset=\"utf-...</td>\n",
       "      <td>| | | | | | | | |  | | | |  | | | | | Total QA...</td>\n",
       "      <td>Uber Receipts</td>\n",
       "      <td>noreply@uber.com</td>\n",
       "      <td>belal.mnur@gmail.com</td>\n",
       "      <td>...</td>\n",
       "      <td>True</td>\n",
       "      <td>NaN</td>\n",
       "      <td>NaN</td>\n",
       "      <td>uber.com</td>\n",
       "      <td>gmail.com, uber.com</td>\n",
       "      <td>False</td>\n",
       "      <td>| | | | | | | | |  | | | |  | | | | | Total QA...</td>\n",
       "      <td>total qar thank ride belal hope enjoy ride mor...</td>\n",
       "      <td>None</td>\n",
       "      <td>en</td>\n",
       "    </tr>\n",
       "    <tr>\n",
       "      <th>3</th>\n",
       "      <td>15.96.04233.1FCF0866@ccg01mail06</td>\n",
       "      <td>Your payment to Uber BV has been processed</td>\n",
       "      <td>NaN</td>\n",
       "      <td>2024-06-30 06:36:33+00:00</td>\n",
       "      <td>2024-06-30 06:36:34+00:00</td>\n",
       "      <td>&lt;html dir=\"ltr\" lang=\"en\"&gt;\\n\\n  &lt;head&gt;\\n    &lt;m...</td>\n",
       "      <td>#### Belal Mohammed-Nur, payment has been proc...</td>\n",
       "      <td>service@intl.paypal.com</td>\n",
       "      <td>service@intl.paypal.com</td>\n",
       "      <td>belal.mnur@gmail.com</td>\n",
       "      <td>...</td>\n",
       "      <td>True</td>\n",
       "      <td>NaN</td>\n",
       "      <td>NaN</td>\n",
       "      <td>intl.paypal.com</td>\n",
       "      <td>gmail.com, intl.paypal.com</td>\n",
       "      <td>False</td>\n",
       "      <td>#### Belal Mohammed-Nur, payment has been proc...</td>\n",
       "      <td>belal payment process hello belal payment proc...</td>\n",
       "      <td>None</td>\n",
       "      <td>en</td>\n",
       "    </tr>\n",
       "    <tr>\n",
       "      <th>4</th>\n",
       "      <td>99b24ce1-7f39-5615-a5ad-15e0b3a95b03@mail.uber...</td>\n",
       "      <td>Your Sunday afternoon trip with Uber</td>\n",
       "      <td>NaN</td>\n",
       "      <td>2024-06-30 10:39:06+00:00</td>\n",
       "      <td>2024-06-30 10:39:08+00:00</td>\n",
       "      <td>&lt;!doctype html&gt;&lt;html&gt;&lt;head&gt;&lt;meta charset=\"utf-...</td>\n",
       "      <td>| | | | | | | | |  | | | |  | | | | | Total QA...</td>\n",
       "      <td>Uber Receipts</td>\n",
       "      <td>noreply@uber.com</td>\n",
       "      <td>belal.mnur@gmail.com</td>\n",
       "      <td>...</td>\n",
       "      <td>True</td>\n",
       "      <td>NaN</td>\n",
       "      <td>NaN</td>\n",
       "      <td>uber.com</td>\n",
       "      <td>gmail.com, uber.com</td>\n",
       "      <td>False</td>\n",
       "      <td>| | | | | | | | |  | | | |  | | | | | Total QA...</td>\n",
       "      <td>total qar thank ride belal hope enjoy ride aft...</td>\n",
       "      <td>None</td>\n",
       "      <td>en</td>\n",
       "    </tr>\n",
       "    <tr>\n",
       "      <th>5</th>\n",
       "      <td>23.86.04509.2D531866@ccg01mail05</td>\n",
       "      <td>Your payment to Uber BV has been processed</td>\n",
       "      <td>NaN</td>\n",
       "      <td>2024-06-30 10:39:14+00:00</td>\n",
       "      <td>2024-06-30 10:39:15+00:00</td>\n",
       "      <td>&lt;html dir=\"ltr\" lang=\"en\"&gt;\\n\\n  &lt;head&gt;\\n    &lt;m...</td>\n",
       "      <td>#### Belal Mohammed-Nur, payment has been proc...</td>\n",
       "      <td>service@intl.paypal.com</td>\n",
       "      <td>service@intl.paypal.com</td>\n",
       "      <td>belal.mnur@gmail.com</td>\n",
       "      <td>...</td>\n",
       "      <td>True</td>\n",
       "      <td>NaN</td>\n",
       "      <td>NaN</td>\n",
       "      <td>intl.paypal.com</td>\n",
       "      <td>gmail.com, intl.paypal.com</td>\n",
       "      <td>False</td>\n",
       "      <td>#### Belal Mohammed-Nur, payment has been proc...</td>\n",
       "      <td>belal payment process hello belal payment proc...</td>\n",
       "      <td>None</td>\n",
       "      <td>en</td>\n",
       "    </tr>\n",
       "    <tr>\n",
       "      <th>6</th>\n",
       "      <td>0100019069db219e-5ca01c62-bf2e-450f-8d6f-6b478...</td>\n",
       "      <td>Next stop? Deals.</td>\n",
       "      <td>NaN</td>\n",
       "      <td>2024-06-30 15:54:47+00:00</td>\n",
       "      <td>2024-06-30 15:54:48+00:00</td>\n",
       "      <td>&lt;!doctype html&gt;&lt;html lang=\"en\" dir=\"auto\" xmln...</td>\n",
       "      <td>Get excited. Deals are coming.͏ ‌   ­͏ ‌   ­͏ ...</td>\n",
       "      <td>Amazon.ca</td>\n",
       "      <td>store-news@amazon.ca</td>\n",
       "      <td>belal.mnur@gmail.com</td>\n",
       "      <td>...</td>\n",
       "      <td>True</td>\n",
       "      <td>NaN</td>\n",
       "      <td>NaN</td>\n",
       "      <td>amazon.ca</td>\n",
       "      <td>amazon.ca, gmail.com</td>\n",
       "      <td>False</td>\n",
       "      <td>Get excited. Deals are coming.͏ ‌   ­͏ ‌   ­͏ ...</td>\n",
       "      <td>get excit deal today deal best seller buy huge...</td>\n",
       "      <td>None</td>\n",
       "      <td>am</td>\n",
       "    </tr>\n",
       "    <tr>\n",
       "      <th>7</th>\n",
       "      <td>50b8f163-658c-5ac1-88c6-1b287f8ac70a@mail.uber...</td>\n",
       "      <td>Your Monday morning trip with Uber</td>\n",
       "      <td>NaN</td>\n",
       "      <td>2024-07-01 08:43:55+00:00</td>\n",
       "      <td>2024-07-01 08:43:57+00:00</td>\n",
       "      <td>&lt;!doctype html&gt;&lt;html&gt;&lt;head&gt;&lt;meta charset=\"utf-...</td>\n",
       "      <td>| | | | | | | | |  | | | |  | | | | | Total QA...</td>\n",
       "      <td>Uber Receipts</td>\n",
       "      <td>noreply@uber.com</td>\n",
       "      <td>belal.mnur@gmail.com</td>\n",
       "      <td>...</td>\n",
       "      <td>True</td>\n",
       "      <td>NaN</td>\n",
       "      <td>NaN</td>\n",
       "      <td>uber.com</td>\n",
       "      <td>gmail.com, uber.com</td>\n",
       "      <td>False</td>\n",
       "      <td>| | | | | | | | |  | | | |  | | | | | Total QA...</td>\n",
       "      <td>total qar thank ride belal hope enjoy ride mor...</td>\n",
       "      <td>None</td>\n",
       "      <td>en</td>\n",
       "    </tr>\n",
       "    <tr>\n",
       "      <th>8</th>\n",
       "      <td>85.87.04374.B5C62866@ccg01mail01</td>\n",
       "      <td>Your payment to Uber BV has been processed</td>\n",
       "      <td>NaN</td>\n",
       "      <td>2024-07-01 08:44:11+00:00</td>\n",
       "      <td>2024-07-01 08:44:14+00:00</td>\n",
       "      <td>&lt;html dir=\"ltr\" lang=\"en\"&gt;\\n\\n  &lt;head&gt;\\n    &lt;m...</td>\n",
       "      <td>#### Belal Mohammed-Nur, payment has been proc...</td>\n",
       "      <td>service@intl.paypal.com</td>\n",
       "      <td>service@intl.paypal.com</td>\n",
       "      <td>belal.mnur@gmail.com</td>\n",
       "      <td>...</td>\n",
       "      <td>True</td>\n",
       "      <td>NaN</td>\n",
       "      <td>NaN</td>\n",
       "      <td>intl.paypal.com</td>\n",
       "      <td>gmail.com, intl.paypal.com</td>\n",
       "      <td>False</td>\n",
       "      <td>#### Belal Mohammed-Nur, payment has been proc...</td>\n",
       "      <td>belal payment process hello belal payment proc...</td>\n",
       "      <td>None</td>\n",
       "      <td>en</td>\n",
       "    </tr>\n",
       "    <tr>\n",
       "      <th>9</th>\n",
       "      <td>1593982468.211997.1719823796907@kaikoura01.oor...</td>\n",
       "      <td>User login confirmation</td>\n",
       "      <td>NaN</td>\n",
       "      <td>2024-07-01 08:49:56+00:00</td>\n",
       "      <td>2024-07-01 08:49:58+00:00</td>\n",
       "      <td>&lt;html&gt;\\r\\n&lt;body&gt;\\r\\n&lt;table bgcolor=\"#FFFFFF\" w...</td>\n",
       "      <td>---  \\n  \\nHi Belal Mohammed-Nur,\\n\\nYou’ve su...</td>\n",
       "      <td>Ooredoo</td>\n",
       "      <td>no_reply@ooredoo.qa</td>\n",
       "      <td>belal.mnur@gmail.com</td>\n",
       "      <td>...</td>\n",
       "      <td>True</td>\n",
       "      <td>NaN</td>\n",
       "      <td>NaN</td>\n",
       "      <td>ooredoo.qa</td>\n",
       "      <td>gmail.com, ooredoo.qa</td>\n",
       "      <td>False</td>\n",
       "      <td>---  \\nHi Belal Mohammed-Nur,\\nYou’ve successf...</td>\n",
       "      <td>hi belal success log ooredoo app juli devic se...</td>\n",
       "      <td>None</td>\n",
       "      <td>en</td>\n",
       "    </tr>\n",
       "  </tbody>\n",
       "</table>\n",
       "<p>10 rows × 25 columns</p>\n",
       "</div>"
      ],
      "text/plain": [
       "                                          message_id  \\\n",
       "0  CANc0Yq66py_2t28pJ0H6E47s_BRZv1qR6O9=KFp2wqUC+...   \n",
       "1  1f230c7e1de149559e2814218dfa5b53@ubc-csm.sympl...   \n",
       "2  ff49f537-ed2d-5429-9079-70350a2e4b6a@mail.uber...   \n",
       "3                   15.96.04233.1FCF0866@ccg01mail06   \n",
       "4  99b24ce1-7f39-5615-a5ad-15e0b3a95b03@mail.uber...   \n",
       "5                   23.86.04509.2D531866@ccg01mail05   \n",
       "6  0100019069db219e-5ca01c62-bf2e-450f-8d6f-6b478...   \n",
       "7  50b8f163-658c-5ac1-88c6-1b287f8ac70a@mail.uber...   \n",
       "8                   85.87.04374.B5C62866@ccg01mail01   \n",
       "9  1593982468.211997.1719823796907@kaikoura01.oor...   \n",
       "\n",
       "                                             subject subject_prefix  \\\n",
       "0                  Re: QSTP summer Workshops Program            re:   \n",
       "1  Belal, the latest \"All Opportunities\" jobs are...            NaN   \n",
       "2                 Your Sunday morning trip with Uber            NaN   \n",
       "3        Your payment to Uber BV has been processed             NaN   \n",
       "4               Your Sunday afternoon trip with Uber            NaN   \n",
       "5        Your payment to Uber BV has been processed             NaN   \n",
       "6                                  Next stop? Deals.            NaN   \n",
       "7                 Your Monday morning trip with Uber            NaN   \n",
       "8        Your payment to Uber BV has been processed             NaN   \n",
       "9                            User login confirmation            NaN   \n",
       "\n",
       "                 submit_time              delivery_time  \\\n",
       "0  2024-06-30 05:06:15+00:00  2024-06-30 05:06:26+00:00   \n",
       "1  2024-06-30 06:14:35+00:00  2024-06-30 06:14:38+00:00   \n",
       "2  2024-06-30 06:36:18+00:00  2024-06-30 06:36:20+00:00   \n",
       "3  2024-06-30 06:36:33+00:00  2024-06-30 06:36:34+00:00   \n",
       "4  2024-06-30 10:39:06+00:00  2024-06-30 10:39:08+00:00   \n",
       "5  2024-06-30 10:39:14+00:00  2024-06-30 10:39:15+00:00   \n",
       "6  2024-06-30 15:54:47+00:00  2024-06-30 15:54:48+00:00   \n",
       "7  2024-07-01 08:43:55+00:00  2024-07-01 08:43:57+00:00   \n",
       "8  2024-07-01 08:44:11+00:00  2024-07-01 08:44:14+00:00   \n",
       "9  2024-07-01 08:49:56+00:00  2024-07-01 08:49:58+00:00   \n",
       "\n",
       "                                           html_body  \\\n",
       "0  <div dir=\"ltr\"><div dir=\"auto\"><b><font color=...   \n",
       "1  <!DOCTYPE html PUBLIC \"-//W3C//DTD XHTML 1.0 T...   \n",
       "2  <!doctype html><html><head><meta charset=\"utf-...   \n",
       "3  <html dir=\"ltr\" lang=\"en\">\\n\\n  <head>\\n    <m...   \n",
       "4  <!doctype html><html><head><meta charset=\"utf-...   \n",
       "5  <html dir=\"ltr\" lang=\"en\">\\n\\n  <head>\\n    <m...   \n",
       "6  <!doctype html><html lang=\"en\" dir=\"auto\" xmln...   \n",
       "7  <!doctype html><html><head><meta charset=\"utf-...   \n",
       "8  <html dir=\"ltr\" lang=\"en\">\\n\\n  <head>\\n    <m...   \n",
       "9  <html>\\r\\n<body>\\r\\n<table bgcolor=\"#FFFFFF\" w...   \n",
       "\n",
       "                                     plain_text_body  \\\n",
       "0  Reminder!\\n\\n  \\n\\nOn Sat, 29 Jun 2024 at 6:06...   \n",
       "1  |  |   \\n---  \\n  \\n  Belal, here are your lat...   \n",
       "2  | | | | | | | | |  | | | |  | | | | | Total QA...   \n",
       "3  #### Belal Mohammed-Nur, payment has been proc...   \n",
       "4  | | | | | | | | |  | | | |  | | | | | Total QA...   \n",
       "5  #### Belal Mohammed-Nur, payment has been proc...   \n",
       "6  Get excited. Deals are coming.͏ ‌   ­͏ ‌   ­͏ ...   \n",
       "7  | | | | | | | | |  | | | |  | | | | | Total QA...   \n",
       "8  #### Belal Mohammed-Nur, payment has been proc...   \n",
       "9  ---  \\n  \\nHi Belal Mohammed-Nur,\\n\\nYou’ve su...   \n",
       "\n",
       "                   from_name               from_address  \\\n",
       "0           Mohammed Alsahal      m7mdalsahal@gmail.com   \n",
       "1  csic.careersonline@ubc.ca  csic.careersonline@ubc.ca   \n",
       "2              Uber Receipts           noreply@uber.com   \n",
       "3    service@intl.paypal.com    service@intl.paypal.com   \n",
       "4              Uber Receipts           noreply@uber.com   \n",
       "5    service@intl.paypal.com    service@intl.paypal.com   \n",
       "6                  Amazon.ca       store-news@amazon.ca   \n",
       "7              Uber Receipts           noreply@uber.com   \n",
       "8    service@intl.paypal.com    service@intl.paypal.com   \n",
       "9                    Ooredoo        no_reply@ooredoo.qa   \n",
       "\n",
       "                                          to_address  ... first_in_thread  \\\n",
       "0  20180065@ariu.edu.qa, 2862633102@qq.com, ahmed...  ...           False   \n",
       "1                               belal.mnur@gmail.com  ...            True   \n",
       "2                               belal.mnur@gmail.com  ...            True   \n",
       "3                               belal.mnur@gmail.com  ...            True   \n",
       "4                               belal.mnur@gmail.com  ...            True   \n",
       "5                               belal.mnur@gmail.com  ...            True   \n",
       "6                               belal.mnur@gmail.com  ...            True   \n",
       "7                               belal.mnur@gmail.com  ...            True   \n",
       "8                               belal.mnur@gmail.com  ...            True   \n",
       "9                               belal.mnur@gmail.com  ...            True   \n",
       "\n",
       "  num_previous_messages                                          thread_id  \\\n",
       "0                   1.0  CANc0Yq7Oy8un7hjwvQsEJyum4-p905KNjfPscOpabNgtC...   \n",
       "1                   NaN                                                NaN   \n",
       "2                   NaN                                                NaN   \n",
       "3                   NaN                                                NaN   \n",
       "4                   NaN                                                NaN   \n",
       "5                   NaN                                                NaN   \n",
       "6                   NaN                                                NaN   \n",
       "7                   NaN                                                NaN   \n",
       "8                   NaN                                                NaN   \n",
       "9                   NaN                                                NaN   \n",
       "\n",
       "     sender_domain                                        all_domains  \\\n",
       "0        gmail.com  andrew.cmu.edu, ariu.edu.qa, ecommeta.uk, gmai...   \n",
       "1           ubc.ca                                  gmail.com, ubc.ca   \n",
       "2         uber.com                                gmail.com, uber.com   \n",
       "3  intl.paypal.com                         gmail.com, intl.paypal.com   \n",
       "4         uber.com                                gmail.com, uber.com   \n",
       "5  intl.paypal.com                         gmail.com, intl.paypal.com   \n",
       "6        amazon.ca                               amazon.ca, gmail.com   \n",
       "7         uber.com                                gmail.com, uber.com   \n",
       "8  intl.paypal.com                         gmail.com, intl.paypal.com   \n",
       "9       ooredoo.qa                              gmail.com, ooredoo.qa   \n",
       "\n",
       "   is_internal                                         clean_text  \\\n",
       "0        False                                          Reminder!   \n",
       "1        False  |  |   \\n---  \\n  Belal, here are your latest ...   \n",
       "2        False  | | | | | | | | |  | | | |  | | | | | Total QA...   \n",
       "3        False  #### Belal Mohammed-Nur, payment has been proc...   \n",
       "4        False  | | | | | | | | |  | | | |  | | | | | Total QA...   \n",
       "5        False  #### Belal Mohammed-Nur, payment has been proc...   \n",
       "6        False  Get excited. Deals are coming.͏ ‌   ­͏ ‌   ­͏ ...   \n",
       "7        False  | | | | | | | | |  | | | |  | | | | | Total QA...   \n",
       "8        False  #### Belal Mohammed-Nur, payment has been proc...   \n",
       "9        False  ---  \\nHi Belal Mohammed-Nur,\\nYou’ve successf...   \n",
       "\n",
       "                                     normalized_text response_time language  \n",
       "0                                             remind          None       en  \n",
       "1  belal latest job match miss match opportun job...          None       en  \n",
       "2  total qar thank ride belal hope enjoy ride mor...          None       en  \n",
       "3  belal payment process hello belal payment proc...          None       en  \n",
       "4  total qar thank ride belal hope enjoy ride aft...          None       en  \n",
       "5  belal payment process hello belal payment proc...          None       en  \n",
       "6  get excit deal today deal best seller buy huge...          None       am  \n",
       "7  total qar thank ride belal hope enjoy ride mor...          None       en  \n",
       "8  belal payment process hello belal payment proc...          None       en  \n",
       "9  hi belal success log ooredoo app juli devic se...          None       en  \n",
       "\n",
       "[10 rows x 25 columns]"
      ]
     },
     "execution_count": 14,
     "metadata": {},
     "output_type": "execute_result"
    }
   ],
   "source": [
    "message_df.head(50).to_csv(\"./data/interim/sample_preprocessed_messages.csv\")\n",
    "message_df.head(10)"
   ]
  },
  {
   "cell_type": "code",
   "execution_count": 15,
   "metadata": {},
   "outputs": [],
   "source": [
    "message_df.to_csv(\"./data/interim/preprocessed_messages.csv\")"
   ]
  },
  {
   "cell_type": "markdown",
   "metadata": {},
   "source": [
    "### Feature Engineering and Modelling"
   ]
  },
  {
   "cell_type": "markdown",
   "metadata": {},
   "source": [
    "#### Vectorization of Emails"
   ]
  },
  {
   "cell_type": "markdown",
   "metadata": {},
   "source": [
    "Vectorization - Sentence Embeddings"
   ]
  },
  {
   "cell_type": "code",
   "execution_count": 16,
   "metadata": {},
   "outputs": [
    {
     "data": {
      "application/vnd.jupyter.widget-view+json": {
       "model_id": "2a28f5145fa44ffc9d3f7e494a1ae092",
       "version_major": 2,
       "version_minor": 0
      },
      "text/plain": [
       "Batches:   0%|          | 0/158 [00:00<?, ?it/s]"
      ]
     },
     "metadata": {},
     "output_type": "display_data"
    }
   ],
   "source": [
    "vectorizer = Vectorizer(message_df)\n",
    "sentence_embeddings = vectorizer.create_sentence_embeddings()"
   ]
  },
  {
   "cell_type": "markdown",
   "metadata": {},
   "source": [
    "Adding Vectors to Chroma"
   ]
  },
  {
   "cell_type": "code",
   "execution_count": 17,
   "metadata": {},
   "outputs": [],
   "source": [
    "# vectorizer.append_to_chroma(\"tfidf\", tfidf_embeddings)\n",
    "# vectorizer.append_to_chroma(\"messages\", sentence_embeddings)"
   ]
  },
  {
   "cell_type": "markdown",
   "metadata": {},
   "source": [
    "#### Intent Analysis "
   ]
  },
  {
   "cell_type": "code",
   "execution_count": 18,
   "metadata": {},
   "outputs": [],
   "source": [
    "intent_analyzer = TopicModellor(message_df)\n",
    "message_df = intent_analyzer.cluster_topics(sentence_embeddings)"
   ]
  },
  {
   "cell_type": "code",
   "execution_count": 21,
   "metadata": {},
   "outputs": [
    {
     "ename": "ValueError",
     "evalue": "empty vocabulary; perhaps the documents only contain stop words",
     "output_type": "error",
     "traceback": [
      "\u001b[0;31m---------------------------------------------------------------------------\u001b[0m",
      "\u001b[0;31mValueError\u001b[0m                                Traceback (most recent call last)",
      "Cell \u001b[0;32mIn[21], line 1\u001b[0m\n\u001b[0;32m----> 1\u001b[0m unigram_frequencies, bigram_frequencies, trigram_frequencies \u001b[38;5;241m=\u001b[39m \u001b[43mintent_analyzer\u001b[49m\u001b[38;5;241;43m.\u001b[39;49m\u001b[43mget_word_frequencies\u001b[49m\u001b[43m(\u001b[49m\u001b[43m)\u001b[49m\n\u001b[1;32m      2\u001b[0m intent_analyzer\u001b[38;5;241m.\u001b[39mdf\n",
      "File \u001b[0;32m~/email_analysis/src/models/topic_modelling.py:94\u001b[0m, in \u001b[0;36mTopicModellor.get_word_frequencies\u001b[0;34m(self)\u001b[0m\n\u001b[1;32m     92\u001b[0m \u001b[38;5;66;03m# Get unigram, bigram and trigram frequencies for current topic\u001b[39;00m\n\u001b[1;32m     93\u001b[0m \u001b[38;5;28;01mfor\u001b[39;00m n \u001b[38;5;129;01min\u001b[39;00m \u001b[38;5;28mrange\u001b[39m(\u001b[38;5;241m1\u001b[39m, \u001b[38;5;241m4\u001b[39m):\n\u001b[0;32m---> 94\u001b[0m     vec \u001b[38;5;241m=\u001b[39m CountVectorizer(ngram_range\u001b[38;5;241m=\u001b[39m(n,n))\u001b[38;5;241m.\u001b[39mfit(topic_df[\u001b[38;5;124m\"\u001b[39m\u001b[38;5;124mclean_text\u001b[39m\u001b[38;5;124m\"\u001b[39m])\n\u001b[1;32m     95\u001b[0m     bag_of_words \u001b[38;5;241m=\u001b[39m vec\u001b[38;5;241m.\u001b[39mtransform(topic_df[\u001b[38;5;124m\"\u001b[39m\u001b[38;5;124mclean_text\u001b[39m\u001b[38;5;124m\"\u001b[39m])\n\u001b[1;32m     96\u001b[0m     sum_words \u001b[38;5;241m=\u001b[39m bag_of_words\u001b[38;5;241m.\u001b[39msum(axis\u001b[38;5;241m=\u001b[39m\u001b[38;5;241m0\u001b[39m)\n",
      "File \u001b[0;32m~/miniconda3/envs/qib/lib/python3.11/site-packages/sklearn/feature_extraction/text.py:1323\u001b[0m, in \u001b[0;36mCountVectorizer.fit\u001b[0;34m(self, raw_documents, y)\u001b[0m\n\u001b[1;32m   1307\u001b[0m \u001b[38;5;28;01mdef\u001b[39;00m \u001b[38;5;21mfit\u001b[39m(\u001b[38;5;28mself\u001b[39m, raw_documents, y\u001b[38;5;241m=\u001b[39m\u001b[38;5;28;01mNone\u001b[39;00m):\n\u001b[1;32m   1308\u001b[0m \u001b[38;5;250m    \u001b[39m\u001b[38;5;124;03m\"\"\"Learn a vocabulary dictionary of all tokens in the raw documents.\u001b[39;00m\n\u001b[1;32m   1309\u001b[0m \n\u001b[1;32m   1310\u001b[0m \u001b[38;5;124;03m    Parameters\u001b[39;00m\n\u001b[0;32m   (...)\u001b[0m\n\u001b[1;32m   1321\u001b[0m \u001b[38;5;124;03m        Fitted vectorizer.\u001b[39;00m\n\u001b[1;32m   1322\u001b[0m \u001b[38;5;124;03m    \"\"\"\u001b[39;00m\n\u001b[0;32m-> 1323\u001b[0m     \u001b[38;5;28;43mself\u001b[39;49m\u001b[38;5;241;43m.\u001b[39;49m\u001b[43mfit_transform\u001b[49m\u001b[43m(\u001b[49m\u001b[43mraw_documents\u001b[49m\u001b[43m)\u001b[49m\n\u001b[1;32m   1324\u001b[0m     \u001b[38;5;28;01mreturn\u001b[39;00m \u001b[38;5;28mself\u001b[39m\n",
      "File \u001b[0;32m~/miniconda3/envs/qib/lib/python3.11/site-packages/sklearn/base.py:1473\u001b[0m, in \u001b[0;36m_fit_context.<locals>.decorator.<locals>.wrapper\u001b[0;34m(estimator, *args, **kwargs)\u001b[0m\n\u001b[1;32m   1466\u001b[0m     estimator\u001b[38;5;241m.\u001b[39m_validate_params()\n\u001b[1;32m   1468\u001b[0m \u001b[38;5;28;01mwith\u001b[39;00m config_context(\n\u001b[1;32m   1469\u001b[0m     skip_parameter_validation\u001b[38;5;241m=\u001b[39m(\n\u001b[1;32m   1470\u001b[0m         prefer_skip_nested_validation \u001b[38;5;129;01mor\u001b[39;00m global_skip_validation\n\u001b[1;32m   1471\u001b[0m     )\n\u001b[1;32m   1472\u001b[0m ):\n\u001b[0;32m-> 1473\u001b[0m     \u001b[38;5;28;01mreturn\u001b[39;00m \u001b[43mfit_method\u001b[49m\u001b[43m(\u001b[49m\u001b[43mestimator\u001b[49m\u001b[43m,\u001b[49m\u001b[43m \u001b[49m\u001b[38;5;241;43m*\u001b[39;49m\u001b[43margs\u001b[49m\u001b[43m,\u001b[49m\u001b[43m \u001b[49m\u001b[38;5;241;43m*\u001b[39;49m\u001b[38;5;241;43m*\u001b[39;49m\u001b[43mkwargs\u001b[49m\u001b[43m)\u001b[49m\n",
      "File \u001b[0;32m~/miniconda3/envs/qib/lib/python3.11/site-packages/sklearn/feature_extraction/text.py:1372\u001b[0m, in \u001b[0;36mCountVectorizer.fit_transform\u001b[0;34m(self, raw_documents, y)\u001b[0m\n\u001b[1;32m   1364\u001b[0m             warnings\u001b[38;5;241m.\u001b[39mwarn(\n\u001b[1;32m   1365\u001b[0m                 \u001b[38;5;124m\"\u001b[39m\u001b[38;5;124mUpper case characters found in\u001b[39m\u001b[38;5;124m\"\u001b[39m\n\u001b[1;32m   1366\u001b[0m                 \u001b[38;5;124m\"\u001b[39m\u001b[38;5;124m vocabulary while \u001b[39m\u001b[38;5;124m'\u001b[39m\u001b[38;5;124mlowercase\u001b[39m\u001b[38;5;124m'\u001b[39m\u001b[38;5;124m\"\u001b[39m\n\u001b[1;32m   1367\u001b[0m                 \u001b[38;5;124m\"\u001b[39m\u001b[38;5;124m is True. These entries will not\u001b[39m\u001b[38;5;124m\"\u001b[39m\n\u001b[1;32m   1368\u001b[0m                 \u001b[38;5;124m\"\u001b[39m\u001b[38;5;124m be matched with any documents\u001b[39m\u001b[38;5;124m\"\u001b[39m\n\u001b[1;32m   1369\u001b[0m             )\n\u001b[1;32m   1370\u001b[0m             \u001b[38;5;28;01mbreak\u001b[39;00m\n\u001b[0;32m-> 1372\u001b[0m vocabulary, X \u001b[38;5;241m=\u001b[39m \u001b[38;5;28;43mself\u001b[39;49m\u001b[38;5;241;43m.\u001b[39;49m\u001b[43m_count_vocab\u001b[49m\u001b[43m(\u001b[49m\u001b[43mraw_documents\u001b[49m\u001b[43m,\u001b[49m\u001b[43m \u001b[49m\u001b[38;5;28;43mself\u001b[39;49m\u001b[38;5;241;43m.\u001b[39;49m\u001b[43mfixed_vocabulary_\u001b[49m\u001b[43m)\u001b[49m\n\u001b[1;32m   1374\u001b[0m \u001b[38;5;28;01mif\u001b[39;00m \u001b[38;5;28mself\u001b[39m\u001b[38;5;241m.\u001b[39mbinary:\n\u001b[1;32m   1375\u001b[0m     X\u001b[38;5;241m.\u001b[39mdata\u001b[38;5;241m.\u001b[39mfill(\u001b[38;5;241m1\u001b[39m)\n",
      "File \u001b[0;32m~/miniconda3/envs/qib/lib/python3.11/site-packages/sklearn/feature_extraction/text.py:1278\u001b[0m, in \u001b[0;36mCountVectorizer._count_vocab\u001b[0;34m(self, raw_documents, fixed_vocab)\u001b[0m\n\u001b[1;32m   1276\u001b[0m     vocabulary \u001b[38;5;241m=\u001b[39m \u001b[38;5;28mdict\u001b[39m(vocabulary)\n\u001b[1;32m   1277\u001b[0m     \u001b[38;5;28;01mif\u001b[39;00m \u001b[38;5;129;01mnot\u001b[39;00m vocabulary:\n\u001b[0;32m-> 1278\u001b[0m         \u001b[38;5;28;01mraise\u001b[39;00m \u001b[38;5;167;01mValueError\u001b[39;00m(\n\u001b[1;32m   1279\u001b[0m             \u001b[38;5;124m\"\u001b[39m\u001b[38;5;124mempty vocabulary; perhaps the documents only contain stop words\u001b[39m\u001b[38;5;124m\"\u001b[39m\n\u001b[1;32m   1280\u001b[0m         )\n\u001b[1;32m   1282\u001b[0m \u001b[38;5;28;01mif\u001b[39;00m indptr[\u001b[38;5;241m-\u001b[39m\u001b[38;5;241m1\u001b[39m] \u001b[38;5;241m>\u001b[39m np\u001b[38;5;241m.\u001b[39miinfo(np\u001b[38;5;241m.\u001b[39mint32)\u001b[38;5;241m.\u001b[39mmax:  \u001b[38;5;66;03m# = 2**31 - 1\u001b[39;00m\n\u001b[1;32m   1283\u001b[0m     \u001b[38;5;28;01mif\u001b[39;00m _IS_32BIT:\n",
      "\u001b[0;31mValueError\u001b[0m: empty vocabulary; perhaps the documents only contain stop words"
     ]
    }
   ],
   "source": [
    "unigram_frequencies, bigram_frequencies, trigram_frequencies = intent_analyzer.get_word_frequencies()"
   ]
  },
  {
   "cell_type": "markdown",
   "metadata": {},
   "source": [
    "Top 10 Clusters and Their Sizes"
   ]
  },
  {
   "cell_type": "code",
   "execution_count": null,
   "metadata": {},
   "outputs": [
    {
     "data": {
      "text/plain": [
       "cluster\n",
       "11    4781\n",
       "51    2664\n",
       "49    2598\n",
       "48    2512\n",
       "21    2335\n",
       "78    2199\n",
       "54    1680\n",
       "29    1591\n",
       "53    1432\n",
       "64    1372\n",
       "Name: count, dtype: int64"
      ]
     },
     "execution_count": 20,
     "metadata": {},
     "output_type": "execute_result"
    }
   ],
   "source": [
    "bigram_frequencies.loc[bigram_frequencies['topic_id'] != -1]['topic_id'].value_counts().head(10)"
   ]
  },
  {
   "cell_type": "markdown",
   "metadata": {},
   "source": [
    "Get the Descriptions for Each Topic"
   ]
  },
  {
   "cell_type": "code",
   "execution_count": null,
   "metadata": {},
   "outputs": [
    {
     "data": {
      "text/html": [
       "<div>\n",
       "<style scoped>\n",
       "    .dataframe tbody tr th:only-of-type {\n",
       "        vertical-align: middle;\n",
       "    }\n",
       "\n",
       "    .dataframe tbody tr th {\n",
       "        vertical-align: top;\n",
       "    }\n",
       "\n",
       "    .dataframe thead th {\n",
       "        text-align: right;\n",
       "    }\n",
       "</style>\n",
       "<table border=\"1\" class=\"dataframe\">\n",
       "  <thead>\n",
       "    <tr style=\"text-align: right;\">\n",
       "      <th></th>\n",
       "      <th>cluster</th>\n",
       "      <th>description</th>\n",
       "    </tr>\n",
       "  </thead>\n",
       "  <tbody>\n",
       "    <tr>\n",
       "      <th>0</th>\n",
       "      <td>4</td>\n",
       "      <td>This is an email notification from OverDrive, ...</td>\n",
       "    </tr>\n",
       "    <tr>\n",
       "      <th>1</th>\n",
       "      <td>20</td>\n",
       "      <td>Announcements and updates about the Open Sourc...</td>\n",
       "    </tr>\n",
       "    <tr>\n",
       "      <th>2</th>\n",
       "      <td>34</td>\n",
       "      <td>Website upgrade and promotional offers.</td>\n",
       "    </tr>\n",
       "    <tr>\n",
       "      <th>3</th>\n",
       "      <td>42</td>\n",
       "      <td>Promotions and sales of designer home furnishi...</td>\n",
       "    </tr>\n",
       "    <tr>\n",
       "      <th>4</th>\n",
       "      <td>1</td>\n",
       "      <td>It seems you forgot to provide the email sampl...</td>\n",
       "    </tr>\n",
       "    <tr>\n",
       "      <th>5</th>\n",
       "      <td>49</td>\n",
       "      <td>Notifications and updates from Sketchfab.</td>\n",
       "    </tr>\n",
       "    <tr>\n",
       "      <th>6</th>\n",
       "      <td>44</td>\n",
       "      <td>Updates to Photon Unity Networking software.</td>\n",
       "    </tr>\n",
       "    <tr>\n",
       "      <th>7</th>\n",
       "      <td>21</td>\n",
       "      <td>This is a well-designed and informative newsle...</td>\n",
       "    </tr>\n",
       "    <tr>\n",
       "      <th>8</th>\n",
       "      <td>43</td>\n",
       "      <td>Interior design and 3D model resources.</td>\n",
       "    </tr>\n",
       "    <tr>\n",
       "      <th>9</th>\n",
       "      <td>45</td>\n",
       "      <td>Unity Asset Store updates and notifications.</td>\n",
       "    </tr>\n",
       "  </tbody>\n",
       "</table>\n",
       "</div>"
      ],
      "text/plain": [
       "   cluster                                        description\n",
       "0        4  This is an email notification from OverDrive, ...\n",
       "1       20  Announcements and updates about the Open Sourc...\n",
       "2       34            Website upgrade and promotional offers.\n",
       "3       42  Promotions and sales of designer home furnishi...\n",
       "4        1  It seems you forgot to provide the email sampl...\n",
       "5       49          Notifications and updates from Sketchfab.\n",
       "6       44       Updates to Photon Unity Networking software.\n",
       "7       21  This is a well-designed and informative newsle...\n",
       "8       43            Interior design and 3D model resources.\n",
       "9       45       Unity Asset Store updates and notifications."
      ]
     },
     "execution_count": 21,
     "metadata": {},
     "output_type": "execute_result"
    }
   ],
   "source": [
    "cluster_descriptions = intent_analyzer.get_cluster_descriptions()\n",
    "cluster_descriptions.head(10)"
   ]
  },
  {
   "cell_type": "markdown",
   "metadata": {},
   "source": [
    "Showcase Word Cloud per Cluster"
   ]
  },
  {
   "cell_type": "code",
   "execution_count": null,
   "metadata": {},
   "outputs": [
    {
     "data": {
      "text/plain": [
       "<matplotlib.image.AxesImage at 0x7f6b5a9b4d90>"
      ]
     },
     "execution_count": 22,
     "metadata": {},
     "output_type": "execute_result"
    },
    {
     "data": {
      "image/png": "[encoded data removed]",
      "text/plain": [
       "<Figure size 640x480 with 1 Axes>"
      ]
     },
     "metadata": {},
     "output_type": "display_data"
    }
   ],
   "source": [
    "plt.axis(\"off\")\n",
    "plt.imshow(intent_analyzer.generate_word_cloud(77))"
   ]
  },
  {
   "cell_type": "markdown",
   "metadata": {},
   "source": [
    "Export to CSV"
   ]
  },
  {
   "cell_type": "code",
   "execution_count": null,
   "metadata": {},
   "outputs": [],
   "source": [
    "message_df.to_csv(\"./data/processed/messages.csv\", index=False)"
   ]
  },
  {
   "cell_type": "markdown",
   "metadata": {},
   "source": [
    "#### Sentiment Analysis and Trajectory Within Threads"
   ]
  },
  {
   "cell_type": "markdown",
   "metadata": {},
   "source": [
    "#### Message Classification"
   ]
  },
  {
   "cell_type": "code",
   "execution_count": null,
   "metadata": {},
   "outputs": [],
   "source": [
    "message_df = classify_messages(message_df)"
   ]
  },
  {
   "cell_type": "markdown",
   "metadata": {},
   "source": [
    "## Analysis"
   ]
  },
  {
   "cell_type": "markdown",
   "metadata": {},
   "source": [
    "### Top Word Analysis"
   ]
  }
 ],
 "metadata": {
  "kernelspec": {
   "display_name": "qib",
   "language": "python",
   "name": "python3"
  },
  "language_info": {
   "codemirror_mode": {
    "name": "ipython",
    "version": 3
   },
   "file_extension": ".py",
   "mimetype": "text/x-python",
   "name": "python",
   "nbconvert_exporter": "python",
   "pygments_lexer": "ipython3",
   "version": "3.11.4"
  }
 },
 "nbformat": 4,
 "nbformat_minor": 2
}
