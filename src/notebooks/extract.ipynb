{
 "cells": [
  {
   "cell_type": "markdown",
   "metadata": {},
   "source": [
    "# ETL Pipeline: Extract"
   ]
  },
  {
   "cell_type": "markdown",
   "metadata": {},
   "source": [
    "## Imports"
   ]
  },
  {
   "cell_type": "code",
   "execution_count": 1,
   "metadata": {},
   "outputs": [],
   "source": [
    "import sys  \n",
    "sys.path.insert(1, '../..')"
   ]
  },
  {
   "cell_type": "code",
   "execution_count": 2,
   "metadata": {},
   "outputs": [
    {
     "name": "stdout",
     "output_type": "stream",
     "text": [
      "Process ID: 96490\n"
     ]
    }
   ],
   "source": [
    "import logging\n",
    "import os\n",
    "\n",
    "import matplotlib.pyplot as plt\n",
    "import pandas as pd\n",
    "from tqdm import tqdm\n",
    "import datetime\n",
    "\n",
    "from src.extract.imap_extractor import IMAPExtractor\n",
    "from src.extract.pst_extractor import PSTExtractor\n",
    "from src.transform.message_transformer import get_language, get_response_time, clean_text\n",
    "\n",
    "logging.basicConfig(level=logging.INFO)\n",
    "tqdm.pandas()\n",
    "\n",
    "print(f\"Process ID: {os.getpid()}\")"
   ]
  },
  {
   "cell_type": "code",
   "execution_count": 3,
   "metadata": {},
   "outputs": [],
   "source": [
    "DATA_DIR = \"../../data\"\n",
    "DATE = datetime.datetime.now().strftime(\"%Y-%m-%d\")"
   ]
  },
  {
   "cell_type": "markdown",
   "metadata": {},
   "source": [
    "## Extraction"
   ]
  },
  {
   "cell_type": "markdown",
   "metadata": {},
   "source": [
    "### Ingest from PST"
   ]
  },
  {
   "cell_type": "code",
   "execution_count": 4,
   "metadata": {},
   "outputs": [
    {
     "name": "stderr",
     "output_type": "stream",
     "text": [
      "INFO:root:Opening ../../data/raw/emails.pst for extraction\n",
      "INFO:root:Found 5039 messages in total\n",
      "INFO:root:Sampling 1000 messages\n",
      "INFO:root:Parsing messages\n",
      "INFO:root:Using 8 processes with a chunk size of 125\n",
      "100%|██████████| 1000/1000 [00:01<00:00, 857.72it/s]\n",
      "INFO:root:Parsing email threading\n",
      "INFO:root:Parsing domain info\n",
      "INFO:root:Extracting missing email ids\n",
      "INFO:root:Extracted 1000 messages\n"
     ]
    }
   ],
   "source": [
    "pst_dir = os.path.normpath(f\"{DATA_DIR}/raw\")\n",
    "pst_file_paths = [os.path.normpath(pst_dir + \"/\" + i) for i in os.listdir(pst_dir)]\n",
    "pst_extractor = PSTExtractor(pst_file_paths, sample=1000)\n",
    "pst_message_df = pst_extractor.message_df"
   ]
  },
  {
   "cell_type": "markdown",
   "metadata": {},
   "source": [
    "Get missing emails."
   ]
  },
  {
   "cell_type": "code",
   "execution_count": 5,
   "metadata": {},
   "outputs": [
    {
     "name": "stdout",
     "output_type": "stream",
     "text": [
      "177\n"
     ]
    }
   ],
   "source": [
    "missing_emails = pst_extractor.missing_email_ids\n",
    "print(len(missing_emails))"
   ]
  },
  {
   "cell_type": "markdown",
   "metadata": {},
   "source": [
    "### Ingest Missing Emails from IMAP Server"
   ]
  },
  {
   "cell_type": "markdown",
   "metadata": {},
   "source": [
    "IMAP Server Setup"
   ]
  },
  {
   "cell_type": "code",
   "execution_count": 6,
   "metadata": {},
   "outputs": [],
   "source": [
    "# EMAIL_ACCOUNT = ''\n",
    "# PASSWORD = ''\n",
    "# SERVER = 'imap.gmail.com'\n",
    "# imap_extractor = IMAPExtractor(EMAIL_ACCOUNT, PASSWORD, SERVER)"
   ]
  },
  {
   "cell_type": "markdown",
   "metadata": {},
   "source": [
    "Available Mailboxes"
   ]
  },
  {
   "cell_type": "code",
   "execution_count": 7,
   "metadata": {},
   "outputs": [],
   "source": [
    "# imap_extractor.list_mailboxes()"
   ]
  },
  {
   "cell_type": "markdown",
   "metadata": {},
   "source": [
    "Fetch Missing Emails"
   ]
  },
  {
   "cell_type": "code",
   "execution_count": 8,
   "metadata": {},
   "outputs": [],
   "source": [
    "# mailboxes_to_fetch = [\"INBOX\", \"\\\"[Gmail]/Sent Mail\\\"\"]\n",
    "# imap_message_df = imap_extractor.extract_messages_from_imap(mailboxes_to_fetch, missing_emails, None)"
   ]
  },
  {
   "cell_type": "markdown",
   "metadata": {},
   "source": [
    "Export to CSV"
   ]
  },
  {
   "cell_type": "code",
   "execution_count": 9,
   "metadata": {},
   "outputs": [],
   "source": [
    "\n",
    "pst_message_df.to_csv(os.path.normpath(f\"{DATA_DIR}/interim/pst_emails_{DATE}.csv\"), index=False)\n",
    "# imap_message_df.to_csv(\"./data/interim/imap_emails.csv\", index=False)"
   ]
  },
  {
   "cell_type": "markdown",
   "metadata": {},
   "source": [
    "Load from CSV"
   ]
  },
  {
   "cell_type": "code",
   "execution_count": 10,
   "metadata": {},
   "outputs": [],
   "source": [
    "pst_message_df = pd.read_csv(os.path.normpath(f\"{DATA_DIR}/interim/pst_emails_{DATE}.csv\"))\n",
    "# imap_message_df = pd.read_csv(\"./data/interim/imap_emails.csv\")"
   ]
  },
  {
   "cell_type": "markdown",
   "metadata": {},
   "source": [
    "### Preprocessing"
   ]
  },
  {
   "cell_type": "markdown",
   "metadata": {},
   "source": [
    "Concatenate PST and IMAP Messages"
   ]
  },
  {
   "cell_type": "code",
   "execution_count": 11,
   "metadata": {},
   "outputs": [],
   "source": [
    "# message_df = pd.concat([pst_message_df, imap_message_df], ignore_index=True)\n",
    "message_df = pst_message_df"
   ]
  },
  {
   "cell_type": "markdown",
   "metadata": {},
   "source": [
    "Clean Text"
   ]
  },
  {
   "cell_type": "code",
   "execution_count": 12,
   "metadata": {},
   "outputs": [],
   "source": [
    "message_df['clean_text'] = message_df['plain_text_body'].progress_apply(lambda x: clean_text(x))"
   ]
  },
  {
   "cell_type": "markdown",
   "metadata": {},
   "source": [
    "Response Times"
   ]
  },
  {
   "cell_type": "code",
   "execution_count": 14,
   "metadata": {},
   "outputs": [],
   "source": [
    "message_df = get_response_time(message_df)"
   ]
  },
  {
   "cell_type": "markdown",
   "metadata": {},
   "source": [
    "Language Detection"
   ]
  },
  {
   "cell_type": "code",
   "execution_count": 15,
   "metadata": {},
   "outputs": [
    {
     "name": "stderr",
     "output_type": "stream",
     "text": [
      "100%|██████████| 1000/1000 [00:03<00:00, 270.94it/s]\n"
     ]
    }
   ],
   "source": [
    "message_df[\"language\"] = message_df[\"clean_text\"].progress_apply(get_language)"
   ]
  },
  {
   "cell_type": "markdown",
   "metadata": {},
   "source": [
    "Sample and Export Preprocessed Messages"
   ]
  },
  {
   "cell_type": "code",
   "execution_count": 16,
   "metadata": {},
   "outputs": [
    {
     "data": {
      "text/html": [
       "<div>\n",
       "<style scoped>\n",
       "    .dataframe tbody tr th:only-of-type {\n",
       "        vertical-align: middle;\n",
       "    }\n",
       "\n",
       "    .dataframe tbody tr th {\n",
       "        vertical-align: top;\n",
       "    }\n",
       "\n",
       "    .dataframe thead th {\n",
       "        text-align: right;\n",
       "    }\n",
       "</style>\n",
       "<table border=\"1\" class=\"dataframe\">\n",
       "  <thead>\n",
       "    <tr style=\"text-align: right;\">\n",
       "      <th></th>\n",
       "      <th>message_id</th>\n",
       "      <th>subject</th>\n",
       "      <th>subject_prefix</th>\n",
       "      <th>submit_time</th>\n",
       "      <th>delivery_time</th>\n",
       "      <th>html_body</th>\n",
       "      <th>plain_text_body</th>\n",
       "      <th>from_name</th>\n",
       "      <th>from_address</th>\n",
       "      <th>to_address</th>\n",
       "      <th>...</th>\n",
       "      <th>references</th>\n",
       "      <th>first_in_thread</th>\n",
       "      <th>num_previous_messages</th>\n",
       "      <th>thread_id</th>\n",
       "      <th>sender_domain</th>\n",
       "      <th>all_domains</th>\n",
       "      <th>is_internal</th>\n",
       "      <th>clean_text</th>\n",
       "      <th>response_time</th>\n",
       "      <th>language</th>\n",
       "    </tr>\n",
       "  </thead>\n",
       "  <tbody>\n",
       "    <tr>\n",
       "      <th>0</th>\n",
       "      <td>92e23c01.AF0AACz7vhgAAAAAeZ4AAAAMsjwAAAAAAAIAA...</td>\n",
       "      <td>Win a $3000 VR setup in our Medieval Fantasy c...</td>\n",
       "      <td>NaN</td>\n",
       "      <td>2017-10-04 16:40:39+00:00</td>\n",
       "      <td>2017-10-04 17:03:45+00:00</td>\n",
       "      <td>&lt;!DOCTYPE HTML&gt;\\r\\n&lt;html lang=\"en\"&gt;&lt;head&gt;&lt;meta...</td>\n",
       "      <td>NaN</td>\n",
       "      <td>Sketchfab</td>\n",
       "      <td>hello@sketchfab.com</td>\n",
       "      <td>belal.mnur@gmail.com</td>\n",
       "      <td>...</td>\n",
       "      <td>NaN</td>\n",
       "      <td>True</td>\n",
       "      <td>NaN</td>\n",
       "      <td>NaN</td>\n",
       "      <td>sketchfab.com</td>\n",
       "      <td>gmail.com, sketchfab.com</td>\n",
       "      <td>False</td>\n",
       "      <td></td>\n",
       "      <td>None</td>\n",
       "      <td>en</td>\n",
       "    </tr>\n",
       "    <tr>\n",
       "      <th>1</th>\n",
       "      <td>59d60faa744e3_77b83f93a46a756c960112@cults.mail</td>\n",
       "      <td>👍 Welcome to Cults.</td>\n",
       "      <td>NaN</td>\n",
       "      <td>2017-10-05 10:55:38+00:00</td>\n",
       "      <td>2017-10-05 11:15:52+00:00</td>\n",
       "      <td>&lt;!DOCTYPE html PUBLIC \"-//W3C//DTD XHTML 1.0 S...</td>\n",
       "      <td>NaN</td>\n",
       "      <td>Cults.</td>\n",
       "      <td>hello@cults3d.com</td>\n",
       "      <td>belal.mnur@gmail.com</td>\n",
       "      <td>...</td>\n",
       "      <td>NaN</td>\n",
       "      <td>True</td>\n",
       "      <td>NaN</td>\n",
       "      <td>NaN</td>\n",
       "      <td>cults3d.com</td>\n",
       "      <td>cults3d.com, gmail.com</td>\n",
       "      <td>False</td>\n",
       "      <td></td>\n",
       "      <td>None</td>\n",
       "      <td>en</td>\n",
       "    </tr>\n",
       "    <tr>\n",
       "      <th>2</th>\n",
       "      <td>0.1.113.5D1.1D33DE432132706.0@omp.emails.wix.com</td>\n",
       "      <td>Hey, these are for you ❤</td>\n",
       "      <td>NaN</td>\n",
       "      <td>2017-10-05 14:14:02+00:00</td>\n",
       "      <td>2017-10-05 15:37:32+00:00</td>\n",
       "      <td>&lt;!DOCTYPE html&gt;&lt;html&gt;&lt;head&gt; &lt;meta name=\"viewpo...</td>\n",
       "      <td>NaN</td>\n",
       "      <td>Wix.com</td>\n",
       "      <td>wix-team@emails.wix.com</td>\n",
       "      <td>belal.mnur@gmail.com</td>\n",
       "      <td>...</td>\n",
       "      <td>NaN</td>\n",
       "      <td>True</td>\n",
       "      <td>NaN</td>\n",
       "      <td>NaN</td>\n",
       "      <td>emails.wix.com</td>\n",
       "      <td>emails.wix.com, gmail.com</td>\n",
       "      <td>False</td>\n",
       "      <td></td>\n",
       "      <td>None</td>\n",
       "      <td>en</td>\n",
       "    </tr>\n",
       "    <tr>\n",
       "      <th>3</th>\n",
       "      <td>30292706.20171006134629.59d789353b0034.2843460...</td>\n",
       "      <td>Welcome to Momentum!</td>\n",
       "      <td>NaN</td>\n",
       "      <td>2017-10-06 13:46:29+00:00</td>\n",
       "      <td>2017-10-06 13:46:52+00:00</td>\n",
       "      <td>&lt;!DOCTYPE html PUBLIC \"-//W3C//DTD XHTML 1.0 T...</td>\n",
       "      <td>NaN</td>\n",
       "      <td>Momentum Dash</td>\n",
       "      <td>help@momentumdash.com</td>\n",
       "      <td>belal.mnur@gmail.com</td>\n",
       "      <td>...</td>\n",
       "      <td>NaN</td>\n",
       "      <td>True</td>\n",
       "      <td>NaN</td>\n",
       "      <td>NaN</td>\n",
       "      <td>momentumdash.com</td>\n",
       "      <td>gmail.com, momentumdash.com</td>\n",
       "      <td>False</td>\n",
       "      <td></td>\n",
       "      <td>None</td>\n",
       "      <td>en</td>\n",
       "    </tr>\n",
       "    <tr>\n",
       "      <th>4</th>\n",
       "      <td>9piQ5GgMSS-WTSWrZCcxPw@ismtpd0003p1iad1.sendgr...</td>\n",
       "      <td>24 hour Flash Sale! Save 20%!</td>\n",
       "      <td>NaN</td>\n",
       "      <td>2017-10-07 14:15:37+00:00</td>\n",
       "      <td>2017-10-07 14:20:18+00:00</td>\n",
       "      <td>&lt;!DOCTYPE html PUBLIC \"-//W3C//DTD XHTML 1.0 T...</td>\n",
       "      <td>NaN</td>\n",
       "      <td>TurboSquid</td>\n",
       "      <td>ts-no-reply@turbosquid.com</td>\n",
       "      <td>belal.mnur@gmail.com</td>\n",
       "      <td>...</td>\n",
       "      <td>NaN</td>\n",
       "      <td>True</td>\n",
       "      <td>NaN</td>\n",
       "      <td>NaN</td>\n",
       "      <td>turbosquid.com</td>\n",
       "      <td>gmail.com, turbosquid.com</td>\n",
       "      <td>False</td>\n",
       "      <td></td>\n",
       "      <td>None</td>\n",
       "      <td>en</td>\n",
       "    </tr>\n",
       "    <tr>\n",
       "      <th>5</th>\n",
       "      <td>64fa4a39-559d-4597-bc11-0a7fda1592b7@ind1s01mt...</td>\n",
       "      <td>Your OverDrive Trending Titles (Week of 10/7)</td>\n",
       "      <td>NaN</td>\n",
       "      <td>2017-10-07 14:03:26+00:00</td>\n",
       "      <td>2017-10-07 14:30:28+00:00</td>\n",
       "      <td>&lt;!DOCTYPE html PUBLIC \"-//W3C//DTD XHTML 1.0 T...</td>\n",
       "      <td>NaN</td>\n",
       "      <td>OverDrive</td>\n",
       "      <td>hello@e.overdrive.com</td>\n",
       "      <td>belal.mnur@gmail.com</td>\n",
       "      <td>...</td>\n",
       "      <td>NaN</td>\n",
       "      <td>True</td>\n",
       "      <td>NaN</td>\n",
       "      <td>NaN</td>\n",
       "      <td>e.overdrive.com</td>\n",
       "      <td>e.overdrive.com, gmail.com</td>\n",
       "      <td>False</td>\n",
       "      <td></td>\n",
       "      <td>None</td>\n",
       "      <td>en</td>\n",
       "    </tr>\n",
       "    <tr>\n",
       "      <th>6</th>\n",
       "      <td>0D3ED5E3-77FB-47ED-B851-41C5DCCFBB25@gmail.com</td>\n",
       "      <td>MUN</td>\n",
       "      <td>NaN</td>\n",
       "      <td>2017-10-08 20:25:37+00:00</td>\n",
       "      <td>2017-10-08 20:25:45+00:00</td>\n",
       "      <td>&lt;html&gt;&lt;head&gt;&lt;meta http-equiv=\"content-type\" co...</td>\n",
       "      <td>NaN</td>\n",
       "      <td>Samah Gamar</td>\n",
       "      <td>samah.gamar@gmail.com</td>\n",
       "      <td>belal.mnur@gmail.com</td>\n",
       "      <td>...</td>\n",
       "      <td>NaN</td>\n",
       "      <td>True</td>\n",
       "      <td>NaN</td>\n",
       "      <td>NaN</td>\n",
       "      <td>gmail.com</td>\n",
       "      <td>gmail.com</td>\n",
       "      <td>False</td>\n",
       "      <td></td>\n",
       "      <td>None</td>\n",
       "      <td>en</td>\n",
       "    </tr>\n",
       "    <tr>\n",
       "      <th>7</th>\n",
       "      <td>427809C8-F4BA-4E73-A447-786F125511EA@gmail.com</td>\n",
       "      <td>Fwd: State-of-the Art Newsroom Fit For A Royal...</td>\n",
       "      <td>fwd:</td>\n",
       "      <td>2017-10-09 16:44:19+00:00</td>\n",
       "      <td>2017-10-09 16:44:22+00:00</td>\n",
       "      <td>&lt;html&gt;&lt;head&gt;&lt;meta http-equiv=\"content-type\" co...</td>\n",
       "      <td>NaN</td>\n",
       "      <td>Samah Gamar</td>\n",
       "      <td>samah.gamar@gmail.com</td>\n",
       "      <td>belal.mnur@gmail.com</td>\n",
       "      <td>...</td>\n",
       "      <td>d4de7ff4-bbe1-4a62-8693-8417a0f73d7a@technolut...</td>\n",
       "      <td>False</td>\n",
       "      <td>1.0</td>\n",
       "      <td>d4de7ff4-bbe1-4a62-8693-8417a0f73d7a@technolut...</td>\n",
       "      <td>gmail.com</td>\n",
       "      <td>gmail.com</td>\n",
       "      <td>False</td>\n",
       "      <td></td>\n",
       "      <td>None</td>\n",
       "      <td>en</td>\n",
       "    </tr>\n",
       "    <tr>\n",
       "      <th>8</th>\n",
       "      <td>20171010072441.11348.75661@localhost.localdomain</td>\n",
       "      <td>Your Parallels Account was signed in to from a...</td>\n",
       "      <td>NaN</td>\n",
       "      <td>2017-10-10 07:24:41+00:00</td>\n",
       "      <td>2017-10-10 07:24:42+00:00</td>\n",
       "      <td>\\r\\n\\r\\n&lt;html style=\"padding:0; margin:0; widt...</td>\n",
       "      <td>NaN</td>\n",
       "      <td>no-reply@parallels.com</td>\n",
       "      <td>no-reply@parallels.com</td>\n",
       "      <td>belal.mnur@gmail.com</td>\n",
       "      <td>...</td>\n",
       "      <td>NaN</td>\n",
       "      <td>True</td>\n",
       "      <td>NaN</td>\n",
       "      <td>NaN</td>\n",
       "      <td>parallels.com</td>\n",
       "      <td>gmail.com, parallels.com</td>\n",
       "      <td>False</td>\n",
       "      <td></td>\n",
       "      <td>None</td>\n",
       "      <td>en</td>\n",
       "    </tr>\n",
       "    <tr>\n",
       "      <th>9</th>\n",
       "      <td>20171010073637.12829.16020@localhost.localdomain</td>\n",
       "      <td>Confirm that you want to sign in to your Paral...</td>\n",
       "      <td>NaN</td>\n",
       "      <td>2017-10-10 07:36:37+00:00</td>\n",
       "      <td>2017-10-10 07:36:39+00:00</td>\n",
       "      <td>\\r\\n\\r\\n&lt;html style=\"padding:0; margin:0; widt...</td>\n",
       "      <td>NaN</td>\n",
       "      <td>no-reply@parallels.com</td>\n",
       "      <td>no-reply@parallels.com</td>\n",
       "      <td>belal.mnur@gmail.com</td>\n",
       "      <td>...</td>\n",
       "      <td>NaN</td>\n",
       "      <td>True</td>\n",
       "      <td>NaN</td>\n",
       "      <td>NaN</td>\n",
       "      <td>parallels.com</td>\n",
       "      <td>gmail.com, parallels.com</td>\n",
       "      <td>False</td>\n",
       "      <td></td>\n",
       "      <td>None</td>\n",
       "      <td>en</td>\n",
       "    </tr>\n",
       "  </tbody>\n",
       "</table>\n",
       "<p>10 rows × 23 columns</p>\n",
       "</div>"
      ],
      "text/plain": [
       "                                          message_id  \\\n",
       "0  92e23c01.AF0AACz7vhgAAAAAeZ4AAAAMsjwAAAAAAAIAA...   \n",
       "1    59d60faa744e3_77b83f93a46a756c960112@cults.mail   \n",
       "2   0.1.113.5D1.1D33DE432132706.0@omp.emails.wix.com   \n",
       "3  30292706.20171006134629.59d789353b0034.2843460...   \n",
       "4  9piQ5GgMSS-WTSWrZCcxPw@ismtpd0003p1iad1.sendgr...   \n",
       "5  64fa4a39-559d-4597-bc11-0a7fda1592b7@ind1s01mt...   \n",
       "6     0D3ED5E3-77FB-47ED-B851-41C5DCCFBB25@gmail.com   \n",
       "7     427809C8-F4BA-4E73-A447-786F125511EA@gmail.com   \n",
       "8   20171010072441.11348.75661@localhost.localdomain   \n",
       "9   20171010073637.12829.16020@localhost.localdomain   \n",
       "\n",
       "                                             subject subject_prefix  \\\n",
       "0  Win a $3000 VR setup in our Medieval Fantasy c...            NaN   \n",
       "1                                👍 Welcome to Cults.            NaN   \n",
       "2                           Hey, these are for you ❤            NaN   \n",
       "3                               Welcome to Momentum!            NaN   \n",
       "4                      24 hour Flash Sale! Save 20%!            NaN   \n",
       "5      Your OverDrive Trending Titles (Week of 10/7)            NaN   \n",
       "6                                                MUN            NaN   \n",
       "7  Fwd: State-of-the Art Newsroom Fit For A Royal...           fwd:   \n",
       "8  Your Parallels Account was signed in to from a...            NaN   \n",
       "9  Confirm that you want to sign in to your Paral...            NaN   \n",
       "\n",
       "                 submit_time              delivery_time  \\\n",
       "0  2017-10-04 16:40:39+00:00  2017-10-04 17:03:45+00:00   \n",
       "1  2017-10-05 10:55:38+00:00  2017-10-05 11:15:52+00:00   \n",
       "2  2017-10-05 14:14:02+00:00  2017-10-05 15:37:32+00:00   \n",
       "3  2017-10-06 13:46:29+00:00  2017-10-06 13:46:52+00:00   \n",
       "4  2017-10-07 14:15:37+00:00  2017-10-07 14:20:18+00:00   \n",
       "5  2017-10-07 14:03:26+00:00  2017-10-07 14:30:28+00:00   \n",
       "6  2017-10-08 20:25:37+00:00  2017-10-08 20:25:45+00:00   \n",
       "7  2017-10-09 16:44:19+00:00  2017-10-09 16:44:22+00:00   \n",
       "8  2017-10-10 07:24:41+00:00  2017-10-10 07:24:42+00:00   \n",
       "9  2017-10-10 07:36:37+00:00  2017-10-10 07:36:39+00:00   \n",
       "\n",
       "                                           html_body plain_text_body  \\\n",
       "0  <!DOCTYPE HTML>\\r\\n<html lang=\"en\"><head><meta...             NaN   \n",
       "1  <!DOCTYPE html PUBLIC \"-//W3C//DTD XHTML 1.0 S...             NaN   \n",
       "2  <!DOCTYPE html><html><head> <meta name=\"viewpo...             NaN   \n",
       "3  <!DOCTYPE html PUBLIC \"-//W3C//DTD XHTML 1.0 T...             NaN   \n",
       "4  <!DOCTYPE html PUBLIC \"-//W3C//DTD XHTML 1.0 T...             NaN   \n",
       "5  <!DOCTYPE html PUBLIC \"-//W3C//DTD XHTML 1.0 T...             NaN   \n",
       "6  <html><head><meta http-equiv=\"content-type\" co...             NaN   \n",
       "7  <html><head><meta http-equiv=\"content-type\" co...             NaN   \n",
       "8  \\r\\n\\r\\n<html style=\"padding:0; margin:0; widt...             NaN   \n",
       "9  \\r\\n\\r\\n<html style=\"padding:0; margin:0; widt...             NaN   \n",
       "\n",
       "                from_name                from_address            to_address  \\\n",
       "0               Sketchfab         hello@sketchfab.com  belal.mnur@gmail.com   \n",
       "1                  Cults.           hello@cults3d.com  belal.mnur@gmail.com   \n",
       "2                 Wix.com     wix-team@emails.wix.com  belal.mnur@gmail.com   \n",
       "3           Momentum Dash       help@momentumdash.com  belal.mnur@gmail.com   \n",
       "4              TurboSquid  ts-no-reply@turbosquid.com  belal.mnur@gmail.com   \n",
       "5               OverDrive       hello@e.overdrive.com  belal.mnur@gmail.com   \n",
       "6             Samah Gamar       samah.gamar@gmail.com  belal.mnur@gmail.com   \n",
       "7             Samah Gamar       samah.gamar@gmail.com  belal.mnur@gmail.com   \n",
       "8  no-reply@parallels.com      no-reply@parallels.com  belal.mnur@gmail.com   \n",
       "9  no-reply@parallels.com      no-reply@parallels.com  belal.mnur@gmail.com   \n",
       "\n",
       "   ...                                         references first_in_thread  \\\n",
       "0  ...                                                NaN            True   \n",
       "1  ...                                                NaN            True   \n",
       "2  ...                                                NaN            True   \n",
       "3  ...                                                NaN            True   \n",
       "4  ...                                                NaN            True   \n",
       "5  ...                                                NaN            True   \n",
       "6  ...                                                NaN            True   \n",
       "7  ...  d4de7ff4-bbe1-4a62-8693-8417a0f73d7a@technolut...           False   \n",
       "8  ...                                                NaN            True   \n",
       "9  ...                                                NaN            True   \n",
       "\n",
       "  num_previous_messages                                          thread_id  \\\n",
       "0                   NaN                                                NaN   \n",
       "1                   NaN                                                NaN   \n",
       "2                   NaN                                                NaN   \n",
       "3                   NaN                                                NaN   \n",
       "4                   NaN                                                NaN   \n",
       "5                   NaN                                                NaN   \n",
       "6                   NaN                                                NaN   \n",
       "7                   1.0  d4de7ff4-bbe1-4a62-8693-8417a0f73d7a@technolut...   \n",
       "8                   NaN                                                NaN   \n",
       "9                   NaN                                                NaN   \n",
       "\n",
       "      sender_domain                  all_domains is_internal clean_text  \\\n",
       "0     sketchfab.com     gmail.com, sketchfab.com       False              \n",
       "1       cults3d.com       cults3d.com, gmail.com       False              \n",
       "2    emails.wix.com    emails.wix.com, gmail.com       False              \n",
       "3  momentumdash.com  gmail.com, momentumdash.com       False              \n",
       "4    turbosquid.com    gmail.com, turbosquid.com       False              \n",
       "5   e.overdrive.com   e.overdrive.com, gmail.com       False              \n",
       "6         gmail.com                    gmail.com       False              \n",
       "7         gmail.com                    gmail.com       False              \n",
       "8     parallels.com     gmail.com, parallels.com       False              \n",
       "9     parallels.com     gmail.com, parallels.com       False              \n",
       "\n",
       "  response_time  language  \n",
       "0          None        en  \n",
       "1          None        en  \n",
       "2          None        en  \n",
       "3          None        en  \n",
       "4          None        en  \n",
       "5          None        en  \n",
       "6          None        en  \n",
       "7          None        en  \n",
       "8          None        en  \n",
       "9          None        en  \n",
       "\n",
       "[10 rows x 23 columns]"
      ]
     },
     "execution_count": 16,
     "metadata": {},
     "output_type": "execute_result"
    }
   ],
   "source": [
    "message_df.head(50).to_csv(os.path.normpath(f\"{DATA_DIR}/interim/sample_preprocessed_messages_{DATE}.csv\"), index=False)\n",
    "message_df.head(10)"
   ]
  },
  {
   "cell_type": "code",
   "execution_count": 17,
   "metadata": {},
   "outputs": [],
   "source": [
    "message_df.to_csv(os.path.normpath(f\"{DATA_DIR}/interim/preprocessed_messages_{DATE}.csv\"), index=False)"
   ]
  }
 ],
 "metadata": {
  "kernelspec": {
   "display_name": "qib",
   "language": "python",
   "name": "python3"
  },
  "language_info": {
   "codemirror_mode": {
    "name": "ipython",
    "version": 3
   },
   "file_extension": ".py",
   "mimetype": "text/x-python",
   "name": "python",
   "nbconvert_exporter": "python",
   "pygments_lexer": "ipython3",
   "version": "3.11.4"
  }
 },
 "nbformat": 4,
 "nbformat_minor": 2
}
