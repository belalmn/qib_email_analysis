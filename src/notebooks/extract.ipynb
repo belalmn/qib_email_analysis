{
 "cells": [
  {
   "cell_type": "markdown",
   "metadata": {},
   "source": [
    "# ETL Pipeline: Extract"
   ]
  },
  {
   "cell_type": "markdown",
   "metadata": {},
   "source": [
    "## Imports"
   ]
  },
  {
   "cell_type": "code",
   "execution_count": 1,
   "metadata": {},
   "outputs": [],
   "source": [
    "import sys  \n",
    "sys.path.insert(1, '../..')"
   ]
  },
  {
   "cell_type": "code",
   "execution_count": 2,
   "metadata": {},
   "outputs": [
    {
     "name": "stdout",
     "output_type": "stream",
     "text": [
      "Process ID: 170661\n"
     ]
    }
   ],
   "source": [
    "import logging\n",
    "import os\n",
    "\n",
    "import matplotlib.pyplot as plt\n",
    "import pandas as pd\n",
    "from tqdm import tqdm\n",
    "import datetime\n",
    "\n",
    "from src.config.config import Config\n",
    "from src.extract.imap_extractor import IMAPExtractor\n",
    "from src.extract.pst_extractor import PSTExtractor\n",
    "from src.transform.message_transformer import get_language, get_response_time, clean_text\n",
    "from src.utils.checkpoint import DataFrameCheckpointer\n",
    "\n",
    "logging.basicConfig(level=logging.INFO)\n",
    "tqdm.pandas()\n",
    "config = Config.from_json(\"../../config.json\")\n",
    "\n",
    "print(f\"Process ID: {os.getpid()}\")"
   ]
  },
  {
   "cell_type": "code",
   "execution_count": 3,
   "metadata": {},
   "outputs": [],
   "source": [
    "DATA_DIR = '../../data'\n",
    "PST_DIR = config.pst_directory\n",
    "DATE = datetime.datetime.now().strftime(\"%Y-%m-%d\")\n",
    "\n",
    "checkpointer = DataFrameCheckpointer(DATA_DIR + '/checkpoints')"
   ]
  },
  {
   "cell_type": "markdown",
   "metadata": {},
   "source": [
    "## Extraction"
   ]
  },
  {
   "cell_type": "markdown",
   "metadata": {},
   "source": [
    "### Ingest from PST"
   ]
  },
  {
   "cell_type": "code",
   "execution_count": 4,
   "metadata": {},
   "outputs": [
    {
     "name": "stderr",
     "output_type": "stream",
     "text": [
      "INFO:root:Opening ../../data/raw/emails.pst for extraction\n",
      "INFO:root:Found 9 folders:\n",
      "\tInbox: 5039 messages\n",
      "\tDeleted Items: 0 messages\n",
      "\tOutbox: 0 messages\n",
      "\tSync Issues (This computer only): 0 messages\n",
      "\t[Gmail]: 0 messages\n",
      "\tBanking: 0 messages\n",
      "\tNotes: 0 messages\n",
      "\tReceipt: 0 messages\n",
      "\tTop of Outlook data file: 0 messages\n",
      "INFO:root:Extracting messages from ../../data/raw/emails.pst\n",
      "INFO:root:Using 12 processes with a chunk size of 419\n",
      "100%|██████████| 5039/5039 [00:00<00:00, 3258571.98it/s]\n",
      "INFO:root:Found 5039 messages in total\n",
      "INFO:root:Parsing messages\n",
      "INFO:root:Using 12 processes with a chunk size of 419\n",
      "100%|██████████| 5039/5039 [00:04<00:00, 1096.50it/s]\n",
      "INFO:root:Parsing email threading\n",
      "INFO:root:Parsing domain info\n",
      "INFO:root:Extracting missing email ids\n",
      "INFO:root:Extracted 5039 messages\n"
     ]
    }
   ],
   "source": [
    "pst_dir = os.path.normpath(PST_DIR)\n",
    "pst_file_paths = [os.path.normpath(os.path.join(root, file)) for root, dirs, files in os.walk(pst_dir) for file in files if file.endswith('.pst')]\n",
    "pst_extractor = PSTExtractor(pst_file_paths)\n",
    "pst_message_df = pst_extractor.message_df"
   ]
  },
  {
   "cell_type": "code",
   "execution_count": 5,
   "metadata": {},
   "outputs": [
    {
     "name": "stderr",
     "output_type": "stream",
     "text": [
      "INFO:root:Saved ingested_messages to checkpoint\n"
     ]
    }
   ],
   "source": [
    "# Checkpoint\n",
    "checkpointer.save(\"ingested_messages\", pst_message_df)"
   ]
  },
  {
   "cell_type": "markdown",
   "metadata": {},
   "source": [
    "Get missing emails."
   ]
  },
  {
   "cell_type": "code",
   "execution_count": 6,
   "metadata": {},
   "outputs": [
    {
     "name": "stdout",
     "output_type": "stream",
     "text": [
      "739\n"
     ]
    }
   ],
   "source": [
    "missing_emails = pst_extractor.missing_email_ids\n",
    "print(len(missing_emails))"
   ]
  },
  {
   "cell_type": "markdown",
   "metadata": {},
   "source": [
    "### Ingest Missing Emails from IMAP Server"
   ]
  },
  {
   "cell_type": "markdown",
   "metadata": {},
   "source": [
    "IMAP Server Setup"
   ]
  },
  {
   "cell_type": "code",
   "execution_count": 7,
   "metadata": {},
   "outputs": [],
   "source": [
    "# EMAIL_ACCOUNT = ''\n",
    "# PASSWORD = ''\n",
    "# SERVER = 'imap.gmail.com'\n",
    "# imap_extractor = IMAPExtractor(EMAIL_ACCOUNT, PASSWORD, SERVER)"
   ]
  },
  {
   "cell_type": "markdown",
   "metadata": {},
   "source": [
    "Available Mailboxes"
   ]
  },
  {
   "cell_type": "code",
   "execution_count": 8,
   "metadata": {},
   "outputs": [],
   "source": [
    "# imap_extractor.list_mailboxes()"
   ]
  },
  {
   "cell_type": "markdown",
   "metadata": {},
   "source": [
    "Fetch Missing Emails"
   ]
  },
  {
   "cell_type": "code",
   "execution_count": 9,
   "metadata": {},
   "outputs": [],
   "source": [
    "# mailboxes_to_fetch = [\"INBOX\", \"\\\"[Gmail]/Sent Mail\\\"\"]\n",
    "# imap_message_df = imap_extractor.extract_messages_from_imap(mailboxes_to_fetch, missing_emails, None)"
   ]
  },
  {
   "cell_type": "markdown",
   "metadata": {},
   "source": [
    "### Preprocessing"
   ]
  },
  {
   "cell_type": "markdown",
   "metadata": {},
   "source": [
    "Concatenate PST and IMAP Messages"
   ]
  },
  {
   "cell_type": "code",
   "execution_count": 10,
   "metadata": {},
   "outputs": [],
   "source": [
    "# message_df = pd.concat([pst_message_df, imap_message_df], ignore_index=True)\n",
    "message_df = pst_message_df"
   ]
  },
  {
   "cell_type": "markdown",
   "metadata": {},
   "source": [
    "Clean Text"
   ]
  },
  {
   "cell_type": "code",
   "execution_count": 11,
   "metadata": {},
   "outputs": [
    {
     "name": "stderr",
     "output_type": "stream",
     "text": [
      "100%|██████████| 5039/5039 [00:00<00:00, 786392.98it/s]\n",
      "INFO:root:Saved clean_text_messages to checkpoint\n"
     ]
    }
   ],
   "source": [
    "message_df['clean_text'] = message_df['plain_text_body'].progress_apply(lambda x: clean_text(x))\n",
    "checkpointer.save(\"clean_text_messages\", message_df)"
   ]
  },
  {
   "cell_type": "markdown",
   "metadata": {},
   "source": [
    "Response Times"
   ]
  },
  {
   "cell_type": "code",
   "execution_count": 12,
   "metadata": {},
   "outputs": [
    {
     "name": "stderr",
     "output_type": "stream",
     "text": [
      "INFO:root:Saved response_time_messages to checkpoint\n"
     ]
    }
   ],
   "source": [
    "message_df = get_response_time(message_df)\n",
    "checkpointer.save(\"response_time_messages\", message_df)"
   ]
  },
  {
   "cell_type": "markdown",
   "metadata": {},
   "source": [
    "Language Detection"
   ]
  },
  {
   "cell_type": "code",
   "execution_count": 13,
   "metadata": {},
   "outputs": [
    {
     "name": "stderr",
     "output_type": "stream",
     "text": [
      "100%|██████████| 5039/5039 [00:06<00:00, 761.76it/s]\n",
      "INFO:root:Saved language_messages to checkpoint\n"
     ]
    }
   ],
   "source": [
    "message_df[\"language\"] = message_df[\"clean_text\"].progress_apply(get_language)\n",
    "checkpointer.save(\"language_messages\", message_df)"
   ]
  },
  {
   "cell_type": "markdown",
   "metadata": {},
   "source": [
    "Sample and Export Preprocessed Messages"
   ]
  },
  {
   "cell_type": "code",
   "execution_count": 14,
   "metadata": {},
   "outputs": [
    {
     "data": {
      "text/html": [
       "<div>\n",
       "<style scoped>\n",
       "    .dataframe tbody tr th:only-of-type {\n",
       "        vertical-align: middle;\n",
       "    }\n",
       "\n",
       "    .dataframe tbody tr th {\n",
       "        vertical-align: top;\n",
       "    }\n",
       "\n",
       "    .dataframe thead th {\n",
       "        text-align: right;\n",
       "    }\n",
       "</style>\n",
       "<table border=\"1\" class=\"dataframe\">\n",
       "  <thead>\n",
       "    <tr style=\"text-align: right;\">\n",
       "      <th></th>\n",
       "      <th>message_id</th>\n",
       "      <th>subject</th>\n",
       "      <th>subject_prefix</th>\n",
       "      <th>submit_time</th>\n",
       "      <th>delivery_time</th>\n",
       "      <th>html_body</th>\n",
       "      <th>plain_text_body</th>\n",
       "      <th>from_name</th>\n",
       "      <th>from_address</th>\n",
       "      <th>to_address</th>\n",
       "      <th>...</th>\n",
       "      <th>references</th>\n",
       "      <th>first_in_thread</th>\n",
       "      <th>num_previous_messages</th>\n",
       "      <th>thread_id</th>\n",
       "      <th>sender_domain</th>\n",
       "      <th>all_domains</th>\n",
       "      <th>is_internal</th>\n",
       "      <th>clean_text</th>\n",
       "      <th>response_time</th>\n",
       "      <th>language</th>\n",
       "    </tr>\n",
       "  </thead>\n",
       "  <tbody>\n",
       "    <tr>\n",
       "      <th>0</th>\n",
       "      <td>182509105.-28444002.1559331358364.JavaMail.roo...</td>\n",
       "      <td>May Google Developers - I/O, Rubber Duck, Flut...</td>\n",
       "      <td>None</td>\n",
       "      <td>2019-05-31 19:35:58+00:00</td>\n",
       "      <td>2019-05-31 19:36:00+00:00</td>\n",
       "      <td>&lt;!DOCTYPE html PUBLIC \"-//W3C//DTD XHTML 1.0 T...</td>\n",
       "      <td>None</td>\n",
       "      <td>Google Developers</td>\n",
       "      <td>googledevelopers-noreply@google.com</td>\n",
       "      <td>belal.mnur@gmail.com</td>\n",
       "      <td>...</td>\n",
       "      <td>None</td>\n",
       "      <td>True</td>\n",
       "      <td>NaN</td>\n",
       "      <td>None</td>\n",
       "      <td>google.com</td>\n",
       "      <td>gmail.com, google.com</td>\n",
       "      <td>False</td>\n",
       "      <td></td>\n",
       "      <td>None</td>\n",
       "      <td>en</td>\n",
       "    </tr>\n",
       "    <tr>\n",
       "      <th>1</th>\n",
       "      <td>0100016b0fa7f204-80865a90-8a28-46e1-bced-6d648...</td>\n",
       "      <td>There is something exciting THIS Eid for you!</td>\n",
       "      <td>None</td>\n",
       "      <td>2019-05-31 20:49:53+00:00</td>\n",
       "      <td>2019-05-31 20:49:53+00:00</td>\n",
       "      <td>&lt;!DOCTYPE html&gt;\\r\\n&lt;html lang=\"en\" dir=\"ltr\" s...</td>\n",
       "      <td>None</td>\n",
       "      <td>IslamicFinder Weekly</td>\n",
       "      <td>newsletters@islamicfinder.org</td>\n",
       "      <td>belal.mnur@gmail.com</td>\n",
       "      <td>...</td>\n",
       "      <td>None</td>\n",
       "      <td>True</td>\n",
       "      <td>NaN</td>\n",
       "      <td>None</td>\n",
       "      <td>islamicfinder.org</td>\n",
       "      <td>gmail.com, islamicfinder.org</td>\n",
       "      <td>False</td>\n",
       "      <td></td>\n",
       "      <td>None</td>\n",
       "      <td>en</td>\n",
       "    </tr>\n",
       "    <tr>\n",
       "      <th>2</th>\n",
       "      <td>0100016b10bebba4-58f27c93-91c8-48ce-be32-ca944...</td>\n",
       "      <td>[Slack] Notifications from the Vesteria Team w...</td>\n",
       "      <td>None</td>\n",
       "      <td>2019-06-01 01:54:23+00:00</td>\n",
       "      <td>2019-06-01 01:54:24+00:00</td>\n",
       "      <td>&lt;!DOCTYPE html PUBLIC \"-//W3C//DTD XHTML 1.0 S...</td>\n",
       "      <td>None</td>\n",
       "      <td>Slack</td>\n",
       "      <td>no-reply@slack.com</td>\n",
       "      <td>belal.mnur@gmail.com</td>\n",
       "      <td>...</td>\n",
       "      <td>None</td>\n",
       "      <td>True</td>\n",
       "      <td>NaN</td>\n",
       "      <td>None</td>\n",
       "      <td>slack.com</td>\n",
       "      <td>gmail.com, slack.com</td>\n",
       "      <td>False</td>\n",
       "      <td></td>\n",
       "      <td>None</td>\n",
       "      <td>en</td>\n",
       "    </tr>\n",
       "    <tr>\n",
       "      <th>3</th>\n",
       "      <td>CAHY-DS=ZjRGsCEyYotdS+KBWRfNBskcfBQPXRS9a_OFGM...</td>\n",
       "      <td>Fwd: Initial Letters 150859 GPA</td>\n",
       "      <td>fwd:</td>\n",
       "      <td>2019-06-01 11:42:49+00:00</td>\n",
       "      <td>2019-06-01 11:43:01+00:00</td>\n",
       "      <td>&lt;div dir=\"ltr\"&gt;&lt;br&gt;&lt;br&gt;&lt;div class=\"gmail_quote...</td>\n",
       "      <td>None</td>\n",
       "      <td>Samah Gamar</td>\n",
       "      <td>samah.gamar@gmail.com</td>\n",
       "      <td>belal.mnur@gmail.com</td>\n",
       "      <td>...</td>\n",
       "      <td>33CC80582A67534DAA34B37D393D70F5010AECCE@BCExc...</td>\n",
       "      <td>False</td>\n",
       "      <td>2.0</td>\n",
       "      <td>33CC80582A67534DAA34B37D393D70F5010AECCE@BCExc...</td>\n",
       "      <td>gmail.com</td>\n",
       "      <td>gmail.com</td>\n",
       "      <td>False</td>\n",
       "      <td></td>\n",
       "      <td>None</td>\n",
       "      <td>en</td>\n",
       "    </tr>\n",
       "    <tr>\n",
       "      <th>4</th>\n",
       "      <td>0100016b14a92b34-e4e3cad3-3520-4ad3-8ed1-89292...</td>\n",
       "      <td>[Slack] Notifications from the Vesteria Team w...</td>\n",
       "      <td>None</td>\n",
       "      <td>2019-06-01 20:09:19+00:00</td>\n",
       "      <td>2019-06-01 20:09:20+00:00</td>\n",
       "      <td>&lt;!DOCTYPE html PUBLIC \"-//W3C//DTD XHTML 1.0 S...</td>\n",
       "      <td>None</td>\n",
       "      <td>Slack</td>\n",
       "      <td>no-reply@slack.com</td>\n",
       "      <td>belal.mnur@gmail.com</td>\n",
       "      <td>...</td>\n",
       "      <td>None</td>\n",
       "      <td>True</td>\n",
       "      <td>NaN</td>\n",
       "      <td>None</td>\n",
       "      <td>slack.com</td>\n",
       "      <td>gmail.com, slack.com</td>\n",
       "      <td>False</td>\n",
       "      <td></td>\n",
       "      <td>None</td>\n",
       "      <td>en</td>\n",
       "    </tr>\n",
       "  </tbody>\n",
       "</table>\n",
       "<p>5 rows × 23 columns</p>\n",
       "</div>"
      ],
      "text/plain": [
       "                                          message_id  \\\n",
       "0  182509105.-28444002.1559331358364.JavaMail.roo...   \n",
       "1  0100016b0fa7f204-80865a90-8a28-46e1-bced-6d648...   \n",
       "2  0100016b10bebba4-58f27c93-91c8-48ce-be32-ca944...   \n",
       "3  CAHY-DS=ZjRGsCEyYotdS+KBWRfNBskcfBQPXRS9a_OFGM...   \n",
       "4  0100016b14a92b34-e4e3cad3-3520-4ad3-8ed1-89292...   \n",
       "\n",
       "                                             subject subject_prefix  \\\n",
       "0  May Google Developers - I/O, Rubber Duck, Flut...           None   \n",
       "1      There is something exciting THIS Eid for you!           None   \n",
       "2  [Slack] Notifications from the Vesteria Team w...           None   \n",
       "3                    Fwd: Initial Letters 150859 GPA           fwd:   \n",
       "4  [Slack] Notifications from the Vesteria Team w...           None   \n",
       "\n",
       "                submit_time             delivery_time  \\\n",
       "0 2019-05-31 19:35:58+00:00 2019-05-31 19:36:00+00:00   \n",
       "1 2019-05-31 20:49:53+00:00 2019-05-31 20:49:53+00:00   \n",
       "2 2019-06-01 01:54:23+00:00 2019-06-01 01:54:24+00:00   \n",
       "3 2019-06-01 11:42:49+00:00 2019-06-01 11:43:01+00:00   \n",
       "4 2019-06-01 20:09:19+00:00 2019-06-01 20:09:20+00:00   \n",
       "\n",
       "                                           html_body plain_text_body  \\\n",
       "0  <!DOCTYPE html PUBLIC \"-//W3C//DTD XHTML 1.0 T...            None   \n",
       "1  <!DOCTYPE html>\\r\\n<html lang=\"en\" dir=\"ltr\" s...            None   \n",
       "2  <!DOCTYPE html PUBLIC \"-//W3C//DTD XHTML 1.0 S...            None   \n",
       "3  <div dir=\"ltr\"><br><br><div class=\"gmail_quote...            None   \n",
       "4  <!DOCTYPE html PUBLIC \"-//W3C//DTD XHTML 1.0 S...            None   \n",
       "\n",
       "              from_name                         from_address  \\\n",
       "0     Google Developers  googledevelopers-noreply@google.com   \n",
       "1  IslamicFinder Weekly        newsletters@islamicfinder.org   \n",
       "2                 Slack                   no-reply@slack.com   \n",
       "3           Samah Gamar                samah.gamar@gmail.com   \n",
       "4                 Slack                   no-reply@slack.com   \n",
       "\n",
       "             to_address  ...  \\\n",
       "0  belal.mnur@gmail.com  ...   \n",
       "1  belal.mnur@gmail.com  ...   \n",
       "2  belal.mnur@gmail.com  ...   \n",
       "3  belal.mnur@gmail.com  ...   \n",
       "4  belal.mnur@gmail.com  ...   \n",
       "\n",
       "                                          references first_in_thread  \\\n",
       "0                                               None            True   \n",
       "1                                               None            True   \n",
       "2                                               None            True   \n",
       "3  33CC80582A67534DAA34B37D393D70F5010AECCE@BCExc...           False   \n",
       "4                                               None            True   \n",
       "\n",
       "  num_previous_messages                                          thread_id  \\\n",
       "0                   NaN                                               None   \n",
       "1                   NaN                                               None   \n",
       "2                   NaN                                               None   \n",
       "3                   2.0  33CC80582A67534DAA34B37D393D70F5010AECCE@BCExc...   \n",
       "4                   NaN                                               None   \n",
       "\n",
       "       sender_domain                   all_domains is_internal clean_text  \\\n",
       "0         google.com         gmail.com, google.com       False              \n",
       "1  islamicfinder.org  gmail.com, islamicfinder.org       False              \n",
       "2          slack.com          gmail.com, slack.com       False              \n",
       "3          gmail.com                     gmail.com       False              \n",
       "4          slack.com          gmail.com, slack.com       False              \n",
       "\n",
       "  response_time  language  \n",
       "0          None        en  \n",
       "1          None        en  \n",
       "2          None        en  \n",
       "3          None        en  \n",
       "4          None        en  \n",
       "\n",
       "[5 rows x 23 columns]"
      ]
     },
     "execution_count": 14,
     "metadata": {},
     "output_type": "execute_result"
    }
   ],
   "source": [
    "message_df.head(500).to_csv(os.path.normpath(f\"{DATA_DIR}/interim/sample_preprocessed_messages_{DATE}.csv\"), index=False)\n",
    "message_df.head(5)"
   ]
  },
  {
   "cell_type": "code",
   "execution_count": 15,
   "metadata": {},
   "outputs": [],
   "source": [
    "message_df.to_csv(os.path.normpath(f\"{DATA_DIR}/interim/preprocessed_messages_{DATE}.csv\"), index=False)"
   ]
  }
 ],
 "metadata": {
  "kernelspec": {
   "display_name": "qib",
   "language": "python",
   "name": "python3"
  },
  "language_info": {
   "codemirror_mode": {
    "name": "ipython",
    "version": 3
   },
   "file_extension": ".py",
   "mimetype": "text/x-python",
   "name": "python",
   "nbconvert_exporter": "python",
   "pygments_lexer": "ipython3",
   "version": "3.11.4"
  }
 },
 "nbformat": 4,
 "nbformat_minor": 2
}
