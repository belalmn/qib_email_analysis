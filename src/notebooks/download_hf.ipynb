{
 "cells": [
  {
   "cell_type": "code",
   "execution_count": 3,
   "metadata": {},
   "outputs": [],
   "source": [
    "import transformers\n",
    "from transformers import AutoTokenizer\n",
    "from transformers import AutoModelForCausalLM"
   ]
  },
  {
   "cell_type": "code",
   "execution_count": 5,
   "metadata": {},
   "outputs": [
    {
     "data": {
      "application/vnd.jupyter.widget-view+json": {
       "model_id": "71be532bffb44b1d83cf21cfefb4be5b",
       "version_major": 2,
       "version_minor": 0
      },
      "text/plain": [
       "configuration_phi3.py:   0%|          | 0.00/11.2k [00:00<?, ?B/s]"
      ]
     },
     "metadata": {},
     "output_type": "display_data"
    },
    {
     "name": "stderr",
     "output_type": "stream",
     "text": [
      "A new version of the following files was downloaded from https://huggingface.co/microsoft/Phi-3-mini-4k-instruct:\n",
      "- configuration_phi3.py\n",
      ". Make sure to double-check they do not contain any added malicious code. To avoid downloading new versions of the code file, you can pin a revision.\n"
     ]
    },
    {
     "data": {
      "application/vnd.jupyter.widget-view+json": {
       "model_id": "3e506cb6c0d142f6b78a03db3a294387",
       "version_major": 2,
       "version_minor": 0
      },
      "text/plain": [
       "modeling_phi3.py:   0%|          | 0.00/73.2k [00:00<?, ?B/s]"
      ]
     },
     "metadata": {},
     "output_type": "display_data"
    },
    {
     "name": "stderr",
     "output_type": "stream",
     "text": [
      "A new version of the following files was downloaded from https://huggingface.co/microsoft/Phi-3-mini-4k-instruct:\n",
      "- modeling_phi3.py\n",
      ". Make sure to double-check they do not contain any added malicious code. To avoid downloading new versions of the code file, you can pin a revision.\n",
      "`flash-attention` package not found, consider installing for better performance: No module named 'flash_attn'.\n",
      "Current `flash-attention` does not support `window_size`. Either upgrade or use `attn_implementation='eager'`.\n"
     ]
    },
    {
     "data": {
      "application/vnd.jupyter.widget-view+json": {
       "model_id": "079c920812d74ebb9c178ec2444f145e",
       "version_major": 2,
       "version_minor": 0
      },
      "text/plain": [
       "Downloading shards:   0%|          | 0/2 [00:00<?, ?it/s]"
      ]
     },
     "metadata": {},
     "output_type": "display_data"
    },
    {
     "data": {
      "application/vnd.jupyter.widget-view+json": {
       "model_id": "2d2ecff2945348f28b62f398f0cb07fd",
       "version_major": 2,
       "version_minor": 0
      },
      "text/plain": [
       "model-00001-of-00002.safetensors:  35%|###4      | 1.73G/4.97G [00:00<?, ?B/s]"
      ]
     },
     "metadata": {},
     "output_type": "display_data"
    },
    {
     "name": "stderr",
     "output_type": "stream",
     "text": [
      "Error while downloading from https://cdn-lfs-us-1.huggingface.co/repos/4a/a7/4aa7b074fda985a41c347453e29e295a88918e98691e0f71da924481ca5e50d8/b7492726c01287bf6e13c3d74c65ade3d436d50da1cf5bb6925bc962419d6610?response-content-disposition=inline%3B+filename*%3DUTF-8%27%27model-00001-of-00002.safetensors%3B+filename%3D%22model-00001-of-00002.safetensors%22%3B&Expires=1724331483&Policy=eyJTdGF0ZW1lbnQiOlt7IkNvbmRpdGlvbiI6eyJEYXRlTGVzc1RoYW4iOnsiQVdTOkVwb2NoVGltZSI6MTcyNDMzMTQ4M319LCJSZXNvdXJjZSI6Imh0dHBzOi8vY2RuLWxmcy11cy0xLmh1Z2dpbmdmYWNlLmNvL3JlcG9zLzRhL2E3LzRhYTdiMDc0ZmRhOTg1YTQxYzM0NzQ1M2UyOWUyOTVhODg5MThlOTg2OTFlMGY3MWRhOTI0NDgxY2E1ZTUwZDgvYjc0OTI3MjZjMDEyODdiZjZlMTNjM2Q3NGM2NWFkZTNkNDM2ZDUwZGExY2Y1YmI2OTI1YmM5NjI0MTlkNjYxMD9yZXNwb25zZS1jb250ZW50LWRpc3Bvc2l0aW9uPSoifV19&Signature=s-67eFaxU45RTXuGVH5ya26tsjI23lUJkxWTAaFm3qImevANZYPbUeccGM1ketCJn6i-e2A2KzWBKQBJweqchQotVklR8c5H2Uf%7EGMkxJeCQonQmEgspn84toOIOU%7Ee4Gr1YTOndjF6k2KQa0YI6SE6ZqdCuWx32HCchSwCaIp74bQTUK9T9wo%7EUnQXhiy32KtKOXGqqxgsiJeb4k3cqRlvzAc-ouT-bHqw4IUCHjt3Qij%7EOak9-RkUacc9X2sic4QmdJLMP10JcqUJviGkFp5nYOD5Arj5VMbEpOTHfjq0t3J4G9lwrEOsYbfTZ3xGvwOIfN%7EE4pNbQon7c8s9hwA__&Key-Pair-Id=K24J24Z295AEI9: HTTPSConnectionPool(host='cdn-lfs-us-1.huggingface.co', port=443): Read timed out.\n",
      "Trying to resume download...\n"
     ]
    },
    {
     "data": {
      "application/vnd.jupyter.widget-view+json": {
       "model_id": "3a9e63f1a3804f1e91528fb530b91e3c",
       "version_major": 2,
       "version_minor": 0
      },
      "text/plain": [
       "model-00001-of-00002.safetensors:  95%|#########5| 4.74G/4.97G [00:00<?, ?B/s]"
      ]
     },
     "metadata": {},
     "output_type": "display_data"
    },
    {
     "data": {
      "application/vnd.jupyter.widget-view+json": {
       "model_id": "e35f3e1ce0844fa58d893408954805dc",
       "version_major": 2,
       "version_minor": 0
      },
      "text/plain": [
       "model-00002-of-00002.safetensors:   0%|          | 0.00/2.67G [00:00<?, ?B/s]"
      ]
     },
     "metadata": {},
     "output_type": "display_data"
    },
    {
     "name": "stderr",
     "output_type": "stream",
     "text": [
      "Error while downloading from https://cdn-lfs-us-1.huggingface.co/repos/4a/a7/4aa7b074fda985a41c347453e29e295a88918e98691e0f71da924481ca5e50d8/3f311787aa136e858556caa8543015161edcad85ba81b6a36072443d7fa73c87?response-content-disposition=inline%3B+filename*%3DUTF-8%27%27model-00002-of-00002.safetensors%3B+filename%3D%22model-00002-of-00002.safetensors%22%3B&Expires=1724336145&Policy=eyJTdGF0ZW1lbnQiOlt7IkNvbmRpdGlvbiI6eyJEYXRlTGVzc1RoYW4iOnsiQVdTOkVwb2NoVGltZSI6MTcyNDMzNjE0NX19LCJSZXNvdXJjZSI6Imh0dHBzOi8vY2RuLWxmcy11cy0xLmh1Z2dpbmdmYWNlLmNvL3JlcG9zLzRhL2E3LzRhYTdiMDc0ZmRhOTg1YTQxYzM0NzQ1M2UyOWUyOTVhODg5MThlOTg2OTFlMGY3MWRhOTI0NDgxY2E1ZTUwZDgvM2YzMTE3ODdhYTEzNmU4NTg1NTZjYWE4NTQzMDE1MTYxZWRjYWQ4NWJhODFiNmEzNjA3MjQ0M2Q3ZmE3M2M4Nz9yZXNwb25zZS1jb250ZW50LWRpc3Bvc2l0aW9uPSoifV19&Signature=REwhnT5uyjwjZZLe2r0j78GuhEfdmlfHeAmWcH6Srf1qltPxlYVUx3HsoePoNR9BU4-iiBn%7E10Q-x4MM0LemWCBsW2Lbc7DPOKO8yYYptwV4PTkFFrt4akmxkJyqscde-PARZv7KJSoLdjKNDLd92Jp2Ygp-xQv9sxECnkC2x2g1wMCk9dMHewWWh4KKLCreIMDJLICoDvAzoZQkP2H6ECDLF1JVaD4XiMVzoXer9yHlDyf91Xd9RjnTyiGRDdN-ymP0YkOa8zG1U7iMNOb242BndcMUgoU5-uBw4r%7EDBAAo-OFHUk%7EXJC6DiKoh5D9%7EmxvOewc-btE9ApQ9vjjJtA__&Key-Pair-Id=K24J24Z295AEI9: HTTPSConnectionPool(host='cdn-lfs-us-1.huggingface.co', port=443): Read timed out.\n",
      "Trying to resume download...\n"
     ]
    },
    {
     "data": {
      "application/vnd.jupyter.widget-view+json": {
       "model_id": "8b2a3c8c82ed4a4d859aa7f6ca0703f1",
       "version_major": 2,
       "version_minor": 0
      },
      "text/plain": [
       "model-00002-of-00002.safetensors:  27%|##7       | 724M/2.67G [00:00<?, ?B/s]"
      ]
     },
     "metadata": {},
     "output_type": "display_data"
    },
    {
     "name": "stderr",
     "output_type": "stream",
     "text": [
      "Error while downloading from https://cdn-lfs-us-1.huggingface.co/repos/4a/a7/4aa7b074fda985a41c347453e29e295a88918e98691e0f71da924481ca5e50d8/3f311787aa136e858556caa8543015161edcad85ba81b6a36072443d7fa73c87?response-content-disposition=inline%3B+filename*%3DUTF-8%27%27model-00002-of-00002.safetensors%3B+filename%3D%22model-00002-of-00002.safetensors%22%3B&Expires=1724336145&Policy=eyJTdGF0ZW1lbnQiOlt7IkNvbmRpdGlvbiI6eyJEYXRlTGVzc1RoYW4iOnsiQVdTOkVwb2NoVGltZSI6MTcyNDMzNjE0NX19LCJSZXNvdXJjZSI6Imh0dHBzOi8vY2RuLWxmcy11cy0xLmh1Z2dpbmdmYWNlLmNvL3JlcG9zLzRhL2E3LzRhYTdiMDc0ZmRhOTg1YTQxYzM0NzQ1M2UyOWUyOTVhODg5MThlOTg2OTFlMGY3MWRhOTI0NDgxY2E1ZTUwZDgvM2YzMTE3ODdhYTEzNmU4NTg1NTZjYWE4NTQzMDE1MTYxZWRjYWQ4NWJhODFiNmEzNjA3MjQ0M2Q3ZmE3M2M4Nz9yZXNwb25zZS1jb250ZW50LWRpc3Bvc2l0aW9uPSoifV19&Signature=REwhnT5uyjwjZZLe2r0j78GuhEfdmlfHeAmWcH6Srf1qltPxlYVUx3HsoePoNR9BU4-iiBn%7E10Q-x4MM0LemWCBsW2Lbc7DPOKO8yYYptwV4PTkFFrt4akmxkJyqscde-PARZv7KJSoLdjKNDLd92Jp2Ygp-xQv9sxECnkC2x2g1wMCk9dMHewWWh4KKLCreIMDJLICoDvAzoZQkP2H6ECDLF1JVaD4XiMVzoXer9yHlDyf91Xd9RjnTyiGRDdN-ymP0YkOa8zG1U7iMNOb242BndcMUgoU5-uBw4r%7EDBAAo-OFHUk%7EXJC6DiKoh5D9%7EmxvOewc-btE9ApQ9vjjJtA__&Key-Pair-Id=K24J24Z295AEI9: HTTPSConnectionPool(host='cdn-lfs-us-1.huggingface.co', port=443): Read timed out.\n",
      "Trying to resume download...\n"
     ]
    },
    {
     "data": {
      "application/vnd.jupyter.widget-view+json": {
       "model_id": "59793196a42f419490285051890bea99",
       "version_major": 2,
       "version_minor": 0
      },
      "text/plain": [
       "model-00002-of-00002.safetensors:  29%|##8       | 765M/2.67G [00:00<?, ?B/s]"
      ]
     },
     "metadata": {},
     "output_type": "display_data"
    },
    {
     "data": {
      "application/vnd.jupyter.widget-view+json": {
       "model_id": "8c763320f16c40eb856fb4d221b5dad3",
       "version_major": 2,
       "version_minor": 0
      },
      "text/plain": [
       "Loading checkpoint shards:   0%|          | 0/2 [00:00<?, ?it/s]"
      ]
     },
     "metadata": {},
     "output_type": "display_data"
    },
    {
     "ename": "",
     "evalue": "",
     "output_type": "error",
     "traceback": [
      "\u001b[1;31mThe Kernel crashed while executing code in the current cell or a previous cell. \n",
      "\u001b[1;31mPlease review the code in the cell(s) to identify a possible cause of the failure. \n",
      "\u001b[1;31mClick <a href='https://aka.ms/vscodeJupyterKernelCrash'>here</a> for more info. \n",
      "\u001b[1;31mView Jupyter <a href='command:jupyter.viewOutput'>log</a> for further details."
     ]
    }
   ],
   "source": [
    "model = AutoModelForCausalLM.from_pretrained(\"microsoft/Phi-3-mini-4k-instruct\", trust_remote_code=True)"
   ]
  },
  {
   "cell_type": "code",
   "execution_count": null,
   "metadata": {},
   "outputs": [],
   "source": [
    "model.save_pretrained(\"../models/\")"
   ]
  }
 ],
 "metadata": {
  "kernelspec": {
   "display_name": "qib",
   "language": "python",
   "name": "python3"
  },
  "language_info": {
   "codemirror_mode": {
    "name": "ipython",
    "version": 3
   },
   "file_extension": ".py",
   "mimetype": "text/x-python",
   "name": "python",
   "nbconvert_exporter": "python",
   "pygments_lexer": "ipython3",
   "version": "3.11.4"
  }
 },
 "nbformat": 4,
 "nbformat_minor": 2
}
