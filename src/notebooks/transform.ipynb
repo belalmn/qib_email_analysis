{
 "cells": [
  {
   "cell_type": "markdown",
   "metadata": {},
   "source": [
    "# ETL Pipeline: Transform"
   ]
  },
  {
   "cell_type": "markdown",
   "metadata": {},
   "source": [
    "## Imports"
   ]
  },
  {
   "cell_type": "code",
   "execution_count": null,
   "metadata": {},
   "outputs": [],
   "source": [
    "import sys  \n",
    "sys.path.insert(1, '../..')\n",
    "\n",
    "import datetime\n",
    "import logging\n",
    "\n",
    "import matplotlib.pyplot as plt\n",
    "import pandas as pd\n",
    "\n",
    "from src.config.config import Config\n",
    "from src.database.chroma_manager import ChromaManager\n",
    "from src.transform.email_summary import summarize_messages\n",
    "from src.transform.llm_invoker import LLMInvoker\n",
    "from src.transform.message_classification import classify_categories\n",
    "from src.transform.ner import extract_entities_from_messages\n",
    "from src.transform.spam_classification import classify_spam_messages_with_llm, zero_shot_classify_spam_messages\n",
    "from src.transform.topic_modelling import TopicModellor\n",
    "from src.utils.checkpoint import DataFrameCheckpointer\n",
    "\n",
    "logging.basicConfig(level=logging.INFO)\n",
    "config = Config.from_json(\"../../config.json\")\n",
    "llm_invoker = LLMInvoker(model_name=\"phi3:3.8b-mini-4k-instruct-fp16\", use_ollama=True)\n",
    "                         \n",
    "DATA_DIR = '../../data'\n",
    "PST_DIR = config.pst_directory\n",
    "DATE = datetime.datetime.now().strftime(\"%Y-%m-%d\")\n",
    "\n",
    "checkpointer = DataFrameCheckpointer(DATA_DIR + '/checkpoints')"
   ]
  },
  {
   "cell_type": "markdown",
   "metadata": {},
   "source": [
    "## Transformations"
   ]
  },
  {
   "cell_type": "markdown",
   "metadata": {},
   "source": [
    "### Retrieve from Checkpoint"
   ]
  },
  {
   "cell_type": "code",
   "execution_count": null,
   "metadata": {},
   "outputs": [],
   "source": [
    "df = pd.read_csv(f\"{DATA_DIR}/interim/preprocessed_messages.csv\")"
   ]
  },
  {
   "cell_type": "markdown",
   "metadata": {},
   "source": [
    "### Retrieve Quarterly, Monthly, and Weekly Sets of Messages from DB"
   ]
  },
  {
   "cell_type": "markdown",
   "metadata": {},
   "source": [
    "### Filter Emails"
   ]
  },
  {
   "cell_type": "markdown",
   "metadata": {},
   "source": [
    "Most feature engineering tasks don't need to be run on all emails. The following feature engineering tasks are intended for customer oriented emails. We can safely disregard internal emails and outgoing emails."
   ]
  },
  {
   "cell_type": "code",
   "execution_count": null,
   "metadata": {},
   "outputs": [],
   "source": [
    "message_df = df.loc[(df[\"is_internal\"] == False) & (df[\"from_address\"] != \"info@qib.com.qa\")]"
   ]
  },
  {
   "cell_type": "markdown",
   "metadata": {},
   "source": [
    "#### Spam Classification"
   ]
  },
  {
   "cell_type": "markdown",
   "metadata": {},
   "source": [
    "Further filter by removing spam emails."
   ]
  },
  {
   "cell_type": "code",
   "execution_count": null,
   "metadata": {},
   "outputs": [],
   "source": [
    "# spam_df = classify_spam_messages_with_llm(message_df, llm_invoker)\n",
    "spam_df = zero_shot_classify_spam_messages(message_df)"
   ]
  },
  {
   "cell_type": "code",
   "execution_count": null,
   "metadata": {},
   "outputs": [],
   "source": [
    "checkpointer.save(\"spam_classification\", spam_df)"
   ]
  },
  {
   "cell_type": "code",
   "execution_count": null,
   "metadata": {},
   "outputs": [],
   "source": [
    "message_df = message_df.merge(spam_df, on=\"message_id\")\n",
    "message_df = message_df.loc[message_df[\"is_spam\"] == False]"
   ]
  },
  {
   "cell_type": "code",
   "execution_count": null,
   "metadata": {},
   "outputs": [],
   "source": [
    "checkpointer.save(\"spam_classified_messages\", message_df)"
   ]
  },
  {
   "cell_type": "markdown",
   "metadata": {},
   "source": [
    "### Vectorization of Emails"
   ]
  },
  {
   "cell_type": "markdown",
   "metadata": {},
   "source": [
    "Setup Sentence Transformer and ChromaDB"
   ]
  },
  {
   "cell_type": "code",
   "execution_count": null,
   "metadata": {},
   "outputs": [],
   "source": [
    "chroma = ChromaManager(\"message_embeddings\", model_name=config.embedding_model_name)"
   ]
  },
  {
   "cell_type": "markdown",
   "metadata": {},
   "source": [
    "Get or Create Sentence Embeddings"
   ]
  },
  {
   "cell_type": "code",
   "execution_count": null,
   "metadata": {},
   "outputs": [],
   "source": [
    "message_df = chroma.populate_embeddings(message_df)"
   ]
  },
  {
   "cell_type": "code",
   "execution_count": null,
   "metadata": {},
   "outputs": [],
   "source": [
    "checkpointer.save(\"message_embeddings\", message_df)"
   ]
  },
  {
   "cell_type": "markdown",
   "metadata": {},
   "source": [
    "### Feature Engineering and Modelling"
   ]
  },
  {
   "cell_type": "markdown",
   "metadata": {},
   "source": [
    "#### Intent Analysis "
   ]
  },
  {
   "cell_type": "code",
   "execution_count": null,
   "metadata": {},
   "outputs": [],
   "source": [
    "topic_modellor = TopicModellor(message_df, llm_invoker)\n",
    "topic_df = topic_modellor.topic_df"
   ]
  },
  {
   "cell_type": "code",
   "execution_count": null,
   "metadata": {},
   "outputs": [],
   "source": [
    "topics_to_describe = topic_df[topic_df[\"topic_id\"] != -1].groupby(\"topic_id\").filter(lambda x: len(x) >= 5)"
   ]
  },
  {
   "cell_type": "code",
   "execution_count": null,
   "metadata": {},
   "outputs": [],
   "source": [
    "topic_descriptions = topic_modellor.get_topic_descriptions(topics_to_describe, llm_invoker)[[\"topic_id\", \"description\"]]"
   ]
  },
  {
   "cell_type": "code",
   "execution_count": null,
   "metadata": {},
   "outputs": [],
   "source": [
    "checkpointer.save(\"topic_descriptions\", topic_descriptions)"
   ]
  },
  {
   "cell_type": "code",
   "execution_count": null,
   "metadata": {},
   "outputs": [],
   "source": [
    "message_df = topic_df[[\"message_id\", \"topic_id\"]].merge(message_df, on=\"message_id\")\n",
    "topics_df = topic_df.merge(topic_descriptions, on=\"topic_id\")[[\"topic_id\", \"description\"]]"
   ]
  },
  {
   "cell_type": "code",
   "execution_count": null,
   "metadata": {},
   "outputs": [],
   "source": [
    "word_frequencies = topic_modellor.get_topic_word_frequencies(topic_df)[[\"topic_id\", \"word\", \"frequency\"]]"
   ]
  },
  {
   "cell_type": "code",
   "execution_count": null,
   "metadata": {},
   "outputs": [],
   "source": [
    "checkpointer.save(\"topics\", topic_df)\n",
    "checkpointer.save(\"word_frequencies\", word_frequencies)\n",
    "checkpointer.save(\"topic_messages\", message_df)"
   ]
  },
  {
   "cell_type": "markdown",
   "metadata": {},
   "source": [
    "Top 10 Clusters, their Descriptions, and their Sizes"
   ]
  },
  {
   "cell_type": "code",
   "execution_count": null,
   "metadata": {},
   "outputs": [],
   "source": [
    "topics_df.head(10)"
   ]
  },
  {
   "cell_type": "markdown",
   "metadata": {},
   "source": [
    "#### Message Classification"
   ]
  },
  {
   "cell_type": "code",
   "execution_count": null,
   "metadata": {},
   "outputs": [],
   "source": [
    "class_df = classify_categories(message_df)\n",
    "checkpointer.save(\"classification\", class_df)"
   ]
  },
  {
   "cell_type": "markdown",
   "metadata": {},
   "source": [
    "#### Named Entity Recognition"
   ]
  },
  {
   "cell_type": "code",
   "execution_count": null,
   "metadata": {},
   "outputs": [],
   "source": [
    "entities_df = extract_entities_from_messages(message_df, llm_invoker)\n",
    "checkpointer.save(\"entities\", entities_df)"
   ]
  },
  {
   "cell_type": "markdown",
   "metadata": {},
   "source": [
    "#### Email Summarization"
   ]
  },
  {
   "cell_type": "code",
   "execution_count": null,
   "metadata": {},
   "outputs": [],
   "source": [
    "summary_df = summarize_messages(message_df, llm_invoker)\n",
    "checkpointer.save(\"summaries\", summary_df)"
   ]
  },
  {
   "cell_type": "markdown",
   "metadata": {},
   "source": [
    "### Final DataFrames"
   ]
  },
  {
   "cell_type": "markdown",
   "metadata": {},
   "source": [
    "#### message_df:\n",
    "    - message_id\n",
    "    - topic_id\n",
    "    - is_spam\n",
    "    - subject\n",
    "    - subject_prefix\n",
    "    - submit_time\n",
    "    - delivery_time\n",
    "    - html_body\n",
    "    - plain_text_body\n",
    "    - from_name\n",
    "    - from_address\n",
    "    - to_address*\n",
    "    - cc_address*\n",
    "    - bcc_address*\n",
    "    - previous_message_id\n",
    "    - references*\n",
    "    - plain_text_is_converted\n",
    "    - first_in_thread\n",
    "    - num_previous_messages\n",
    "    - thread_id\n",
    "    - sender_domain\n",
    "    - all_domains*\n",
    "    - is_internal\n",
    "    - clean_text\n",
    "    - response_time\n",
    "    - language\n",
    "#### word_frequencies\n",
    "    - topic_id\n",
    "    - word\n",
    "    - frequency\n",
    "#### topics_df\n",
    "    - topic_id\n",
    "    - topic_description\n",
    "#### class_df\n",
    "    - message_id\n",
    "    - category\n",
    "#### entities_df\n",
    "    - message_id\n",
    "    - entity_type\n",
    "    - entity_value\n",
    "#### summary_df\n",
    "    - message_id\n",
    "    - summary"
   ]
  }
 ],
 "metadata": {
  "kernelspec": {
   "display_name": "qib",
   "language": "python",
   "name": "python3"
  },
  "language_info": {
   "codemirror_mode": {
    "name": "ipython",
    "version": 3
   },
   "file_extension": ".py",
   "mimetype": "text/x-python",
   "name": "python",
   "nbconvert_exporter": "python",
   "pygments_lexer": "ipython3",
   "version": "3.11.4"
  }
 },
 "nbformat": 4,
 "nbformat_minor": 2
}
