{
 "cells": [
  {
   "cell_type": "markdown",
   "metadata": {},
   "source": [
    "# ETL Pipeline: Extract"
   ]
  },
  {
   "cell_type": "markdown",
   "metadata": {},
   "source": [
    "## Imports"
   ]
  },
  {
   "cell_type": "code",
   "execution_count": 1,
   "metadata": {},
   "outputs": [],
   "source": [
    "import sys\n",
    "sys.path.insert(1, '../..')"
   ]
  },
  {
   "cell_type": "code",
   "execution_count": 2,
   "metadata": {},
   "outputs": [
    {
     "name": "stdout",
     "output_type": "stream",
     "text": [
      "Process ID: 25080\n"
     ]
    }
   ],
   "source": [
    "import logging\n",
    "import os\n",
    "import glob\n",
    "\n",
    "import matplotlib.pyplot as plt\n",
    "import pandas as pd\n",
    "from tqdm import tqdm\n",
    "import datetime\n",
    "\n",
    "from src.config.config import Config\n",
    "from src.extract.imap_extractor import IMAPExtractor\n",
    "from src.extract.pst_extractor import PSTExtractor\n",
    "from src.transform.message_transformer import get_language, get_response_time, clean_text\n",
    "from src.utils.checkpoint import DataFrameCheckpointer\n",
    "\n",
    "logging.basicConfig(level=logging.INFO)\n",
    "tqdm.pandas()\n",
    "config = Config.from_json(\"../../config.json\")\n",
    "\n",
    "print(f\"Process ID: {os.getpid()}\")"
   ]
  },
  {
   "cell_type": "code",
   "execution_count": 3,
   "metadata": {},
   "outputs": [],
   "source": [
    "DATA_DIR = '../../data'\n",
    "PST_DIR = config.pst_directory\n",
    "DATE = datetime.datetime.now().strftime(\"%Y-%m-%d\")\n",
    "\n",
    "checkpointer = DataFrameCheckpointer(DATA_DIR + '/checkpoints')"
   ]
  },
  {
   "cell_type": "markdown",
   "metadata": {},
   "source": [
    "## Extraction"
   ]
  },
  {
   "cell_type": "markdown",
   "metadata": {},
   "source": [
    "### Ingest from PST"
   ]
  },
  {
   "cell_type": "code",
   "execution_count": 4,
   "metadata": {},
   "outputs": [
    {
     "name": "stderr",
     "output_type": "stream",
     "text": [
      "INFO:root:Opening Y:\\Emails_Info_QIB\\Info@qib.com.qa_from Jan2023 onwards\\2\\2-1.pst for extraction\n",
      "INFO:root:Found 2 folders:\n",
      "\tTop of Outlook data file: 7091 messages\n",
      "\tDeleted Items: 0 messages\n",
      "INFO:root:Using Outlook data file folder\n",
      "INFO:root:Extracting messages from Y:\\Emails_Info_QIB\\Info@qib.com.qa_from Jan2023 onwards\\2\\2-1.pst\n",
      "INFO:root:Using 20 processes with a chunk size of 354\n",
      "100%|█████████████████████████████████████████████████████████████████████████████████████████████████████████████████████████████| 7091/7091 [00:00<00:00, 1012108.14it/s]\n",
      "INFO:root:Opening Y:\\Emails_Info_QIB\\Info@qib.com.qa_from Jan2023 onwards\\8\\8-1.pst for extraction\n",
      "INFO:root:Found 2 folders:\n",
      "\tTop of Outlook data file: 7542 messages\n",
      "\tDeleted Items: 0 messages\n",
      "INFO:root:Using Outlook data file folder\n",
      "INFO:root:Extracting messages from Y:\\Emails_Info_QIB\\Info@qib.com.qa_from Jan2023 onwards\\8\\8-1.pst\n",
      "INFO:root:Using 20 processes with a chunk size of 377\n",
      "100%|██████████████████████████████████████████████████████████████████████████████████████████████████████████████████████████████| 7542/7542 [00:00<00:00, 838016.34it/s]\n",
      "INFO:root:Opening Y:\\Emails_Info_QIB\\Info@qib.com.qa_from Jan2023 onwards\\3\\3-1.pst for extraction\n",
      "INFO:root:Found 2 folders:\n",
      "\tTop of Outlook data file: 7445 messages\n",
      "\tDeleted Items: 0 messages\n",
      "INFO:root:Using Outlook data file folder\n",
      "INFO:root:Extracting messages from Y:\\Emails_Info_QIB\\Info@qib.com.qa_from Jan2023 onwards\\3\\3-1.pst\n",
      "INFO:root:Using 20 processes with a chunk size of 372\n",
      "100%|██████████████████████████████████████████████████████████████████████████████████████████████████████████████████████████████| 7445/7445 [00:00<00:00, 826997.36it/s]\n",
      "INFO:root:Opening Y:\\Emails_Info_QIB\\Info@qib.com.qa_from Jan2023 onwards\\5\\5-1.pst for extraction\n",
      "INFO:root:Found 2 folders:\n",
      "\tTop of Outlook data file: 7335 messages\n",
      "\tDeleted Items: 0 messages\n",
      "INFO:root:Using Outlook data file folder\n",
      "INFO:root:Extracting messages from Y:\\Emails_Info_QIB\\Info@qib.com.qa_from Jan2023 onwards\\5\\5-1.pst\n",
      "INFO:root:Using 20 processes with a chunk size of 366\n",
      "100%|██████████████████████████████████████████████████████████████████████████████████████████████████████████████████████████████| 7335/7335 [00:00<00:00, 814800.04it/s]\n",
      "INFO:root:Opening Y:\\Emails_Info_QIB\\Info@qib.com.qa_from Jan2023 onwards\\11\\11-1.pst for extraction\n",
      "INFO:root:Found 2 folders:\n",
      "\tTop of Outlook data file: 7094 messages\n",
      "\tDeleted Items: 0 messages\n",
      "INFO:root:Using Outlook data file folder\n",
      "INFO:root:Extracting messages from Y:\\Emails_Info_QIB\\Info@qib.com.qa_from Jan2023 onwards\\11\\11-1.pst\n",
      "INFO:root:Using 20 processes with a chunk size of 354\n",
      "100%|█████████████████████████████████████████████████████████████████████████████████████████████████████████████████████████████| 7094/7094 [00:00<00:00, 1013640.14it/s]\n",
      "INFO:root:Opening Y:\\Emails_Info_QIB\\Info@qib.com.qa_from Jan2023 onwards\\12\\12-1.pst for extraction\n",
      "INFO:root:Found 2 folders:\n",
      "\tTop of Outlook data file: 7572 messages\n",
      "\tDeleted Items: 0 messages\n",
      "INFO:root:Using Outlook data file folder\n",
      "INFO:root:Extracting messages from Y:\\Emails_Info_QIB\\Info@qib.com.qa_from Jan2023 onwards\\12\\12-1.pst\n",
      "INFO:root:Using 20 processes with a chunk size of 378\n",
      "100%|██████████████████████████████████████████████████████████████████████████████████████████████████████████████████████████████| 7572/7572 [00:00<00:00, 756948.06it/s]\n",
      "INFO:root:Opening Y:\\Emails_Info_QIB\\Info@qib.com.qa_from Jan2023 onwards\\9\\9-1.pst for extraction\n",
      "INFO:root:Found 2 folders:\n",
      "\tTop of Outlook data file: 7319 messages\n",
      "\tDeleted Items: 0 messages\n",
      "INFO:root:Using Outlook data file folder\n",
      "INFO:root:Extracting messages from Y:\\Emails_Info_QIB\\Info@qib.com.qa_from Jan2023 onwards\\9\\9-1.pst\n",
      "INFO:root:Using 20 processes with a chunk size of 365\n",
      "100%|█████████████████████████████████████████████████████████████████████████████████████████████████████████████████████████████| 7319/7319 [00:00<00:00, 1045326.76it/s]\n",
      "INFO:root:Opening Y:\\Emails_Info_QIB\\Info@qib.com.qa_from Jan2023 onwards\\4\\4-1.pst for extraction\n",
      "INFO:root:Found 2 folders:\n",
      "\tTop of Outlook data file: 7199 messages\n",
      "\tDeleted Items: 0 messages\n",
      "INFO:root:Using Outlook data file folder\n",
      "INFO:root:Extracting messages from Y:\\Emails_Info_QIB\\Info@qib.com.qa_from Jan2023 onwards\\4\\4-1.pst\n",
      "INFO:root:Using 20 processes with a chunk size of 359\n",
      "100%|██████████████████████████████████████████████████████████████████████████████████████████████████████████████████████████████| 7199/7199 [00:00<00:00, 899672.08it/s]\n",
      "INFO:root:Opening Y:\\Emails_Info_QIB\\Info@qib.com.qa_from Jan2023 onwards\\10\\10-1.pst for extraction\n",
      "INFO:root:Found 2 folders:\n",
      "\tTop of Outlook data file: 6868 messages\n",
      "\tDeleted Items: 0 messages\n",
      "INFO:root:Using Outlook data file folder\n",
      "INFO:root:Extracting messages from Y:\\Emails_Info_QIB\\Info@qib.com.qa_from Jan2023 onwards\\10\\10-1.pst\n",
      "INFO:root:Using 20 processes with a chunk size of 343\n",
      "100%|██████████████████████████████████████████████████████████████████████████████████████████████████████████████████████████████| 6868/6868 [00:00<00:00, 858741.39it/s]\n",
      "INFO:root:Found 65465 messages in total\n",
      "INFO:root:Parsing messages\n",
      "INFO:root:Using 20 processes with a chunk size of 3273\n",
      "100%|██████████████████████████████████████████████████████████████████████████████████████████████████████████████████████████████| 65465/65465 [00:51<00:00, 1273.27it/s]\n",
      "INFO:root:Parsing email threading\n",
      "INFO:root:Parsing domain info\n",
      "INFO:root:Extracting missing email ids\n",
      "INFO:root:Extracted 65465 messages\n"
     ]
    }
   ],
   "source": [
    "pst_dir = os.path.normpath(r\"Y:\\Emails_Info_QIB\\Info@qib.com.qa_from Jan2023 onwards\")\n",
    "pst_file_paths = [os.path.normpath(pst_dir + \"/\" + i) for i in os.listdir(pst_dir[1])]\n",
    "pst_file_paths = glob.glob(os.path.join(pst_dir, '**', '*.pst'), recursive=True)\n",
    "# pst_file_paths = [os.path.normpath(os.path.join(root, file)) for root, dirs, files in os.walk(pst_dir) for file in files if file.endswith('.pst')]\n",
    "pst_extractor = PSTExtractor(pst_file_paths)\n",
    "pst_message_df = pst_extractor.message_df"
   ]
  },
  {
   "cell_type": "code",
   "execution_count": 5,
   "metadata": {},
   "outputs": [
    {
     "name": "stderr",
     "output_type": "stream",
     "text": [
      "INFO:root:Saved ingested_messages to checkpoint\n"
     ]
    }
   ],
   "source": [
    "# Checkpoint\n",
    "checkpointer.save(\"ingested_messages\", pst_message_df)"
   ]
  },
  {
   "cell_type": "markdown",
   "metadata": {},
   "source": [
    "Get missing emails."
   ]
  },
  {
   "cell_type": "code",
   "execution_count": 6,
   "metadata": {},
   "outputs": [
    {
     "name": "stdout",
     "output_type": "stream",
     "text": [
      "<class 'pandas.core.frame.DataFrame'>\n",
      "RangeIndex: 65465 entries, 0 to 65464\n",
      "Data columns (total 20 columns):\n",
      " #   Column                 Non-Null Count  Dtype              \n",
      "---  ------                 --------------  -----              \n",
      " 0   message_id             65465 non-null  object             \n",
      " 1   subject                65299 non-null  object             \n",
      " 2   subject_prefix         35522 non-null  object             \n",
      " 3   submit_time            65465 non-null  datetime64[ns, UTC]\n",
      " 4   delivery_time          65465 non-null  datetime64[ns, UTC]\n",
      " 5   html_body              0 non-null      object             \n",
      " 6   plain_text_body        65201 non-null  object             \n",
      " 7   from_name              65465 non-null  object             \n",
      " 8   from_address           65465 non-null  object             \n",
      " 9   to_address             57491 non-null  object             \n",
      " 10  cc_address             22376 non-null  object             \n",
      " 11  bcc_address            1 non-null      object             \n",
      " 12  previous_message_id    36031 non-null  object             \n",
      " 13  references             37204 non-null  object             \n",
      " 14  first_in_thread        65465 non-null  bool               \n",
      " 15  num_previous_messages  37204 non-null  float64            \n",
      " 16  thread_id              37201 non-null  object             \n",
      " 17  sender_domain          65465 non-null  object             \n",
      " 18  all_domains            65465 non-null  object             \n",
      " 19  is_internal            65465 non-null  bool               \n",
      "dtypes: bool(2), datetime64[ns, UTC](2), float64(1), object(15)\n",
      "memory usage: 9.1+ MB\n"
     ]
    }
   ],
   "source": [
    "pst_message_df.info()"
   ]
  },
  {
   "cell_type": "code",
   "execution_count": 7,
   "metadata": {},
   "outputs": [
    {
     "name": "stdout",
     "output_type": "stream",
     "text": [
      "46801\n"
     ]
    }
   ],
   "source": [
    "missing_emails = pst_extractor.missing_email_ids\n",
    "print(len(missing_emails))"
   ]
  },
  {
   "cell_type": "markdown",
   "metadata": {},
   "source": [
    "### Ingest Missing Emails from IMAP Server"
   ]
  },
  {
   "cell_type": "markdown",
   "metadata": {},
   "source": [
    "IMAP Server Setup"
   ]
  },
  {
   "cell_type": "code",
   "execution_count": 8,
   "metadata": {},
   "outputs": [],
   "source": [
    "# EMAIL_ACCOUNT = ''\n",
    "# PASSWORD = ''\n",
    "# SERVER = 'imap.gmail.com'\n",
    "# imap_extractor = IMAPExtractor(EMAIL_ACCOUNT, PASSWORD, SERVER)"
   ]
  },
  {
   "cell_type": "markdown",
   "metadata": {},
   "source": [
    "Available Mailboxes"
   ]
  },
  {
   "cell_type": "code",
   "execution_count": 9,
   "metadata": {},
   "outputs": [],
   "source": [
    "# imap_extractor.list_mailboxes()"
   ]
  },
  {
   "cell_type": "markdown",
   "metadata": {},
   "source": [
    "Fetch Missing Emails"
   ]
  },
  {
   "cell_type": "code",
   "execution_count": 10,
   "metadata": {},
   "outputs": [],
   "source": [
    "# mailboxes_to_fetch = [\"INBOX\", \"\\\"[Gmail]/Sent Mail\\\"\"]\n",
    "# imap_message_df = imap_extractor.extract_messages_from_imap(mailboxes_to_fetch, missing_emails, None)"
   ]
  },
  {
   "cell_type": "markdown",
   "metadata": {},
   "source": [
    "### Preprocessing"
   ]
  },
  {
   "cell_type": "markdown",
   "metadata": {},
   "source": [
    "Concatenate PST and IMAP Messages"
   ]
  },
  {
   "cell_type": "code",
   "execution_count": 11,
   "metadata": {},
   "outputs": [],
   "source": [
    "# message_df = pd.concat([pst_message_df, imap_message_df], ignore_index=True)\n",
    "message_df = pst_message_df"
   ]
  },
  {
   "cell_type": "markdown",
   "metadata": {},
   "source": [
    "Clean Text"
   ]
  },
  {
   "cell_type": "code",
   "execution_count": 48,
   "metadata": {},
   "outputs": [
    {
     "name": "stderr",
     "output_type": "stream",
     "text": [
      "100%|██████████████████████████████████████████████████████████████████████████████████████████████████████████████████████████████| 64946/64946 [00:07<00:00, 9068.88it/s]\n"
     ]
    }
   ],
   "source": [
    "message_df['clean_text'] = message_df['plain_text_body'].progress_apply(lambda x: clean_text(x))"
   ]
  },
  {
   "cell_type": "code",
   "execution_count": 13,
   "metadata": {},
   "outputs": [
    {
     "name": "stderr",
     "output_type": "stream",
     "text": [
      "INFO:root:Pulling clean_text_messages from checkpoint\n",
      "C:\\Users\\06831.admin\\AppData\\Local\\Temp\\5\\ipykernel_25080\\664625700.py:2: DtypeWarning: Columns (11) have mixed types.Specify dtype option on import or set low_memory=False.\n",
      "  message_df = checkpointer.pull(\"clean_text_messages\")\n"
     ]
    }
   ],
   "source": [
    "# checkpointer.save(\"clean_text_messages\", message_df)\n",
    "message_df = checkpointer.pull(\"clean_text_messages\")"
   ]
  },
  {
   "cell_type": "code",
   "execution_count": 14,
   "metadata": {},
   "outputs": [
    {
     "data": {
      "text/html": [
       "<div>\n",
       "<style scoped>\n",
       "    .dataframe tbody tr th:only-of-type {\n",
       "        vertical-align: middle;\n",
       "    }\n",
       "\n",
       "    .dataframe tbody tr th {\n",
       "        vertical-align: top;\n",
       "    }\n",
       "\n",
       "    .dataframe thead th {\n",
       "        text-align: right;\n",
       "    }\n",
       "</style>\n",
       "<table border=\"1\" class=\"dataframe\">\n",
       "  <thead>\n",
       "    <tr style=\"text-align: right;\">\n",
       "      <th></th>\n",
       "      <th>message_id</th>\n",
       "      <th>subject</th>\n",
       "      <th>subject_prefix</th>\n",
       "      <th>submit_time</th>\n",
       "      <th>delivery_time</th>\n",
       "      <th>html_body</th>\n",
       "      <th>plain_text_body</th>\n",
       "      <th>from_name</th>\n",
       "      <th>from_address</th>\n",
       "      <th>to_address</th>\n",
       "      <th>...</th>\n",
       "      <th>bcc_address</th>\n",
       "      <th>previous_message_id</th>\n",
       "      <th>references</th>\n",
       "      <th>first_in_thread</th>\n",
       "      <th>num_previous_messages</th>\n",
       "      <th>thread_id</th>\n",
       "      <th>sender_domain</th>\n",
       "      <th>all_domains</th>\n",
       "      <th>is_internal</th>\n",
       "      <th>clean_text</th>\n",
       "    </tr>\n",
       "  </thead>\n",
       "  <tbody>\n",
       "    <tr>\n",
       "      <th>0</th>\n",
       "      <td>A80703EE228247DFBFA53119B879B680@dellc6a</td>\n",
       "      <td>IFRS 9 with Basel III Capital Regulations; Qatar</td>\n",
       "      <td>NaN</td>\n",
       "      <td>2023-06-30 08:11:34+00:00</td>\n",
       "      <td>2023-06-30 08:14:11+00:00</td>\n",
       "      <td>NaN</td>\n",
       "      <td>\\r\\n\\r\\n\\r\\n\\r\\n\\r\\n\\r\\nCAUTION: This email or...</td>\n",
       "      <td>john.woo@maximacorporation.com</td>\n",
       "      <td>john.woo@maximacorporation.com</td>\n",
       "      <td>info@qib.com.qa</td>\n",
       "      <td>...</td>\n",
       "      <td>NaN</td>\n",
       "      <td>NaN</td>\n",
       "      <td>NaN</td>\n",
       "      <td>True</td>\n",
       "      <td>NaN</td>\n",
       "      <td>NaN</td>\n",
       "      <td>maximacorporation.com</td>\n",
       "      <td>maximacorporation.com, qib.com.qa</td>\n",
       "      <td>False</td>\n",
       "      <td>CAUTION: This email originated from outside Q...</td>\n",
       "    </tr>\n",
       "    <tr>\n",
       "      <th>1</th>\n",
       "      <td>CAPN1eKm624Jui1oDUNnn+o+70qWrMdHRYfaJnvt=_baM-...</td>\n",
       "      <td>الكـــــــرام الدار العربية للتنمية الإدارية ا...</td>\n",
       "      <td>NaN</td>\n",
       "      <td>2023-05-08 06:00:00+00:00</td>\n",
       "      <td>2023-05-08 06:00:50+00:00</td>\n",
       "      <td>NaN</td>\n",
       "      <td>الكـــــــرام\\r\\nالدار العربية للتنمية الإداري...</td>\n",
       "      <td>fxfhxfhchkch@googlegroups.com</td>\n",
       "      <td>tadreeb258@gmail.com</td>\n",
       "      <td>NaN</td>\n",
       "      <td>...</td>\n",
       "      <td>NaN</td>\n",
       "      <td>NaN</td>\n",
       "      <td>NaN</td>\n",
       "      <td>True</td>\n",
       "      <td>NaN</td>\n",
       "      <td>NaN</td>\n",
       "      <td>gmail.com</td>\n",
       "      <td>gmail.com</td>\n",
       "      <td>False</td>\n",
       "      <td>الكـــــــرام الدار العربية للتنمية الإدارية ا...</td>\n",
       "    </tr>\n",
       "    <tr>\n",
       "      <th>2</th>\n",
       "      <td>CAO69+wOj7ZZw01SJenK9hyyxyAsZ1yvaLM+MCD1SrVeOx...</td>\n",
       "      <td>Ψالمخازن والمستودعات المعتمد Certified Warehou...</td>\n",
       "      <td>NaN</td>\n",
       "      <td>2023-04-10 20:36:57+00:00</td>\n",
       "      <td>2023-04-10 20:37:34+00:00</td>\n",
       "      <td>NaN</td>\n",
       "      <td>Ψالمخازن والمستودعات المعتمد\\r\\nCertified Ware...</td>\n",
       "      <td>ahadbh850@googlegroups.com</td>\n",
       "      <td>mohanndahad48@gmail.com</td>\n",
       "      <td>NaN</td>\n",
       "      <td>...</td>\n",
       "      <td>NaN</td>\n",
       "      <td>NaN</td>\n",
       "      <td>NaN</td>\n",
       "      <td>True</td>\n",
       "      <td>NaN</td>\n",
       "      <td>NaN</td>\n",
       "      <td>gmail.com</td>\n",
       "      <td>gmail.com</td>\n",
       "      <td>False</td>\n",
       "      <td>Ψالمخازن والمستودعات المعتمد Certified Warehou...</td>\n",
       "    </tr>\n",
       "    <tr>\n",
       "      <th>3</th>\n",
       "      <td>89622066d12c4b81a5590b8899bb3640@qib.com.qa</td>\n",
       "      <td>RE: Why still in pending status</td>\n",
       "      <td>re:</td>\n",
       "      <td>2023-10-03 08:05:16+00:00</td>\n",
       "      <td>2023-10-03 08:05:16+00:00</td>\n",
       "      <td>NaN</td>\n",
       "      <td>Dear Customer, \\r\\n \\r\\nAs per your request, p...</td>\n",
       "      <td>QIB Info</td>\n",
       "      <td>info@qib.com.qa</td>\n",
       "      <td>munezaiza04@gmail.com</td>\n",
       "      <td>...</td>\n",
       "      <td>NaN</td>\n",
       "      <td>CAAyEXHzo3Opmh1qSShykoqoit=qS43mCuW_iQhjo3egDV...</td>\n",
       "      <td>CAAyEXHyn=mVrw91xur9c1aLMH=8CNop6fa=Z2kzCuP8ow...</td>\n",
       "      <td>False</td>\n",
       "      <td>5.0</td>\n",
       "      <td>CAAyEXHyn=mVrw91xur9c1aLMH=8CNop6fa=Z2kzCuP8ow...</td>\n",
       "      <td>qib.com.qa</td>\n",
       "      <td>gmail.com, qib.com.qa</td>\n",
       "      <td>False</td>\n",
       "      <td>Dear Customer, As per your request, please be ...</td>\n",
       "    </tr>\n",
       "    <tr>\n",
       "      <th>4</th>\n",
       "      <td>VI1P194MB0542A70A1C8E670E881BD5C5ED419@VI1P194...</td>\n",
       "      <td>Re: Prepaid Visa Card</td>\n",
       "      <td>re:</td>\n",
       "      <td>2023-05-24 19:00:48+00:00</td>\n",
       "      <td>2023-05-24 19:01:18+00:00</td>\n",
       "      <td>NaN</td>\n",
       "      <td>\\r\\n\\r\\n\\r\\n\\r\\n\\r\\n\\r\\nCAUTION: This email or...</td>\n",
       "      <td>Lucky Ali</td>\n",
       "      <td>mohd.ali_786@hotmail.com</td>\n",
       "      <td>info@qib.com.qa</td>\n",
       "      <td>...</td>\n",
       "      <td>NaN</td>\n",
       "      <td>e620e8d51385433b828c9ce68466622f@QAPWD2EXSMTP0...</td>\n",
       "      <td>VI1P194MB0542469F75A77FA6382B248EED9F9@VI1P194...</td>\n",
       "      <td>False</td>\n",
       "      <td>2.0</td>\n",
       "      <td>VI1P194MB0542469F75A77FA6382B248EED9F9@VI1P194...</td>\n",
       "      <td>hotmail.com</td>\n",
       "      <td>hotmail.com, qib.com.qa</td>\n",
       "      <td>False</td>\n",
       "      <td>CAUTION: This email originated from outside QI...</td>\n",
       "    </tr>\n",
       "  </tbody>\n",
       "</table>\n",
       "<p>5 rows × 21 columns</p>\n",
       "</div>"
      ],
      "text/plain": [
       "                                          message_id  \\\n",
       "0           A80703EE228247DFBFA53119B879B680@dellc6a   \n",
       "1  CAPN1eKm624Jui1oDUNnn+o+70qWrMdHRYfaJnvt=_baM-...   \n",
       "2  CAO69+wOj7ZZw01SJenK9hyyxyAsZ1yvaLM+MCD1SrVeOx...   \n",
       "3        89622066d12c4b81a5590b8899bb3640@qib.com.qa   \n",
       "4  VI1P194MB0542A70A1C8E670E881BD5C5ED419@VI1P194...   \n",
       "\n",
       "                                             subject subject_prefix  \\\n",
       "0   IFRS 9 with Basel III Capital Regulations; Qatar            NaN   \n",
       "1  الكـــــــرام الدار العربية للتنمية الإدارية ا...            NaN   \n",
       "2  Ψالمخازن والمستودعات المعتمد Certified Warehou...            NaN   \n",
       "3                    RE: Why still in pending status            re:   \n",
       "4                              Re: Prepaid Visa Card            re:   \n",
       "\n",
       "                 submit_time              delivery_time  html_body  \\\n",
       "0  2023-06-30 08:11:34+00:00  2023-06-30 08:14:11+00:00        NaN   \n",
       "1  2023-05-08 06:00:00+00:00  2023-05-08 06:00:50+00:00        NaN   \n",
       "2  2023-04-10 20:36:57+00:00  2023-04-10 20:37:34+00:00        NaN   \n",
       "3  2023-10-03 08:05:16+00:00  2023-10-03 08:05:16+00:00        NaN   \n",
       "4  2023-05-24 19:00:48+00:00  2023-05-24 19:01:18+00:00        NaN   \n",
       "\n",
       "                                     plain_text_body  \\\n",
       "0  \\r\\n\\r\\n\\r\\n\\r\\n\\r\\n\\r\\nCAUTION: This email or...   \n",
       "1  الكـــــــرام\\r\\nالدار العربية للتنمية الإداري...   \n",
       "2  Ψالمخازن والمستودعات المعتمد\\r\\nCertified Ware...   \n",
       "3  Dear Customer, \\r\\n \\r\\nAs per your request, p...   \n",
       "4  \\r\\n\\r\\n\\r\\n\\r\\n\\r\\n\\r\\nCAUTION: This email or...   \n",
       "\n",
       "                        from_name                    from_address  \\\n",
       "0  john.woo@maximacorporation.com  john.woo@maximacorporation.com   \n",
       "1   fxfhxfhchkch@googlegroups.com            tadreeb258@gmail.com   \n",
       "2      ahadbh850@googlegroups.com         mohanndahad48@gmail.com   \n",
       "3                        QIB Info                 info@qib.com.qa   \n",
       "4                       Lucky Ali        mohd.ali_786@hotmail.com   \n",
       "\n",
       "              to_address  ... bcc_address  \\\n",
       "0        info@qib.com.qa  ...         NaN   \n",
       "1                    NaN  ...         NaN   \n",
       "2                    NaN  ...         NaN   \n",
       "3  munezaiza04@gmail.com  ...         NaN   \n",
       "4        info@qib.com.qa  ...         NaN   \n",
       "\n",
       "                                 previous_message_id  \\\n",
       "0                                                NaN   \n",
       "1                                                NaN   \n",
       "2                                                NaN   \n",
       "3  CAAyEXHzo3Opmh1qSShykoqoit=qS43mCuW_iQhjo3egDV...   \n",
       "4  e620e8d51385433b828c9ce68466622f@QAPWD2EXSMTP0...   \n",
       "\n",
       "                                          references first_in_thread  \\\n",
       "0                                                NaN            True   \n",
       "1                                                NaN            True   \n",
       "2                                                NaN            True   \n",
       "3  CAAyEXHyn=mVrw91xur9c1aLMH=8CNop6fa=Z2kzCuP8ow...           False   \n",
       "4  VI1P194MB0542469F75A77FA6382B248EED9F9@VI1P194...           False   \n",
       "\n",
       "   num_previous_messages                                          thread_id  \\\n",
       "0                    NaN                                                NaN   \n",
       "1                    NaN                                                NaN   \n",
       "2                    NaN                                                NaN   \n",
       "3                    5.0  CAAyEXHyn=mVrw91xur9c1aLMH=8CNop6fa=Z2kzCuP8ow...   \n",
       "4                    2.0  VI1P194MB0542469F75A77FA6382B248EED9F9@VI1P194...   \n",
       "\n",
       "           sender_domain                        all_domains is_internal  \\\n",
       "0  maximacorporation.com  maximacorporation.com, qib.com.qa       False   \n",
       "1              gmail.com                          gmail.com       False   \n",
       "2              gmail.com                          gmail.com       False   \n",
       "3             qib.com.qa              gmail.com, qib.com.qa       False   \n",
       "4            hotmail.com            hotmail.com, qib.com.qa       False   \n",
       "\n",
       "                                          clean_text  \n",
       "0   CAUTION: This email originated from outside Q...  \n",
       "1  الكـــــــرام الدار العربية للتنمية الإدارية ا...  \n",
       "2  Ψالمخازن والمستودعات المعتمد Certified Warehou...  \n",
       "3  Dear Customer, As per your request, please be ...  \n",
       "4  CAUTION: This email originated from outside QI...  \n",
       "\n",
       "[5 rows x 21 columns]"
      ]
     },
     "execution_count": 14,
     "metadata": {},
     "output_type": "execute_result"
    }
   ],
   "source": [
    "message_df.head()"
   ]
  },
  {
   "cell_type": "markdown",
   "metadata": {},
   "source": [
    "Response Times"
   ]
  },
  {
   "cell_type": "code",
   "execution_count": 15,
   "metadata": {},
   "outputs": [
    {
     "name": "stderr",
     "output_type": "stream",
     "text": [
      "100%|███████████████████████████████████████████████████████████████████████████████████████████████████████████████████████████████| 65465/65465 [04:38<00:00, 234.72it/s]\n",
      "INFO:root:Saved response_time_messages to checkpoint\n"
     ]
    }
   ],
   "source": [
    "message_df = get_response_time(message_df)\n",
    "checkpointer.save(\"response_time_messages\", message_df)"
   ]
  },
  {
   "cell_type": "markdown",
   "metadata": {},
   "source": [
    "Language Detection"
   ]
  },
  {
   "cell_type": "code",
   "execution_count": 16,
   "metadata": {},
   "outputs": [
    {
     "name": "stderr",
     "output_type": "stream",
     "text": [
      "INFO:root:Pulling response_time_messages from checkpoint\n",
      "C:\\Users\\06831.admin\\AppData\\Local\\Temp\\5\\ipykernel_25080\\2116134392.py:1: DtypeWarning: Columns (11) have mixed types.Specify dtype option on import or set low_memory=False.\n",
      "  message_df = checkpointer.pull(\"response_time_messages\")\n"
     ]
    }
   ],
   "source": [
    "message_df = checkpointer.pull(\"response_time_messages\")"
   ]
  },
  {
   "cell_type": "code",
   "execution_count": 22,
   "metadata": {},
   "outputs": [],
   "source": [
    "message_df.dropna(subset=[\"clean_text\"],inplace=True)"
   ]
  },
  {
   "cell_type": "code",
   "execution_count": 23,
   "metadata": {},
   "outputs": [
    {
     "name": "stderr",
     "output_type": "stream",
     "text": [
      "100%|████████████████████████████████████████████████████████████████████████████████████████████████████████████████████████████████| 64946/64946 [18:11<00:00, 59.48it/s]\n",
      "INFO:root:Saved language_messages to checkpoint\n"
     ]
    }
   ],
   "source": [
    "message_df[\"language\"] = message_df[\"clean_text\"].progress_apply(get_language)\n",
    "checkpointer.save(\"language_messages\", message_df)"
   ]
  },
  {
   "cell_type": "markdown",
   "metadata": {},
   "source": [
    "Sample and Export Preprocessed Messages"
   ]
  },
  {
   "cell_type": "code",
   "execution_count": 24,
   "metadata": {
    "scrolled": true
   },
   "outputs": [
    {
     "data": {
      "text/html": [
       "<div>\n",
       "<style scoped>\n",
       "    .dataframe tbody tr th:only-of-type {\n",
       "        vertical-align: middle;\n",
       "    }\n",
       "\n",
       "    .dataframe tbody tr th {\n",
       "        vertical-align: top;\n",
       "    }\n",
       "\n",
       "    .dataframe thead th {\n",
       "        text-align: right;\n",
       "    }\n",
       "</style>\n",
       "<table border=\"1\" class=\"dataframe\">\n",
       "  <thead>\n",
       "    <tr style=\"text-align: right;\">\n",
       "      <th></th>\n",
       "      <th>message_id</th>\n",
       "      <th>subject</th>\n",
       "      <th>subject_prefix</th>\n",
       "      <th>submit_time</th>\n",
       "      <th>delivery_time</th>\n",
       "      <th>html_body</th>\n",
       "      <th>plain_text_body</th>\n",
       "      <th>from_name</th>\n",
       "      <th>from_address</th>\n",
       "      <th>to_address</th>\n",
       "      <th>...</th>\n",
       "      <th>references</th>\n",
       "      <th>first_in_thread</th>\n",
       "      <th>num_previous_messages</th>\n",
       "      <th>thread_id</th>\n",
       "      <th>sender_domain</th>\n",
       "      <th>all_domains</th>\n",
       "      <th>is_internal</th>\n",
       "      <th>clean_text</th>\n",
       "      <th>response_time</th>\n",
       "      <th>language</th>\n",
       "    </tr>\n",
       "  </thead>\n",
       "  <tbody>\n",
       "    <tr>\n",
       "      <th>0</th>\n",
       "      <td>A80703EE228247DFBFA53119B879B680@dellc6a</td>\n",
       "      <td>IFRS 9 with Basel III Capital Regulations; Qatar</td>\n",
       "      <td>NaN</td>\n",
       "      <td>2023-06-30 08:11:34+00:00</td>\n",
       "      <td>2023-06-30 08:14:11+00:00</td>\n",
       "      <td>NaN</td>\n",
       "      <td>\\r\\n\\r\\n\\r\\n\\r\\n\\r\\n\\r\\nCAUTION: This email or...</td>\n",
       "      <td>john.woo@maximacorporation.com</td>\n",
       "      <td>john.woo@maximacorporation.com</td>\n",
       "      <td>info@qib.com.qa</td>\n",
       "      <td>...</td>\n",
       "      <td>NaN</td>\n",
       "      <td>True</td>\n",
       "      <td>NaN</td>\n",
       "      <td>NaN</td>\n",
       "      <td>maximacorporation.com</td>\n",
       "      <td>maximacorporation.com, qib.com.qa</td>\n",
       "      <td>False</td>\n",
       "      <td>CAUTION: This email originated from outside Q...</td>\n",
       "      <td>NaN</td>\n",
       "      <td>en</td>\n",
       "    </tr>\n",
       "    <tr>\n",
       "      <th>1</th>\n",
       "      <td>CAPN1eKm624Jui1oDUNnn+o+70qWrMdHRYfaJnvt=_baM-...</td>\n",
       "      <td>الكـــــــرام الدار العربية للتنمية الإدارية ا...</td>\n",
       "      <td>NaN</td>\n",
       "      <td>2023-05-08 06:00:00+00:00</td>\n",
       "      <td>2023-05-08 06:00:50+00:00</td>\n",
       "      <td>NaN</td>\n",
       "      <td>الكـــــــرام\\r\\nالدار العربية للتنمية الإداري...</td>\n",
       "      <td>fxfhxfhchkch@googlegroups.com</td>\n",
       "      <td>tadreeb258@gmail.com</td>\n",
       "      <td>NaN</td>\n",
       "      <td>...</td>\n",
       "      <td>NaN</td>\n",
       "      <td>True</td>\n",
       "      <td>NaN</td>\n",
       "      <td>NaN</td>\n",
       "      <td>gmail.com</td>\n",
       "      <td>gmail.com</td>\n",
       "      <td>False</td>\n",
       "      <td>الكـــــــرام الدار العربية للتنمية الإدارية ا...</td>\n",
       "      <td>NaN</td>\n",
       "      <td>ar</td>\n",
       "    </tr>\n",
       "    <tr>\n",
       "      <th>2</th>\n",
       "      <td>CAO69+wOj7ZZw01SJenK9hyyxyAsZ1yvaLM+MCD1SrVeOx...</td>\n",
       "      <td>Ψالمخازن والمستودعات المعتمد Certified Warehou...</td>\n",
       "      <td>NaN</td>\n",
       "      <td>2023-04-10 20:36:57+00:00</td>\n",
       "      <td>2023-04-10 20:37:34+00:00</td>\n",
       "      <td>NaN</td>\n",
       "      <td>Ψالمخازن والمستودعات المعتمد\\r\\nCertified Ware...</td>\n",
       "      <td>ahadbh850@googlegroups.com</td>\n",
       "      <td>mohanndahad48@gmail.com</td>\n",
       "      <td>NaN</td>\n",
       "      <td>...</td>\n",
       "      <td>NaN</td>\n",
       "      <td>True</td>\n",
       "      <td>NaN</td>\n",
       "      <td>NaN</td>\n",
       "      <td>gmail.com</td>\n",
       "      <td>gmail.com</td>\n",
       "      <td>False</td>\n",
       "      <td>Ψالمخازن والمستودعات المعتمد Certified Warehou...</td>\n",
       "      <td>NaN</td>\n",
       "      <td>ar</td>\n",
       "    </tr>\n",
       "    <tr>\n",
       "      <th>3</th>\n",
       "      <td>89622066d12c4b81a5590b8899bb3640@qib.com.qa</td>\n",
       "      <td>RE: Why still in pending status</td>\n",
       "      <td>re:</td>\n",
       "      <td>2023-10-03 08:05:16+00:00</td>\n",
       "      <td>2023-10-03 08:05:16+00:00</td>\n",
       "      <td>NaN</td>\n",
       "      <td>Dear Customer, \\r\\n \\r\\nAs per your request, p...</td>\n",
       "      <td>QIB Info</td>\n",
       "      <td>info@qib.com.qa</td>\n",
       "      <td>munezaiza04@gmail.com</td>\n",
       "      <td>...</td>\n",
       "      <td>CAAyEXHyn=mVrw91xur9c1aLMH=8CNop6fa=Z2kzCuP8ow...</td>\n",
       "      <td>False</td>\n",
       "      <td>5.0</td>\n",
       "      <td>CAAyEXHyn=mVrw91xur9c1aLMH=8CNop6fa=Z2kzCuP8ow...</td>\n",
       "      <td>qib.com.qa</td>\n",
       "      <td>gmail.com, qib.com.qa</td>\n",
       "      <td>False</td>\n",
       "      <td>Dear Customer, As per your request, please be ...</td>\n",
       "      <td>43649.0</td>\n",
       "      <td>ar</td>\n",
       "    </tr>\n",
       "    <tr>\n",
       "      <th>4</th>\n",
       "      <td>VI1P194MB0542A70A1C8E670E881BD5C5ED419@VI1P194...</td>\n",
       "      <td>Re: Prepaid Visa Card</td>\n",
       "      <td>re:</td>\n",
       "      <td>2023-05-24 19:00:48+00:00</td>\n",
       "      <td>2023-05-24 19:01:18+00:00</td>\n",
       "      <td>NaN</td>\n",
       "      <td>\\r\\n\\r\\n\\r\\n\\r\\n\\r\\n\\r\\nCAUTION: This email or...</td>\n",
       "      <td>Lucky Ali</td>\n",
       "      <td>mohd.ali_786@hotmail.com</td>\n",
       "      <td>info@qib.com.qa</td>\n",
       "      <td>...</td>\n",
       "      <td>VI1P194MB0542469F75A77FA6382B248EED9F9@VI1P194...</td>\n",
       "      <td>False</td>\n",
       "      <td>2.0</td>\n",
       "      <td>VI1P194MB0542469F75A77FA6382B248EED9F9@VI1P194...</td>\n",
       "      <td>hotmail.com</td>\n",
       "      <td>hotmail.com, qib.com.qa</td>\n",
       "      <td>False</td>\n",
       "      <td>CAUTION: This email originated from outside QI...</td>\n",
       "      <td>NaN</td>\n",
       "      <td>en</td>\n",
       "    </tr>\n",
       "  </tbody>\n",
       "</table>\n",
       "<p>5 rows × 23 columns</p>\n",
       "</div>"
      ],
      "text/plain": [
       "                                          message_id  \\\n",
       "0           A80703EE228247DFBFA53119B879B680@dellc6a   \n",
       "1  CAPN1eKm624Jui1oDUNnn+o+70qWrMdHRYfaJnvt=_baM-...   \n",
       "2  CAO69+wOj7ZZw01SJenK9hyyxyAsZ1yvaLM+MCD1SrVeOx...   \n",
       "3        89622066d12c4b81a5590b8899bb3640@qib.com.qa   \n",
       "4  VI1P194MB0542A70A1C8E670E881BD5C5ED419@VI1P194...   \n",
       "\n",
       "                                             subject subject_prefix  \\\n",
       "0   IFRS 9 with Basel III Capital Regulations; Qatar            NaN   \n",
       "1  الكـــــــرام الدار العربية للتنمية الإدارية ا...            NaN   \n",
       "2  Ψالمخازن والمستودعات المعتمد Certified Warehou...            NaN   \n",
       "3                    RE: Why still in pending status            re:   \n",
       "4                              Re: Prepaid Visa Card            re:   \n",
       "\n",
       "                 submit_time              delivery_time  html_body  \\\n",
       "0  2023-06-30 08:11:34+00:00  2023-06-30 08:14:11+00:00        NaN   \n",
       "1  2023-05-08 06:00:00+00:00  2023-05-08 06:00:50+00:00        NaN   \n",
       "2  2023-04-10 20:36:57+00:00  2023-04-10 20:37:34+00:00        NaN   \n",
       "3  2023-10-03 08:05:16+00:00  2023-10-03 08:05:16+00:00        NaN   \n",
       "4  2023-05-24 19:00:48+00:00  2023-05-24 19:01:18+00:00        NaN   \n",
       "\n",
       "                                     plain_text_body  \\\n",
       "0  \\r\\n\\r\\n\\r\\n\\r\\n\\r\\n\\r\\nCAUTION: This email or...   \n",
       "1  الكـــــــرام\\r\\nالدار العربية للتنمية الإداري...   \n",
       "2  Ψالمخازن والمستودعات المعتمد\\r\\nCertified Ware...   \n",
       "3  Dear Customer, \\r\\n \\r\\nAs per your request, p...   \n",
       "4  \\r\\n\\r\\n\\r\\n\\r\\n\\r\\n\\r\\nCAUTION: This email or...   \n",
       "\n",
       "                        from_name                    from_address  \\\n",
       "0  john.woo@maximacorporation.com  john.woo@maximacorporation.com   \n",
       "1   fxfhxfhchkch@googlegroups.com            tadreeb258@gmail.com   \n",
       "2      ahadbh850@googlegroups.com         mohanndahad48@gmail.com   \n",
       "3                        QIB Info                 info@qib.com.qa   \n",
       "4                       Lucky Ali        mohd.ali_786@hotmail.com   \n",
       "\n",
       "              to_address  ...  \\\n",
       "0        info@qib.com.qa  ...   \n",
       "1                    NaN  ...   \n",
       "2                    NaN  ...   \n",
       "3  munezaiza04@gmail.com  ...   \n",
       "4        info@qib.com.qa  ...   \n",
       "\n",
       "                                          references first_in_thread  \\\n",
       "0                                                NaN            True   \n",
       "1                                                NaN            True   \n",
       "2                                                NaN            True   \n",
       "3  CAAyEXHyn=mVrw91xur9c1aLMH=8CNop6fa=Z2kzCuP8ow...           False   \n",
       "4  VI1P194MB0542469F75A77FA6382B248EED9F9@VI1P194...           False   \n",
       "\n",
       "  num_previous_messages                                          thread_id  \\\n",
       "0                   NaN                                                NaN   \n",
       "1                   NaN                                                NaN   \n",
       "2                   NaN                                                NaN   \n",
       "3                   5.0  CAAyEXHyn=mVrw91xur9c1aLMH=8CNop6fa=Z2kzCuP8ow...   \n",
       "4                   2.0  VI1P194MB0542469F75A77FA6382B248EED9F9@VI1P194...   \n",
       "\n",
       "           sender_domain                        all_domains is_internal  \\\n",
       "0  maximacorporation.com  maximacorporation.com, qib.com.qa       False   \n",
       "1              gmail.com                          gmail.com       False   \n",
       "2              gmail.com                          gmail.com       False   \n",
       "3             qib.com.qa              gmail.com, qib.com.qa       False   \n",
       "4            hotmail.com            hotmail.com, qib.com.qa       False   \n",
       "\n",
       "                                          clean_text response_time  language  \n",
       "0   CAUTION: This email originated from outside Q...           NaN        en  \n",
       "1  الكـــــــرام الدار العربية للتنمية الإدارية ا...           NaN        ar  \n",
       "2  Ψالمخازن والمستودعات المعتمد Certified Warehou...           NaN        ar  \n",
       "3  Dear Customer, As per your request, please be ...       43649.0        ar  \n",
       "4  CAUTION: This email originated from outside QI...           NaN        en  \n",
       "\n",
       "[5 rows x 23 columns]"
      ]
     },
     "execution_count": 24,
     "metadata": {},
     "output_type": "execute_result"
    }
   ],
   "source": [
    "message_df.head(500).to_csv(os.path.normpath(f\"{DATA_DIR}/interim/sample_preprocessed_messages_{DATE}.csv\"), index=False)\n",
    "message_df.head(5)"
   ]
  },
  {
   "cell_type": "code",
   "execution_count": 59,
   "metadata": {},
   "outputs": [],
   "source": [
    "message_df.to_csv(os.path.normpath(f\"{DATA_DIR}/interim/preprocessed_messages_{DATE}.csv\"), index=False)"
   ]
  }
 ],
 "metadata": {
  "kernelspec": {
   "display_name": "Python 3 (ipykernel)",
   "language": "python",
   "name": "python3"
  },
  "language_info": {
   "codemirror_mode": {
    "name": "ipython",
    "version": 3
   },
   "file_extension": ".py",
   "mimetype": "text/x-python",
   "name": "python",
   "nbconvert_exporter": "python",
   "pygments_lexer": "ipython3",
   "version": "3.11.4"
  }
 },
 "nbformat": 4,
 "nbformat_minor": 2
}
