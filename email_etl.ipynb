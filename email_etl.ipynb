{
 "cells": [
  {
   "cell_type": "markdown",
   "metadata": {},
   "source": [
    "## Email Analysis *Extract, Load, and Transform* Notebook"
   ]
  },
  {
   "cell_type": "markdown",
   "metadata": {},
   "source": [
    "### Imports"
   ]
  },
  {
   "cell_type": "code",
   "execution_count": 1,
   "metadata": {},
   "outputs": [],
   "source": [
    "# Standard Library Imports\n",
    "import logging\n",
    "from typing import List, Dict, Any\n",
    "from datetime import datetime\n",
    "\n",
    "# Third-Party Imports\n",
    "import pypff # type: ignore\n",
    "\n",
    "# Local Imports\n",
    "from src.utils.config import Config\n",
    "from src.extract.pst_extractor import PstMessageExtractor, PrimaryEmailFeatures, ProcessedBatch\n",
    "from src.transform.primary_features import PrimaryFeaturesExtractor\n",
    "#from src.transform.derived_features import DerivedFeaturesExtractor\n",
    "#from src.load.data_loader import DataLoader\n",
    "\n",
    "logging.basicConfig(level=logging.INFO)"
   ]
  },
  {
   "cell_type": "markdown",
   "metadata": {},
   "source": [
    "### Configuration"
   ]
  },
  {
   "cell_type": "code",
   "execution_count": 2,
   "metadata": {},
   "outputs": [],
   "source": [
    "config: Config = Config.from_json(\"config.json\")\n",
    "extractor: PstMessageExtractor = PstMessageExtractor(config.input_pst_path, config.chunk_size)\n",
    "primary_extractor: PrimaryFeaturesExtractor = PrimaryFeaturesExtractor()\n",
    "#derived_extractor: DerivedFeaturesExtractor = DerivedFeaturesExtractor()\n",
    "#loader: DataLoader = DataLoader(config.output_directory)"
   ]
  },
  {
   "cell_type": "markdown",
   "metadata": {},
   "source": [
    "### Extract"
   ]
  },
  {
   "cell_type": "code",
   "execution_count": 3,
   "metadata": {},
   "outputs": [
    {
     "name": "stderr",
     "output_type": "stream",
     "text": [
      "INFO:root:Skipping empty folder: Deleted Items\n",
      "INFO:root:Extracting messages from folder: Inbox\n",
      "ERROR:root:Error getting value for key subject: pypff_message_get_conversation_topic: unable to retrieve conversation topic size. libuna_unicode_character_copy_from_utf16_stream: unsupported UTF-16 character. libuna_utf8_string_size_from_utf16_stream: unable to copy Unicode character from UTF-16 stream. libpff_mapi_value_get_data_as_utf8_string_size: unable to determine size of value data as UTF-8 string. libpff_record_entry_get_data_as_utf8_string_size_with_codepage: unable to determine size of value data as UTF-8 string. libpff_internal_item_get_entry_value_utf8_string_size: unable to retrieve UTF-8 string size. libpff_message_get_entry_value_utf8_string_size: unable to retrieve UTF-8 string size.\n",
      "INFO:root:Skipping empty folder: Outbox\n",
      "INFO:root:Skipping empty folder: Sync Issues (This computer only)\n",
      "INFO:root:Skipping empty folder: [Gmail]\n",
      "INFO:root:Skipping empty folder: Banking\n",
      "INFO:root:Skipping empty folder: Notes\n",
      "INFO:root:Skipping empty folder: Receipt\n"
     ]
    }
   ],
   "source": [
    "for chunk in extractor.extract_messages():\n",
    "        processed_messages: List[PrimaryEmailFeatures] = []\n",
    "        \n",
    "        for message in chunk.messages:\n",
    "            primary_features: PrimaryEmailFeatures = primary_extractor.extract(message, chunk.folder_path)\n",
    "            #derived_features: Dict[str, Any] = derived_extractor.extract(primary_features.dict())\n",
    "            \n",
    "            email_message = PrimaryEmailFeatures(\n",
    "                **primary_features.model_dump(),\n",
    "                #**derived_features\n",
    "            )\n",
    "            \n",
    "            processed_messages.append(email_message)\n",
    "        \n",
    "        processed_batch: ProcessedBatch = ProcessedBatch(\n",
    "            batch_id=f\"batch_{datetime.now().isoformat()}\",\n",
    "            processed_at=datetime.now(),\n",
    "            messages=processed_messages\n",
    "        )\n",
    "        #loader.load(processed_batch)"
   ]
  }
 ],
 "metadata": {
  "kernelspec": {
   "display_name": "email_analysis",
   "language": "python",
   "name": "python3"
  },
  "language_info": {
   "codemirror_mode": {
    "name": "ipython",
    "version": 3
   },
   "file_extension": ".py",
   "mimetype": "text/x-python",
   "name": "python",
   "nbconvert_exporter": "python",
   "pygments_lexer": "ipython3",
   "version": "3.11.9"
  }
 },
 "nbformat": 4,
 "nbformat_minor": 2
}
