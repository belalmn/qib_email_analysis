{
 "cells": [
  {
   "cell_type": "markdown",
   "metadata": {},
   "source": [
    "## Email Analysis *Extract, Load, and Transform* Notebook"
   ]
  },
  {
   "cell_type": "markdown",
   "metadata": {},
   "source": [
    "### Imports"
   ]
  },
  {
   "cell_type": "code",
   "execution_count": 1,
   "metadata": {},
   "outputs": [],
   "source": [
    "# Standard Library Imports\n",
    "import logging\n",
    "from typing import List, Dict, Any\n",
    "from datetime import datetime\n",
    "\n",
    "# Third-Party Imports\n",
    "import pypff # type: ignore\n",
    "\n",
    "# Local Imports\n",
    "from src.utils.config import Config\n",
    "from src.extract.pst_extractor import PstMessageExtractor, EmailMessage, ProcessedBatch\n",
    "from src.transform.primary_features import PrimaryFeaturesExtractor, PrimaryFeatures\n",
    "#from src.transform.derived_features import DerivedFeaturesExtractor\n",
    "#from src.load.data_loader import DataLoader\n",
    "\n",
    "logging.basicConfig(level=logging.INFO)"
   ]
  },
  {
   "cell_type": "markdown",
   "metadata": {},
   "source": [
    "### Configuration"
   ]
  },
  {
   "cell_type": "code",
   "execution_count": 2,
   "metadata": {},
   "outputs": [],
   "source": [
    "config: Config = Config.from_json(\"config.json\")\n",
    "extractor: PstMessageExtractor = PstMessageExtractor(config.input_pst_path, config.chunk_size)\n",
    "primary_extractor: PrimaryFeaturesExtractor = PrimaryFeaturesExtractor()\n",
    "#derived_extractor: DerivedFeaturesExtractor = DerivedFeaturesExtractor()\n",
    "#loader: DataLoader = DataLoader(config.output_directory)"
   ]
  },
  {
   "cell_type": "markdown",
   "metadata": {},
   "source": [
    "### Extract"
   ]
  },
  {
   "cell_type": "code",
   "execution_count": 3,
   "metadata": {},
   "outputs": [
    {
     "name": "stderr",
     "output_type": "stream",
     "text": [
      "INFO:root:Skipping empty folder: Deleted Items\n",
      "INFO:root:Extracting messages from folder: Inbox\n"
     ]
    },
    {
     "ename": "OSError",
     "evalue": "pypff_message_get_subject: unable to retrieve subject size. libuna_unicode_character_copy_from_utf16_stream: unsupported UTF-16 character. libuna_utf8_string_size_from_utf16_stream: unable to copy Unicode character from UTF-16 stream. libpff_mapi_value_get_data_as_utf8_string_size: unable to determine size of value data as UTF-8 string. libpff_record_entry_get_data_as_utf8_string_size_with_codepage: unable to determine size of value data as UTF-8 string. libpff_internal_item_get_entry_value_utf8_string_size: unable to retrieve UTF-8 string size. libpff_message_get_entry_value_utf8_string_size: unable to retrieve UTF-8 string size.",
     "output_type": "error",
     "traceback": [
      "\u001b[0;31m---------------------------------------------------------------------------\u001b[0m",
      "\u001b[0;31mOSError\u001b[0m                                   Traceback (most recent call last)",
      "Cell \u001b[0;32mIn[3], line 5\u001b[0m\n\u001b[1;32m      2\u001b[0m processed_messages: List[EmailMessage] \u001b[38;5;241m=\u001b[39m []\n\u001b[1;32m      4\u001b[0m \u001b[38;5;28;01mfor\u001b[39;00m message \u001b[38;5;129;01min\u001b[39;00m chunk\u001b[38;5;241m.\u001b[39mmessages:\n\u001b[0;32m----> 5\u001b[0m     primary_features: PrimaryFeatures \u001b[38;5;241m=\u001b[39m \u001b[43mprimary_extractor\u001b[49m\u001b[38;5;241;43m.\u001b[39;49m\u001b[43mextract\u001b[49m\u001b[43m(\u001b[49m\u001b[43mmessage\u001b[49m\u001b[43m,\u001b[49m\u001b[43m \u001b[49m\u001b[43mchunk\u001b[49m\u001b[38;5;241;43m.\u001b[39;49m\u001b[43mfolder_path\u001b[49m\u001b[43m)\u001b[49m\n\u001b[1;32m      6\u001b[0m     \u001b[38;5;66;03m#derived_features: Dict[str, Any] = derived_extractor.extract(primary_features.dict())\u001b[39;00m\n\u001b[1;32m      8\u001b[0m     email_message \u001b[38;5;241m=\u001b[39m EmailMessage(\n\u001b[1;32m      9\u001b[0m         \u001b[38;5;241m*\u001b[39m\u001b[38;5;241m*\u001b[39mprimary_features\u001b[38;5;241m.\u001b[39mmodel_dump(),\n\u001b[1;32m     10\u001b[0m         \u001b[38;5;66;03m#**derived_features\u001b[39;00m\n\u001b[1;32m     11\u001b[0m     )\n",
      "File \u001b[0;32m~/email_analysis/src/transform/primary_features.py:39\u001b[0m, in \u001b[0;36mPrimaryFeaturesExtractor.extract\u001b[0;34m(message, folder_name)\u001b[0m\n\u001b[1;32m     31\u001b[0m \u001b[38;5;28;01mexcept\u001b[39;00m \u001b[38;5;167;01mException\u001b[39;00m \u001b[38;5;28;01mas\u001b[39;00m e:\n\u001b[1;32m     32\u001b[0m     \u001b[38;5;66;03m#logging.warning(f\"Error extracting attachments: {e}\")\u001b[39;00m\n\u001b[1;32m     33\u001b[0m     \u001b[38;5;28;01mpass\u001b[39;00m\n\u001b[1;32m     37\u001b[0m \u001b[38;5;28;01mreturn\u001b[39;00m PrimaryFeatures(\n\u001b[1;32m     38\u001b[0m     identifier\u001b[38;5;241m=\u001b[39m\u001b[38;5;28mstr\u001b[39m(message\u001b[38;5;241m.\u001b[39midentifier),\n\u001b[0;32m---> 39\u001b[0m     subject\u001b[38;5;241m=\u001b[39m\u001b[43mmessage\u001b[49m\u001b[38;5;241;43m.\u001b[39;49m\u001b[43msubject\u001b[49m \u001b[38;5;129;01mor\u001b[39;00m \u001b[38;5;124m\"\u001b[39m\u001b[38;5;124m\"\u001b[39m,\n\u001b[1;32m     40\u001b[0m     sender_name\u001b[38;5;241m=\u001b[39mmessage\u001b[38;5;241m.\u001b[39msender_name \u001b[38;5;129;01mor\u001b[39;00m \u001b[38;5;124m\"\u001b[39m\u001b[38;5;124m\"\u001b[39m,\n\u001b[1;32m     41\u001b[0m     from_address\u001b[38;5;241m=\u001b[39mheaders\u001b[38;5;241m.\u001b[39mget(\u001b[38;5;124m'\u001b[39m\u001b[38;5;124mFrom\u001b[39m\u001b[38;5;124m'\u001b[39m),\n\u001b[1;32m     42\u001b[0m     to_address\u001b[38;5;241m=\u001b[39mheaders\u001b[38;5;241m.\u001b[39mget(\u001b[38;5;124m'\u001b[39m\u001b[38;5;124mTo\u001b[39m\u001b[38;5;124m'\u001b[39m),\n\u001b[1;32m     43\u001b[0m     cc_address\u001b[38;5;241m=\u001b[39mheaders\u001b[38;5;241m.\u001b[39mget(\u001b[38;5;124m'\u001b[39m\u001b[38;5;124mCC\u001b[39m\u001b[38;5;124m'\u001b[39m),\n\u001b[1;32m     44\u001b[0m     bcc_address\u001b[38;5;241m=\u001b[39mheaders\u001b[38;5;241m.\u001b[39mget(\u001b[38;5;124m'\u001b[39m\u001b[38;5;124mBCC\u001b[39m\u001b[38;5;124m'\u001b[39m),\n\u001b[1;32m     45\u001b[0m     creation_time\u001b[38;5;241m=\u001b[39mmessage\u001b[38;5;241m.\u001b[39mcreation_time,\n\u001b[1;32m     46\u001b[0m     submit_time\u001b[38;5;241m=\u001b[39mmessage\u001b[38;5;241m.\u001b[39mclient_submit_time,\n\u001b[1;32m     47\u001b[0m     delivery_time\u001b[38;5;241m=\u001b[39mmessage\u001b[38;5;241m.\u001b[39mdelivery_time,\n\u001b[1;32m     48\u001b[0m     attachment_count\u001b[38;5;241m=\u001b[39mattachment_count,\n\u001b[1;32m     49\u001b[0m     body\u001b[38;5;241m=\u001b[39mPrimaryFeaturesExtractor\u001b[38;5;241m.\u001b[39m_truncate_body(message\u001b[38;5;241m.\u001b[39mplain_text_body),\n\u001b[1;32m     50\u001b[0m     folder_name\u001b[38;5;241m=\u001b[39mfolder_name\n\u001b[1;32m     51\u001b[0m )\n",
      "\u001b[0;31mOSError\u001b[0m: pypff_message_get_subject: unable to retrieve subject size. libuna_unicode_character_copy_from_utf16_stream: unsupported UTF-16 character. libuna_utf8_string_size_from_utf16_stream: unable to copy Unicode character from UTF-16 stream. libpff_mapi_value_get_data_as_utf8_string_size: unable to determine size of value data as UTF-8 string. libpff_record_entry_get_data_as_utf8_string_size_with_codepage: unable to determine size of value data as UTF-8 string. libpff_internal_item_get_entry_value_utf8_string_size: unable to retrieve UTF-8 string size. libpff_message_get_entry_value_utf8_string_size: unable to retrieve UTF-8 string size."
     ]
    }
   ],
   "source": [
    "for chunk in extractor.extract_messages():\n",
    "        processed_messages: List[EmailMessage] = []\n",
    "        \n",
    "        for message in chunk.messages:\n",
    "            primary_features: PrimaryFeatures = primary_extractor.extract(message, chunk.folder_path)\n",
    "            #derived_features: Dict[str, Any] = derived_extractor.extract(primary_features.dict())\n",
    "            \n",
    "            email_message = EmailMessage(\n",
    "                **primary_features.model_dump(),\n",
    "                #**derived_features\n",
    "            )\n",
    "            \n",
    "            processed_messages.append(email_message)\n",
    "        \n",
    "        processed_batch: ProcessedBatch = ProcessedBatch(\n",
    "            batch_id=f\"batch_{datetime.now().isoformat()}\",\n",
    "            processed_at=datetime.now(),\n",
    "            messages=processed_messages\n",
    "        )\n",
    "        #loader.load(processed_batch)"
   ]
  }
 ],
 "metadata": {
  "kernelspec": {
   "display_name": "email_analysis",
   "language": "python",
   "name": "python3"
  },
  "language_info": {
   "codemirror_mode": {
    "name": "ipython",
    "version": 3
   },
   "file_extension": ".py",
   "mimetype": "text/x-python",
   "name": "python",
   "nbconvert_exporter": "python",
   "pygments_lexer": "ipython3",
   "version": "3.11.9"
  }
 },
 "nbformat": 4,
 "nbformat_minor": 2
}
