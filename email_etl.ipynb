{
 "cells": [
  {
   "cell_type": "markdown",
   "metadata": {},
   "source": [
    "## Email Analysis *Extract, Load, and Transform* Notebook"
   ]
  },
  {
   "cell_type": "markdown",
   "metadata": {},
   "source": [
    "### Imports"
   ]
  },
  {
   "cell_type": "code",
   "execution_count": null,
   "metadata": {},
   "outputs": [],
   "source": [
    "# Standard Library Imports\n",
    "import logging\n",
    "from typing import List, Dict, Any\n",
    "from datetime import datetime\n",
    "\n",
    "# Third-Party Imports\n",
    "import pypff # type: ignore\n",
    "from sqlalchemy.exc import SQLAlchemyError\n",
    "\n",
    "# Local Imports\n",
    "from src.utils.config import Config\n",
    "from src.extract.pst_message_extractor import PstMessageExtractor\n",
    "from src.transform.message_parser import MessageParser, ParsedMessage\n",
    "from src.transform.message_enricher import MessageEnricher, EnrichedMessage\n",
    "from src.load.data_loader import DataLoader\n",
    "\n",
    "logging.basicConfig(level=logging.INFO)"
   ]
  },
  {
   "cell_type": "markdown",
   "metadata": {},
   "source": [
    "### Configuration"
   ]
  },
  {
   "cell_type": "code",
   "execution_count": null,
   "metadata": {},
   "outputs": [],
   "source": [
    "config: Config = Config.from_json(\"config.json\")\n",
    "extractor: PstMessageExtractor = PstMessageExtractor(config.input_pst_path, config.chunk_size)\n",
    "message_parser: MessageParser = MessageParser()\n",
    "message_enricher: MessageEnricher = MessageEnricher()\n",
    "loader: DataLoader = DataLoader(host=config.db_host, user=config.db_user, password=config.db_password, database=config.db_name)"
   ]
  },
  {
   "cell_type": "markdown",
   "metadata": {},
   "source": [
    "### ETL Pipeline with Error Handling"
   ]
  },
  {
   "cell_type": "code",
   "execution_count": null,
   "metadata": {},
   "outputs": [],
   "source": [
    "loader.create_tables()\n",
    "\n",
    "for message_batch in extractor.extract_messages():\n",
    "    enriched_messages: List[EnrichedMessage] = []\n",
    "    \n",
    "    for pst_message in message_batch.messages:\n",
    "        provider_email_id = pst_message.provider_email_id\n",
    "        # logging.info(f\"Processing message {provider_email_id}\")\n",
    "        try:\n",
    "            parsed_message: ParsedMessage = message_parser.parse(pst_message.message, provider_email_id, pst_message.folder_name)\n",
    "        except Exception as e:\n",
    "            continue\n",
    "\n",
    "        try:\n",
    "            enriched_message: EnrichedMessage = message_enricher.enrich_message(parsed_message)\n",
    "        except Exception as e:\n",
    "            continue\n",
    "        else:\n",
    "            enriched_messages.append(enriched_message)\n",
    "\n",
    "    try:\n",
    "        loader.load(enriched_messages)\n",
    "    except SQLAlchemyError as e:\n",
    "        logging.error(f\"Error loading messages in batch {message_batch.batch_id}: {e}\")\n",
    "        continue\n",
    "    else:\n",
    "        logging.info(f\"Loaded {len(enriched_messages)} messages in batch {message_batch.batch_id}\")\n",
    "\n",
    "loader.export_to_csv(\"./data/processed\")\n",
    "loader.close()"
   ]
  }
 ],
 "metadata": {
  "kernelspec": {
   "display_name": "email_analysis",
   "language": "python",
   "name": "python3"
  },
  "language_info": {
   "codemirror_mode": {
    "name": "ipython",
    "version": 3
   },
   "file_extension": ".py",
   "mimetype": "text/x-python",
   "name": "python",
   "nbconvert_exporter": "python",
   "pygments_lexer": "ipython3",
   "version": "3.11.9"
  }
 },
 "nbformat": 4,
 "nbformat_minor": 2
}
