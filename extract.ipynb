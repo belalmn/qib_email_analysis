{
 "cells": [
  {
   "cell_type": "markdown",
   "metadata": {},
   "source": [
    "# ETL Pipeline: Extract"
   ]
  },
  {
   "cell_type": "markdown",
   "metadata": {},
   "source": [
    "## Imports"
   ]
  },
  {
   "cell_type": "code",
   "execution_count": null,
   "metadata": {},
   "outputs": [],
   "source": [
    "import logging\n",
    "\n",
    "import matplotlib.pyplot as plt\n",
    "import pandas as pd\n",
    "\n",
    "from src.extract.imap.imap_extractor import IMAPExtractor\n",
    "from src.extract.pst.pst_extractor import PSTExtractor\n",
    "from src.transform.message_transformer import get_language, get_response_time, clean_text\n",
    "\n",
    "logging.basicConfig(level=logging.INFO)"
   ]
  },
  {
   "cell_type": "markdown",
   "metadata": {},
   "source": [
    "## Extraction"
   ]
  },
  {
   "cell_type": "markdown",
   "metadata": {},
   "source": [
    "### Ingest from PST"
   ]
  },
  {
   "cell_type": "code",
   "execution_count": null,
   "metadata": {},
   "outputs": [
    {
     "name": "stderr",
     "output_type": "stream",
     "text": [
      "INFO:root:Opening ./data/raw/emails.pst for extraction\n",
      "INFO:root:Found 5039 messages in total\n",
      "INFO:root:Parsing messages\n",
      "INFO:root:Filling missing data\n",
      "INFO:root:Parsing email threading\n",
      "INFO:root:Parsing domain info\n",
      "INFO:root:Extracting missing email ids\n",
      "INFO:root:Extracted 5039 messages\n"
     ]
    }
   ],
   "source": [
    "pst_extractor = PSTExtractor(\"./data/raw/emails.pst\")\n",
    "pst_message_df = pst_extractor.message_df"
   ]
  },
  {
   "cell_type": "markdown",
   "metadata": {},
   "source": [
    "Get missing emails."
   ]
  },
  {
   "cell_type": "code",
   "execution_count": null,
   "metadata": {},
   "outputs": [
    {
     "name": "stdout",
     "output_type": "stream",
     "text": [
      "739\n"
     ]
    }
   ],
   "source": [
    "missing_emails = pst_extractor.missing_email_ids\n",
    "print(len(missing_emails))"
   ]
  },
  {
   "cell_type": "markdown",
   "metadata": {},
   "source": [
    "### Ingest Missing Emails from IMAP Server"
   ]
  },
  {
   "cell_type": "markdown",
   "metadata": {},
   "source": [
    "IMAP Server Setup"
   ]
  },
  {
   "cell_type": "code",
   "execution_count": null,
   "metadata": {},
   "outputs": [],
   "source": [
    "# EMAIL_ACCOUNT = ''\n",
    "# PASSWORD = ''\n",
    "# SERVER = 'imap.gmail.com'\n",
    "# imap_extractor = IMAPExtractor(EMAIL_ACCOUNT, PASSWORD, SERVER)"
   ]
  },
  {
   "cell_type": "markdown",
   "metadata": {},
   "source": [
    "Available Mailboxes"
   ]
  },
  {
   "cell_type": "code",
   "execution_count": null,
   "metadata": {},
   "outputs": [],
   "source": [
    "# imap_extractor.list_mailboxes()"
   ]
  },
  {
   "cell_type": "markdown",
   "metadata": {},
   "source": [
    "Fetch Missing Emails"
   ]
  },
  {
   "cell_type": "code",
   "execution_count": null,
   "metadata": {},
   "outputs": [],
   "source": [
    "# mailboxes_to_fetch = [\"INBOX\", \"\\\"[Gmail]/Sent Mail\\\"\"]\n",
    "# imap_message_df = imap_extractor.extract_messages_from_imap(mailboxes_to_fetch, missing_emails, None)"
   ]
  },
  {
   "cell_type": "markdown",
   "metadata": {},
   "source": [
    "Export to CSV"
   ]
  },
  {
   "cell_type": "code",
   "execution_count": null,
   "metadata": {},
   "outputs": [],
   "source": [
    "pst_message_df.to_csv(\"./data/interim/pst_emails.csv\", index=False)\n",
    "# imap_message_df.to_csv(\"./data/interim/imap_emails.csv\", index=False)"
   ]
  },
  {
   "cell_type": "markdown",
   "metadata": {},
   "source": [
    "Load from CSV"
   ]
  },
  {
   "cell_type": "code",
   "execution_count": null,
   "metadata": {},
   "outputs": [],
   "source": [
    "pst_message_df = pd.read_csv(\"./data/interim/pst_emails.csv\")\n",
    "# imap_message_df = pd.read_csv(\"./data/interim/imap_emails.csv\")"
   ]
  },
  {
   "cell_type": "markdown",
   "metadata": {},
   "source": [
    "### Preprocessing"
   ]
  },
  {
   "cell_type": "markdown",
   "metadata": {},
   "source": [
    "Concatenate PST and IMAP Messages"
   ]
  },
  {
   "cell_type": "code",
   "execution_count": null,
   "metadata": {},
   "outputs": [],
   "source": [
    "# message_df = pd.concat([pst_message_df, imap_message_df], ignore_index=True)\n",
    "message_df = pst_message_df"
   ]
  },
  {
   "cell_type": "markdown",
   "metadata": {},
   "source": [
    "Clean Text"
   ]
  },
  {
   "cell_type": "code",
   "execution_count": null,
   "metadata": {},
   "outputs": [],
   "source": [
    "message_df['clean_text'] = message_df['plain_text_body'].apply(lambda x: clean_text(x))"
   ]
  },
  {
   "cell_type": "markdown",
   "metadata": {},
   "source": [
    "Text Intended for NLP"
   ]
  },
  {
   "cell_type": "code",
   "execution_count": null,
   "metadata": {},
   "outputs": [],
   "source": [
    "# message_df['normalized_text'] = message_df['clean_text'].apply(lambda x: normalize_text(x))"
   ]
  },
  {
   "cell_type": "markdown",
   "metadata": {},
   "source": [
    "Response Times"
   ]
  },
  {
   "cell_type": "code",
   "execution_count": null,
   "metadata": {},
   "outputs": [],
   "source": [
    "message_df = get_response_time(message_df)"
   ]
  },
  {
   "cell_type": "markdown",
   "metadata": {},
   "source": [
    "Language Detection"
   ]
  },
  {
   "cell_type": "code",
   "execution_count": null,
   "metadata": {},
   "outputs": [],
   "source": [
    "message_df[\"language\"] = message_df[\"clean_text\"].apply(get_language)"
   ]
  },
  {
   "cell_type": "markdown",
   "metadata": {},
   "source": [
    "Sample and Export Preprocessed Messages"
   ]
  },
  {
   "cell_type": "code",
   "execution_count": null,
   "metadata": {},
   "outputs": [
    {
     "data": {
      "text/html": [
       "<div>\n",
       "<style scoped>\n",
       "    .dataframe tbody tr th:only-of-type {\n",
       "        vertical-align: middle;\n",
       "    }\n",
       "\n",
       "    .dataframe tbody tr th {\n",
       "        vertical-align: top;\n",
       "    }\n",
       "\n",
       "    .dataframe thead th {\n",
       "        text-align: right;\n",
       "    }\n",
       "</style>\n",
       "<table border=\"1\" class=\"dataframe\">\n",
       "  <thead>\n",
       "    <tr style=\"text-align: right;\">\n",
       "      <th></th>\n",
       "      <th>message_id</th>\n",
       "      <th>subject</th>\n",
       "      <th>subject_prefix</th>\n",
       "      <th>submit_time</th>\n",
       "      <th>delivery_time</th>\n",
       "      <th>html_body</th>\n",
       "      <th>plain_text_body</th>\n",
       "      <th>from_name</th>\n",
       "      <th>from_address</th>\n",
       "      <th>to_address</th>\n",
       "      <th>...</th>\n",
       "      <th>plain_text_is_converted</th>\n",
       "      <th>first_in_thread</th>\n",
       "      <th>num_previous_messages</th>\n",
       "      <th>thread_id</th>\n",
       "      <th>sender_domain</th>\n",
       "      <th>all_domains</th>\n",
       "      <th>is_internal</th>\n",
       "      <th>clean_text</th>\n",
       "      <th>response_time</th>\n",
       "      <th>language</th>\n",
       "    </tr>\n",
       "  </thead>\n",
       "  <tbody>\n",
       "    <tr>\n",
       "      <th>0</th>\n",
       "      <td>CANc0Yq66py_2t28pJ0H6E47s_BRZv1qR6O9=KFp2wqUC+...</td>\n",
       "      <td>Re: QSTP summer Workshops Program</td>\n",
       "      <td>re:</td>\n",
       "      <td>2024-06-30 05:06:15+00:00</td>\n",
       "      <td>2024-06-30 05:06:26+00:00</td>\n",
       "      <td>&lt;div dir=\"ltr\"&gt;&lt;div dir=\"auto\"&gt;&lt;b&gt;&lt;font color=...</td>\n",
       "      <td>Reminder!\\n\\n  \\n\\nOn Sat, 29 Jun 2024 at 6:06...</td>\n",
       "      <td>Mohammed Alsahal</td>\n",
       "      <td>m7mdalsahal@gmail.com</td>\n",
       "      <td>20180065@ariu.edu.qa, 2862633102@qq.com, ahmed...</td>\n",
       "      <td>...</td>\n",
       "      <td>True</td>\n",
       "      <td>False</td>\n",
       "      <td>1.0</td>\n",
       "      <td>CANc0Yq7Oy8un7hjwvQsEJyum4-p905KNjfPscOpabNgtC...</td>\n",
       "      <td>gmail.com</td>\n",
       "      <td>andrew.cmu.edu, ariu.edu.qa, ecommeta.uk, gmai...</td>\n",
       "      <td>False</td>\n",
       "      <td>Reminder!</td>\n",
       "      <td>None</td>\n",
       "      <td>en</td>\n",
       "    </tr>\n",
       "    <tr>\n",
       "      <th>1</th>\n",
       "      <td>1f230c7e1de149559e2814218dfa5b53@ubc-csm.sympl...</td>\n",
       "      <td>Belal, the latest \"All Opportunities\" jobs are...</td>\n",
       "      <td>NaN</td>\n",
       "      <td>2024-06-30 06:14:35+00:00</td>\n",
       "      <td>2024-06-30 06:14:38+00:00</td>\n",
       "      <td>&lt;!DOCTYPE html PUBLIC \"-//W3C//DTD XHTML 1.0 T...</td>\n",
       "      <td>|  |   \\n---  \\n  \\n  Belal, here are your lat...</td>\n",
       "      <td>csic.careersonline@ubc.ca</td>\n",
       "      <td>csic.careersonline@ubc.ca</td>\n",
       "      <td>belal.mnur@gmail.com</td>\n",
       "      <td>...</td>\n",
       "      <td>True</td>\n",
       "      <td>True</td>\n",
       "      <td>NaN</td>\n",
       "      <td>NaN</td>\n",
       "      <td>ubc.ca</td>\n",
       "      <td>gmail.com, ubc.ca</td>\n",
       "      <td>False</td>\n",
       "      <td>Belal, here are your latest...</td>\n",
       "      <td>None</td>\n",
       "      <td>en</td>\n",
       "    </tr>\n",
       "    <tr>\n",
       "      <th>2</th>\n",
       "      <td>ff49f537-ed2d-5429-9079-70350a2e4b6a@mail.uber...</td>\n",
       "      <td>Your Sunday morning trip with Uber</td>\n",
       "      <td>NaN</td>\n",
       "      <td>2024-06-30 06:36:18+00:00</td>\n",
       "      <td>2024-06-30 06:36:20+00:00</td>\n",
       "      <td>&lt;!doctype html&gt;&lt;html&gt;&lt;head&gt;&lt;meta charset=\"utf-...</td>\n",
       "      <td>| | | | | | | | |  | | | |  | | | | | Total QA...</td>\n",
       "      <td>Uber Receipts</td>\n",
       "      <td>noreply@uber.com</td>\n",
       "      <td>belal.mnur@gmail.com</td>\n",
       "      <td>...</td>\n",
       "      <td>True</td>\n",
       "      <td>True</td>\n",
       "      <td>NaN</td>\n",
       "      <td>NaN</td>\n",
       "      <td>uber.com</td>\n",
       "      <td>gmail.com, uber.com</td>\n",
       "      <td>False</td>\n",
       "      <td>Total QA...</td>\n",
       "      <td>None</td>\n",
       "      <td>en</td>\n",
       "    </tr>\n",
       "    <tr>\n",
       "      <th>3</th>\n",
       "      <td>15.96.04233.1FCF0866@ccg01mail06</td>\n",
       "      <td>Your payment to Uber BV has been processed</td>\n",
       "      <td>NaN</td>\n",
       "      <td>2024-06-30 06:36:33+00:00</td>\n",
       "      <td>2024-06-30 06:36:34+00:00</td>\n",
       "      <td>&lt;html dir=\"ltr\" lang=\"en\"&gt;\\n\\n  &lt;head&gt;\\n    &lt;m...</td>\n",
       "      <td>#### Belal Mohammed-Nur, payment has been proc...</td>\n",
       "      <td>service@intl.paypal.com</td>\n",
       "      <td>service@intl.paypal.com</td>\n",
       "      <td>belal.mnur@gmail.com</td>\n",
       "      <td>...</td>\n",
       "      <td>True</td>\n",
       "      <td>True</td>\n",
       "      <td>NaN</td>\n",
       "      <td>NaN</td>\n",
       "      <td>intl.paypal.com</td>\n",
       "      <td>gmail.com, intl.paypal.com</td>\n",
       "      <td>False</td>\n",
       "      <td>#### Belal Mohammed Nur, payment has been proc...</td>\n",
       "      <td>None</td>\n",
       "      <td>en</td>\n",
       "    </tr>\n",
       "    <tr>\n",
       "      <th>4</th>\n",
       "      <td>99b24ce1-7f39-5615-a5ad-15e0b3a95b03@mail.uber...</td>\n",
       "      <td>Your Sunday afternoon trip with Uber</td>\n",
       "      <td>NaN</td>\n",
       "      <td>2024-06-30 10:39:06+00:00</td>\n",
       "      <td>2024-06-30 10:39:08+00:00</td>\n",
       "      <td>&lt;!doctype html&gt;&lt;html&gt;&lt;head&gt;&lt;meta charset=\"utf-...</td>\n",
       "      <td>| | | | | | | | |  | | | |  | | | | | Total QA...</td>\n",
       "      <td>Uber Receipts</td>\n",
       "      <td>noreply@uber.com</td>\n",
       "      <td>belal.mnur@gmail.com</td>\n",
       "      <td>...</td>\n",
       "      <td>True</td>\n",
       "      <td>True</td>\n",
       "      <td>NaN</td>\n",
       "      <td>NaN</td>\n",
       "      <td>uber.com</td>\n",
       "      <td>gmail.com, uber.com</td>\n",
       "      <td>False</td>\n",
       "      <td>Total QA...</td>\n",
       "      <td>None</td>\n",
       "      <td>en</td>\n",
       "    </tr>\n",
       "    <tr>\n",
       "      <th>5</th>\n",
       "      <td>23.86.04509.2D531866@ccg01mail05</td>\n",
       "      <td>Your payment to Uber BV has been processed</td>\n",
       "      <td>NaN</td>\n",
       "      <td>2024-06-30 10:39:14+00:00</td>\n",
       "      <td>2024-06-30 10:39:15+00:00</td>\n",
       "      <td>&lt;html dir=\"ltr\" lang=\"en\"&gt;\\n\\n  &lt;head&gt;\\n    &lt;m...</td>\n",
       "      <td>#### Belal Mohammed-Nur, payment has been proc...</td>\n",
       "      <td>service@intl.paypal.com</td>\n",
       "      <td>service@intl.paypal.com</td>\n",
       "      <td>belal.mnur@gmail.com</td>\n",
       "      <td>...</td>\n",
       "      <td>True</td>\n",
       "      <td>True</td>\n",
       "      <td>NaN</td>\n",
       "      <td>NaN</td>\n",
       "      <td>intl.paypal.com</td>\n",
       "      <td>gmail.com, intl.paypal.com</td>\n",
       "      <td>False</td>\n",
       "      <td>#### Belal Mohammed Nur, payment has been proc...</td>\n",
       "      <td>None</td>\n",
       "      <td>en</td>\n",
       "    </tr>\n",
       "    <tr>\n",
       "      <th>6</th>\n",
       "      <td>0100019069db219e-5ca01c62-bf2e-450f-8d6f-6b478...</td>\n",
       "      <td>Next stop? Deals.</td>\n",
       "      <td>NaN</td>\n",
       "      <td>2024-06-30 15:54:47+00:00</td>\n",
       "      <td>2024-06-30 15:54:48+00:00</td>\n",
       "      <td>&lt;!doctype html&gt;&lt;html lang=\"en\" dir=\"auto\" xmln...</td>\n",
       "      <td>Get excited. Deals are coming.͏ ‌   ­͏ ‌   ­͏ ...</td>\n",
       "      <td>Amazon.ca</td>\n",
       "      <td>store-news@amazon.ca</td>\n",
       "      <td>belal.mnur@gmail.com</td>\n",
       "      <td>...</td>\n",
       "      <td>True</td>\n",
       "      <td>True</td>\n",
       "      <td>NaN</td>\n",
       "      <td>NaN</td>\n",
       "      <td>amazon.ca</td>\n",
       "      <td>amazon.ca, gmail.com</td>\n",
       "      <td>False</td>\n",
       "      <td>Get excited. Deals are coming.͏ ‌   ­͏ ‌   ­͏ ...</td>\n",
       "      <td>None</td>\n",
       "      <td>am</td>\n",
       "    </tr>\n",
       "    <tr>\n",
       "      <th>7</th>\n",
       "      <td>50b8f163-658c-5ac1-88c6-1b287f8ac70a@mail.uber...</td>\n",
       "      <td>Your Monday morning trip with Uber</td>\n",
       "      <td>NaN</td>\n",
       "      <td>2024-07-01 08:43:55+00:00</td>\n",
       "      <td>2024-07-01 08:43:57+00:00</td>\n",
       "      <td>&lt;!doctype html&gt;&lt;html&gt;&lt;head&gt;&lt;meta charset=\"utf-...</td>\n",
       "      <td>| | | | | | | | |  | | | |  | | | | | Total QA...</td>\n",
       "      <td>Uber Receipts</td>\n",
       "      <td>noreply@uber.com</td>\n",
       "      <td>belal.mnur@gmail.com</td>\n",
       "      <td>...</td>\n",
       "      <td>True</td>\n",
       "      <td>True</td>\n",
       "      <td>NaN</td>\n",
       "      <td>NaN</td>\n",
       "      <td>uber.com</td>\n",
       "      <td>gmail.com, uber.com</td>\n",
       "      <td>False</td>\n",
       "      <td>Total QA...</td>\n",
       "      <td>None</td>\n",
       "      <td>en</td>\n",
       "    </tr>\n",
       "    <tr>\n",
       "      <th>8</th>\n",
       "      <td>85.87.04374.B5C62866@ccg01mail01</td>\n",
       "      <td>Your payment to Uber BV has been processed</td>\n",
       "      <td>NaN</td>\n",
       "      <td>2024-07-01 08:44:11+00:00</td>\n",
       "      <td>2024-07-01 08:44:14+00:00</td>\n",
       "      <td>&lt;html dir=\"ltr\" lang=\"en\"&gt;\\n\\n  &lt;head&gt;\\n    &lt;m...</td>\n",
       "      <td>#### Belal Mohammed-Nur, payment has been proc...</td>\n",
       "      <td>service@intl.paypal.com</td>\n",
       "      <td>service@intl.paypal.com</td>\n",
       "      <td>belal.mnur@gmail.com</td>\n",
       "      <td>...</td>\n",
       "      <td>True</td>\n",
       "      <td>True</td>\n",
       "      <td>NaN</td>\n",
       "      <td>NaN</td>\n",
       "      <td>intl.paypal.com</td>\n",
       "      <td>gmail.com, intl.paypal.com</td>\n",
       "      <td>False</td>\n",
       "      <td>#### Belal Mohammed Nur, payment has been proc...</td>\n",
       "      <td>None</td>\n",
       "      <td>en</td>\n",
       "    </tr>\n",
       "    <tr>\n",
       "      <th>9</th>\n",
       "      <td>1593982468.211997.1719823796907@kaikoura01.oor...</td>\n",
       "      <td>User login confirmation</td>\n",
       "      <td>NaN</td>\n",
       "      <td>2024-07-01 08:49:56+00:00</td>\n",
       "      <td>2024-07-01 08:49:58+00:00</td>\n",
       "      <td>&lt;html&gt;\\r\\n&lt;body&gt;\\r\\n&lt;table bgcolor=\"#FFFFFF\" w...</td>\n",
       "      <td>---  \\n  \\nHi Belal Mohammed-Nur,\\n\\nYou’ve su...</td>\n",
       "      <td>Ooredoo</td>\n",
       "      <td>no_reply@ooredoo.qa</td>\n",
       "      <td>belal.mnur@gmail.com</td>\n",
       "      <td>...</td>\n",
       "      <td>True</td>\n",
       "      <td>True</td>\n",
       "      <td>NaN</td>\n",
       "      <td>NaN</td>\n",
       "      <td>ooredoo.qa</td>\n",
       "      <td>gmail.com, ooredoo.qa</td>\n",
       "      <td>False</td>\n",
       "      <td>Hi Belal Mohammed Nur,  You’ve succes...</td>\n",
       "      <td>None</td>\n",
       "      <td>en</td>\n",
       "    </tr>\n",
       "  </tbody>\n",
       "</table>\n",
       "<p>10 rows × 24 columns</p>\n",
       "</div>"
      ],
      "text/plain": [
       "                                          message_id  \\\n",
       "0  CANc0Yq66py_2t28pJ0H6E47s_BRZv1qR6O9=KFp2wqUC+...   \n",
       "1  1f230c7e1de149559e2814218dfa5b53@ubc-csm.sympl...   \n",
       "2  ff49f537-ed2d-5429-9079-70350a2e4b6a@mail.uber...   \n",
       "3                   15.96.04233.1FCF0866@ccg01mail06   \n",
       "4  99b24ce1-7f39-5615-a5ad-15e0b3a95b03@mail.uber...   \n",
       "5                   23.86.04509.2D531866@ccg01mail05   \n",
       "6  0100019069db219e-5ca01c62-bf2e-450f-8d6f-6b478...   \n",
       "7  50b8f163-658c-5ac1-88c6-1b287f8ac70a@mail.uber...   \n",
       "8                   85.87.04374.B5C62866@ccg01mail01   \n",
       "9  1593982468.211997.1719823796907@kaikoura01.oor...   \n",
       "\n",
       "                                             subject subject_prefix  \\\n",
       "0                  Re: QSTP summer Workshops Program            re:   \n",
       "1  Belal, the latest \"All Opportunities\" jobs are...            NaN   \n",
       "2                 Your Sunday morning trip with Uber            NaN   \n",
       "3        Your payment to Uber BV has been processed             NaN   \n",
       "4               Your Sunday afternoon trip with Uber            NaN   \n",
       "5        Your payment to Uber BV has been processed             NaN   \n",
       "6                                  Next stop? Deals.            NaN   \n",
       "7                 Your Monday morning trip with Uber            NaN   \n",
       "8        Your payment to Uber BV has been processed             NaN   \n",
       "9                            User login confirmation            NaN   \n",
       "\n",
       "                 submit_time              delivery_time  \\\n",
       "0  2024-06-30 05:06:15+00:00  2024-06-30 05:06:26+00:00   \n",
       "1  2024-06-30 06:14:35+00:00  2024-06-30 06:14:38+00:00   \n",
       "2  2024-06-30 06:36:18+00:00  2024-06-30 06:36:20+00:00   \n",
       "3  2024-06-30 06:36:33+00:00  2024-06-30 06:36:34+00:00   \n",
       "4  2024-06-30 10:39:06+00:00  2024-06-30 10:39:08+00:00   \n",
       "5  2024-06-30 10:39:14+00:00  2024-06-30 10:39:15+00:00   \n",
       "6  2024-06-30 15:54:47+00:00  2024-06-30 15:54:48+00:00   \n",
       "7  2024-07-01 08:43:55+00:00  2024-07-01 08:43:57+00:00   \n",
       "8  2024-07-01 08:44:11+00:00  2024-07-01 08:44:14+00:00   \n",
       "9  2024-07-01 08:49:56+00:00  2024-07-01 08:49:58+00:00   \n",
       "\n",
       "                                           html_body  \\\n",
       "0  <div dir=\"ltr\"><div dir=\"auto\"><b><font color=...   \n",
       "1  <!DOCTYPE html PUBLIC \"-//W3C//DTD XHTML 1.0 T...   \n",
       "2  <!doctype html><html><head><meta charset=\"utf-...   \n",
       "3  <html dir=\"ltr\" lang=\"en\">\\n\\n  <head>\\n    <m...   \n",
       "4  <!doctype html><html><head><meta charset=\"utf-...   \n",
       "5  <html dir=\"ltr\" lang=\"en\">\\n\\n  <head>\\n    <m...   \n",
       "6  <!doctype html><html lang=\"en\" dir=\"auto\" xmln...   \n",
       "7  <!doctype html><html><head><meta charset=\"utf-...   \n",
       "8  <html dir=\"ltr\" lang=\"en\">\\n\\n  <head>\\n    <m...   \n",
       "9  <html>\\r\\n<body>\\r\\n<table bgcolor=\"#FFFFFF\" w...   \n",
       "\n",
       "                                     plain_text_body  \\\n",
       "0  Reminder!\\n\\n  \\n\\nOn Sat, 29 Jun 2024 at 6:06...   \n",
       "1  |  |   \\n---  \\n  \\n  Belal, here are your lat...   \n",
       "2  | | | | | | | | |  | | | |  | | | | | Total QA...   \n",
       "3  #### Belal Mohammed-Nur, payment has been proc...   \n",
       "4  | | | | | | | | |  | | | |  | | | | | Total QA...   \n",
       "5  #### Belal Mohammed-Nur, payment has been proc...   \n",
       "6  Get excited. Deals are coming.͏ ‌   ­͏ ‌   ­͏ ...   \n",
       "7  | | | | | | | | |  | | | |  | | | | | Total QA...   \n",
       "8  #### Belal Mohammed-Nur, payment has been proc...   \n",
       "9  ---  \\n  \\nHi Belal Mohammed-Nur,\\n\\nYou’ve su...   \n",
       "\n",
       "                   from_name               from_address  \\\n",
       "0           Mohammed Alsahal      m7mdalsahal@gmail.com   \n",
       "1  csic.careersonline@ubc.ca  csic.careersonline@ubc.ca   \n",
       "2              Uber Receipts           noreply@uber.com   \n",
       "3    service@intl.paypal.com    service@intl.paypal.com   \n",
       "4              Uber Receipts           noreply@uber.com   \n",
       "5    service@intl.paypal.com    service@intl.paypal.com   \n",
       "6                  Amazon.ca       store-news@amazon.ca   \n",
       "7              Uber Receipts           noreply@uber.com   \n",
       "8    service@intl.paypal.com    service@intl.paypal.com   \n",
       "9                    Ooredoo        no_reply@ooredoo.qa   \n",
       "\n",
       "                                          to_address  ...  \\\n",
       "0  20180065@ariu.edu.qa, 2862633102@qq.com, ahmed...  ...   \n",
       "1                               belal.mnur@gmail.com  ...   \n",
       "2                               belal.mnur@gmail.com  ...   \n",
       "3                               belal.mnur@gmail.com  ...   \n",
       "4                               belal.mnur@gmail.com  ...   \n",
       "5                               belal.mnur@gmail.com  ...   \n",
       "6                               belal.mnur@gmail.com  ...   \n",
       "7                               belal.mnur@gmail.com  ...   \n",
       "8                               belal.mnur@gmail.com  ...   \n",
       "9                               belal.mnur@gmail.com  ...   \n",
       "\n",
       "  plain_text_is_converted first_in_thread num_previous_messages  \\\n",
       "0                    True           False                   1.0   \n",
       "1                    True            True                   NaN   \n",
       "2                    True            True                   NaN   \n",
       "3                    True            True                   NaN   \n",
       "4                    True            True                   NaN   \n",
       "5                    True            True                   NaN   \n",
       "6                    True            True                   NaN   \n",
       "7                    True            True                   NaN   \n",
       "8                    True            True                   NaN   \n",
       "9                    True            True                   NaN   \n",
       "\n",
       "                                           thread_id    sender_domain  \\\n",
       "0  CANc0Yq7Oy8un7hjwvQsEJyum4-p905KNjfPscOpabNgtC...        gmail.com   \n",
       "1                                                NaN           ubc.ca   \n",
       "2                                                NaN         uber.com   \n",
       "3                                                NaN  intl.paypal.com   \n",
       "4                                                NaN         uber.com   \n",
       "5                                                NaN  intl.paypal.com   \n",
       "6                                                NaN        amazon.ca   \n",
       "7                                                NaN         uber.com   \n",
       "8                                                NaN  intl.paypal.com   \n",
       "9                                                NaN       ooredoo.qa   \n",
       "\n",
       "                                         all_domains  is_internal  \\\n",
       "0  andrew.cmu.edu, ariu.edu.qa, ecommeta.uk, gmai...        False   \n",
       "1                                  gmail.com, ubc.ca        False   \n",
       "2                                gmail.com, uber.com        False   \n",
       "3                         gmail.com, intl.paypal.com        False   \n",
       "4                                gmail.com, uber.com        False   \n",
       "5                         gmail.com, intl.paypal.com        False   \n",
       "6                               amazon.ca, gmail.com        False   \n",
       "7                                gmail.com, uber.com        False   \n",
       "8                         gmail.com, intl.paypal.com        False   \n",
       "9                              gmail.com, ooredoo.qa        False   \n",
       "\n",
       "                                          clean_text response_time language  \n",
       "0                                          Reminder!          None       en  \n",
       "1                     Belal, here are your latest...          None       en  \n",
       "2                                        Total QA...          None       en  \n",
       "3  #### Belal Mohammed Nur, payment has been proc...          None       en  \n",
       "4                                        Total QA...          None       en  \n",
       "5  #### Belal Mohammed Nur, payment has been proc...          None       en  \n",
       "6  Get excited. Deals are coming.͏ ‌   ­͏ ‌   ­͏ ...          None       am  \n",
       "7                                        Total QA...          None       en  \n",
       "8  #### Belal Mohammed Nur, payment has been proc...          None       en  \n",
       "9           Hi Belal Mohammed Nur,  You’ve succes...          None       en  \n",
       "\n",
       "[10 rows x 24 columns]"
      ]
     },
     "metadata": {},
     "output_type": "display_data"
    }
   ],
   "source": [
    "message_df.head(50).to_csv(\"./data/interim/sample_preprocessed_messages.csv\")\n",
    "message_df.head(10)"
   ]
  },
  {
   "cell_type": "code",
   "execution_count": null,
   "metadata": {},
   "outputs": [],
   "source": [
    "message_df.to_csv(\"./data/interim/preprocessed_messages.csv\")"
   ]
  }
 ],
 "metadata": {
  "kernelspec": {
   "display_name": "qib",
   "language": "python",
   "name": "python3"
  },
  "language_info": {
   "name": "python",
   "version": "3.11.4"
  }
 },
 "nbformat": 4,
 "nbformat_minor": 2
}
