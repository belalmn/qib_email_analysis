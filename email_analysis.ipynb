{
 "cells": [
  {
   "cell_type": "markdown",
   "metadata": {},
   "source": [
    "## QIB Email Analysis Notebook"
   ]
  },
  {
   "cell_type": "markdown",
   "metadata": {},
   "source": [
    "### Imports"
   ]
  },
  {
   "cell_type": "code",
   "execution_count": 1,
   "metadata": {},
   "outputs": [],
   "source": [
    "# Third-Party Imports\n",
    "import pandas as pd\n",
    "import numpy as np\n",
    "import seaborn as sns\n",
    "import matplotlib.pyplot as plt\n",
    "from IPython.core.display import HTML\n",
    "import html2text\n",
    "from tqdm.notebook import tqdm\n",
    "from pandarallel import pandarallel\n",
    "\n",
    "# Local imports\n",
    "from src.config.config import Config\n",
    "from src.database.database import Database\n",
    "from src.database.export_utils import DataExporter"
   ]
  },
  {
   "cell_type": "markdown",
   "metadata": {},
   "source": [
    "### Setup"
   ]
  },
  {
   "cell_type": "code",
   "execution_count": 2,
   "metadata": {},
   "outputs": [
    {
     "name": "stdout",
     "output_type": "stream",
     "text": [
      "INFO: Pandarallel will run on 4 workers.\n",
      "INFO: Pandarallel will use Memory file system to transfer data between the main process and workers.\n"
     ]
    }
   ],
   "source": [
    "config = Config.from_json('config.json')\n",
    "database = Database.from_credentials(username=config.db_user, password=config.db_password, host=config.db_host, database=config.db_name)\n",
    "data_exporter = DataExporter(database)\n",
    "tqdm.pandas()\n",
    "\n",
    "pandarallel.initialize(progress_bar=True)\n",
    "\n",
    "htmlConverter = html2text.HTML2Text()\n",
    "htmlConverter.ignore_links = True\n",
    "htmlConverter.ignore_images = True\n",
    "htmlConverter.ignore_emphasis = True"
   ]
  },
  {
   "cell_type": "markdown",
   "metadata": {},
   "source": [
    "### Retrieve Emails"
   ]
  },
  {
   "cell_type": "code",
   "execution_count": 3,
   "metadata": {},
   "outputs": [
    {
     "data": {
      "text/plain": [
       "dict_keys(['addresses', 'folders', 'messages', 'recipients', 'references', 'sub_messages'])"
      ]
     },
     "execution_count": 3,
     "metadata": {},
     "output_type": "execute_result"
    }
   ],
   "source": [
    "dfs = data_exporter.to_dfs()\n",
    "dfs.keys()"
   ]
  },
  {
   "cell_type": "code",
   "execution_count": 4,
   "metadata": {},
   "outputs": [],
   "source": [
    "folders = dfs['folders']\n",
    "addresses = dfs['addresses']\n",
    "messages = dfs['messages']\n",
    "recipients = dfs['recipients']\n",
    "references = dfs['references']\n",
    "sub_messages = dfs['sub_messages']"
   ]
  },
  {
   "cell_type": "code",
   "execution_count": null,
   "metadata": {},
   "outputs": [
    {
     "name": "stdout",
     "output_type": "stream",
     "text": [
      "<class 'pandas.core.frame.DataFrame'>\n",
      "Index: 4806 entries, 1 to 4808\n",
      "Data columns (total 21 columns):\n",
      " #   Column                Non-Null Count  Dtype         \n",
      "---  ------                --------------  -----         \n",
      " 0   global_message_id     4806 non-null   object        \n",
      " 1   folder_id             4806 non-null   int64         \n",
      " 2   from_address_id       4806 non-null   int64         \n",
      " 3   provider_email_id     4806 non-null   int64         \n",
      " 4   creation_time         4806 non-null   datetime64[ns]\n",
      " 5   submit_time           4806 non-null   datetime64[ns]\n",
      " 6   delivery_time         4806 non-null   datetime64[ns]\n",
      " 7   sender_name           4806 non-null   object        \n",
      " 8   subject               4771 non-null   object        \n",
      " 9   plain_text_body       0 non-null      object        \n",
      " 10  rich_text_body        16 non-null     object        \n",
      " 11  html_body             4784 non-null   object        \n",
      " 12  first_in_thread       4806 non-null   bool          \n",
      " 13  num_emails_in_thread  4806 non-null   int64         \n",
      " 14  previous_message_id   0 non-null      object        \n",
      " 15  domain                4806 non-null   object        \n",
      " 16  language              0 non-null      object        \n",
      " 17  spam_score            0 non-null      object        \n",
      " 18  from_internal_domain  4806 non-null   bool          \n",
      " 19  subject_prefix        103 non-null    object        \n",
      " 20  content_type          4806 non-null   object        \n",
      "dtypes: bool(2), datetime64[ns](3), int64(4), object(12)\n",
      "memory usage: 760.3+ KB\n"
     ]
    }
   ],
   "source": [
    "messages.info()"
   ]
  },
  {
   "cell_type": "markdown",
   "metadata": {},
   "source": [
    "## Preprocessing"
   ]
  },
  {
   "cell_type": "markdown",
   "metadata": {},
   "source": [
    "### Converting HTML Bodies to Plain Text"
   ]
  },
  {
   "cell_type": "code",
   "execution_count": null,
   "metadata": {},
   "outputs": [],
   "source": [
    "# Choose emails with html bodies that don't already have a plain text body then convert them\n",
    "def process_row(row):\n",
    "    if pd.isna(row['plain_text_body']):\n",
    "        if row['html_body'] is not None:\n",
    "            return htmlConverter.handle(row['html_body'])\n",
    "        else:\n",
    "            return None\n",
    "    else:\n",
    "        return row['plain_text_body']\n",
    "    \n",
    "messages['plain_text_body'] = messages.parallel_apply(process_row, axis=1)"
   ]
  },
  {
   "cell_type": "markdown",
   "metadata": {},
   "source": [
    "### Nullifying Emails with Empty Bodies"
   ]
  },
  {
   "cell_type": "code",
   "execution_count": null,
   "metadata": {},
   "outputs": [],
   "source": [
    "messages[\"plain_text_body\"] = messages[\"plain_text_body\"].apply(lambda x: None if pd.isna(x) or x.strip() == \"\" else x)"
   ]
  },
  {
   "cell_type": "markdown",
   "metadata": {},
   "source": [
    "## Investigating Email Bodies"
   ]
  },
  {
   "cell_type": "markdown",
   "metadata": {},
   "source": [
    "### Types of Email Bodies"
   ]
  },
  {
   "cell_type": "code",
   "execution_count": null,
   "metadata": {},
   "outputs": [],
   "source": [
    "plain_text_body_count = messages['plain_text_body'].notna().sum()\n",
    "rich_text_body_count = messages['rich_text_body'].notna().sum()\n",
    "html_body_count = messages['html_body'].notna().sum()\n",
    "data = [plain_text_body_count, rich_text_body_count, html_body_count]\n",
    "\n",
    "plt.bar(['plain', 'rich', 'html'], data)\n",
    "plt.xlabel('Message Body Type')\n",
    "plt.ylabel('Count')\n",
    "plt.title('Count of Messages by Body Type')\n",
    "plt.show()"
   ]
  },
  {
   "cell_type": "markdown",
   "metadata": {},
   "source": [
    "### Correlation Matrix of Message Body Types"
   ]
  },
  {
   "cell_type": "code",
   "execution_count": null,
   "metadata": {},
   "outputs": [],
   "source": [
    "presence_df = pd.DataFrame({\n",
    "    \"plain_text\": messages[\"plain_text_body\"].notna(),\n",
    "    \"rich_text\": messages[\"rich_text_body\"].notna(),\n",
    "    \"html\": messages[\"html_body\"].notna()\n",
    "})\n",
    "\n",
    "correlation_matrix = presence_df.corr()\n",
    "\n",
    "plt.figure(figsize=(8, 6))\n",
    "sns.heatmap(correlation_matrix, annot=True, cmap=\"coolwarm\", vmin=-1, vmax=1)\n",
    "plt.title(\"Correlation Matrix of Message Body Types\")\n",
    "plt.show()"
   ]
  },
  {
   "cell_type": "markdown",
   "metadata": {},
   "source": [
    "### Sample Emails with only Plain Text Bodies"
   ]
  },
  {
   "cell_type": "code",
   "execution_count": null,
   "metadata": {},
   "outputs": [],
   "source": [
    "plain_text_body_values = messages[messages[\"plain_text_body\"].notna()][\"plain_text_body\"]\n",
    "print(plain_text_body_values.sample().item())"
   ]
  },
  {
   "cell_type": "markdown",
   "metadata": {},
   "source": [
    "### Sample Emails with only Rich Text Format Bodies"
   ]
  },
  {
   "cell_type": "code",
   "execution_count": null,
   "metadata": {},
   "outputs": [],
   "source": [
    "rich_text_body_values = messages[messages[\"rich_text_body\"].notna()][\"rich_text_body\"]\n",
    "rich_text_body_values.sample().item()"
   ]
  },
  {
   "cell_type": "markdown",
   "metadata": {},
   "source": [
    "### Sample Emails with only HTML Bodies"
   ]
  },
  {
   "cell_type": "code",
   "execution_count": null,
   "metadata": {},
   "outputs": [],
   "source": [
    "html_body_values = messages[messages[\"html_body\"].notna()][\"html_body\"]\n",
    "html_body_values.sample().item()\n",
    "display(HTML(html_body_values.sample().item()))"
   ]
  },
  {
   "cell_type": "markdown",
   "metadata": {},
   "source": [
    "## Email Domain Investigation"
   ]
  },
  {
   "cell_type": "markdown",
   "metadata": {},
   "source": [
    "### Bar Graph of Top Domains"
   ]
  },
  {
   "cell_type": "code",
   "execution_count": null,
   "metadata": {},
   "outputs": [],
   "source": [
    "domain_counts = messages['domain'].value_counts()\n",
    "top_domains = domain_counts.nlargest(19)\n",
    "other_count = domain_counts[~domain_counts.index.isin(top_domains.index)].sum()\n",
    "top_10_domains = pd.concat([top_domains, pd.Series({'other': other_count})])\n",
    "\n",
    "plt.figure(figsize=(12, 8))\n",
    "top_10_domains.sort_values().plot(kind='barh', color='skyblue')\n",
    "plt.title('Top 10 Email Domains')\n",
    "plt.xlabel('Count')\n",
    "plt.ylabel('Domain')\n",
    "plt.tight_layout()\n",
    "\n",
    "plt.show()\n"
   ]
  },
  {
   "cell_type": "markdown",
   "metadata": {},
   "source": [
    "## Message vs Email Analysis"
   ]
  },
  {
   "cell_type": "code",
   "execution_count": null,
   "metadata": {},
   "outputs": [],
   "source": []
  }
 ],
 "metadata": {
  "kernelspec": {
   "display_name": "Python 3",
   "language": "python",
   "name": "python3"
  },
  "language_info": {
   "codemirror_mode": {
    "name": "ipython",
    "version": 3
   },
   "file_extension": ".py",
   "mimetype": "text/x-python",
   "name": "python",
   "nbconvert_exporter": "python",
   "pygments_lexer": "ipython3",
   "version": "3.11.4"
  }
 },
 "nbformat": 4,
 "nbformat_minor": 2
}
