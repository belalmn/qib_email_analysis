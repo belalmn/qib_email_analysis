{
 "cells": [
  {
   "cell_type": "markdown",
   "metadata": {},
   "source": [
    "## QIB Email Analysis Notebook"
   ]
  },
  {
   "cell_type": "markdown",
   "metadata": {},
   "source": [
    "### Imports"
   ]
  },
  {
   "cell_type": "code",
   "execution_count": 46,
   "metadata": {},
   "outputs": [],
   "source": [
    "# Third-Party Imports\n",
    "import pandas as pd\n",
    "import numpy as np\n",
    "import seaborn as sns\n",
    "import matplotlib.pyplot as plt\n",
    "from IPython.core.display import HTML\n",
    "import html2text\n",
    "from tqdm.notebook import tqdm\n",
    "\n",
    "# Local imports\n",
    "from src.config.config import Config\n",
    "from src.database.database import Database\n",
    "from src.utils.data_exporter import DataExporter"
   ]
  },
  {
   "cell_type": "markdown",
   "metadata": {},
   "source": [
    "### Setup"
   ]
  },
  {
   "cell_type": "code",
   "execution_count": 47,
   "metadata": {},
   "outputs": [],
   "source": [
    "config = Config.from_json('config.json')\n",
    "database = Database.from_credentials(username=config.db_user, password=config.db_password, host=config.db_host, database=config.db_name)\n",
    "data_exporter = DataExporter(database)\n",
    "tqdm.pandas()\n",
    "\n",
    "htmlConverter = html2text.HTML2Text()\n",
    "htmlConverter.ignore_links = True\n",
    "htmlConverter.ignore_images = True"
   ]
  },
  {
   "cell_type": "markdown",
   "metadata": {},
   "source": [
    "### Retrieve Emails"
   ]
  },
  {
   "cell_type": "code",
   "execution_count": 48,
   "metadata": {},
   "outputs": [
    {
     "data": {
      "text/plain": [
       "dict_keys(['folders', 'addresses', 'messages', 'recipients'])"
      ]
     },
     "execution_count": 48,
     "metadata": {},
     "output_type": "execute_result"
    }
   ],
   "source": [
    "dfs = data_exporter.to_dfs()\n",
    "dfs.keys()"
   ]
  },
  {
   "cell_type": "code",
   "execution_count": 49,
   "metadata": {},
   "outputs": [],
   "source": [
    "folders = dfs['folders']\n",
    "addresses = dfs['addresses']\n",
    "messages = dfs['messages']\n",
    "recipients = dfs['recipients']"
   ]
  },
  {
   "cell_type": "code",
   "execution_count": 50,
   "metadata": {},
   "outputs": [
    {
     "name": "stdout",
     "output_type": "stream",
     "text": [
      "<class 'pandas.core.frame.DataFrame'>\n",
      "Index: 5039 entries, 1 to 5039\n",
      "Data columns (total 20 columns):\n",
      " #   Column                Non-Null Count  Dtype         \n",
      "---  ------                --------------  -----         \n",
      " 0   global_message_id     5039 non-null   object        \n",
      " 1   folder_id             5039 non-null   int64         \n",
      " 2   from_address_id       5039 non-null   int64         \n",
      " 3   provider_email_id     5039 non-null   int64         \n",
      " 4   creation_time         5039 non-null   datetime64[ns]\n",
      " 5   submit_time           5039 non-null   datetime64[ns]\n",
      " 6   delivery_time         5039 non-null   datetime64[ns]\n",
      " 7   sender_name           5039 non-null   object        \n",
      " 8   in_reply_to           587 non-null    object        \n",
      " 9   subject               4923 non-null   object        \n",
      " 10  plain_text_body       233 non-null    object        \n",
      " 11  rich_text_body        16 non-null     object        \n",
      " 12  html_body             4784 non-null   object        \n",
      " 13  first_in_thread       5039 non-null   bool          \n",
      " 14  previous_message_id   587 non-null    object        \n",
      " 15  domain                5039 non-null   object        \n",
      " 16  language              233 non-null    object        \n",
      " 17  spam_score            0 non-null      object        \n",
      " 18  from_internal_domain  5039 non-null   bool          \n",
      " 19  subject_prefix        0 non-null      object        \n",
      "dtypes: bool(2), datetime64[ns](3), int64(3), object(12)\n",
      "memory usage: 757.8+ KB\n"
     ]
    }
   ],
   "source": [
    "messages.info()"
   ]
  },
  {
   "cell_type": "markdown",
   "metadata": {},
   "source": [
    "## Preprocessing"
   ]
  },
  {
   "cell_type": "markdown",
   "metadata": {},
   "source": [
    "### Converting HTML Bodies to Plain Text"
   ]
  },
  {
   "cell_type": "code",
   "execution_count": 51,
   "metadata": {},
   "outputs": [
    {
     "data": {
      "application/vnd.jupyter.widget-view+json": {
       "model_id": "2bec168d71e04183b37526e25496ed81",
       "version_major": 2,
       "version_minor": 0
      },
      "text/plain": [
       "  0%|          | 0/5039 [00:00<?, ?it/s]"
      ]
     },
     "metadata": {},
     "output_type": "display_data"
    }
   ],
   "source": [
    "# Choose emails with html bodies that don't already have a plain text body then convert them\n",
    "def process_row(row):\n",
    "    if pd.isna(row['plain_text_body']):\n",
    "        if row['html_body'] is not None:\n",
    "            return htmlConverter.handle(row['html_body'])\n",
    "        else:\n",
    "            return None\n",
    "    else:\n",
    "        return row['plain_text_body']\n",
    "    \n",
    "messages['plain_text_body'] = messages.progress_apply(process_row, axis=1)"
   ]
  },
  {
   "cell_type": "markdown",
   "metadata": {},
   "source": [
    "### Nullifying Emails with Empty Bodies"
   ]
  },
  {
   "cell_type": "code",
   "execution_count": 52,
   "metadata": {},
   "outputs": [],
   "source": [
    "messages[\"plain_text_body\"] = messages[\"plain_text_body\"].apply(lambda x: None if pd.isna(x) or x.strip() == \"\" else x)"
   ]
  },
  {
   "cell_type": "markdown",
   "metadata": {},
   "source": [
    "### Fixing In-Reply-To Values"
   ]
  },
  {
   "cell_type": "code",
   "execution_count": 53,
   "metadata": {},
   "outputs": [],
   "source": [
    "messages['in_reply_to'] = messages['in_reply_to'].apply(lambda x: x[1:-1] if x else None)"
   ]
  },
  {
   "cell_type": "markdown",
   "metadata": {},
   "source": [
    "## Investigating Email Bodies"
   ]
  },
  {
   "cell_type": "markdown",
   "metadata": {},
   "source": [
    "### Types of Email Bodies"
   ]
  },
  {
   "cell_type": "code",
   "execution_count": 54,
   "metadata": {},
   "outputs": [
    {
     "data": {
      "image/png": "[encoded data removed]",
      "text/plain": [
       "<Figure size 640x480 with 1 Axes>"
      ]
     },
     "metadata": {},
     "output_type": "display_data"
    }
   ],
   "source": [
    "plain_text_body_count = messages['plain_text_body'].notna().sum()\n",
    "rich_text_body_count = messages['rich_text_body'].notna().sum()\n",
    "html_body_count = messages['html_body'].notna().sum()\n",
    "data = [plain_text_body_count, rich_text_body_count, html_body_count]\n",
    "\n",
    "plt.bar(['plain', 'rich', 'html'], data)\n",
    "plt.xlabel('Message Body Type')\n",
    "plt.ylabel('Count')\n",
    "plt.title('Count of Messages by Body Type')\n",
    "plt.show()"
   ]
  },
  {
   "cell_type": "markdown",
   "metadata": {},
   "source": [
    "### Correlation Matrix of Message Body Types"
   ]
  },
  {
   "cell_type": "code",
   "execution_count": 55,
   "metadata": {},
   "outputs": [
    {
     "data": {
      "image/png": "[encoded data removed]",
      "text/plain": [
       "<Figure size 800x600 with 2 Axes>"
      ]
     },
     "metadata": {},
     "output_type": "display_data"
    }
   ],
   "source": [
    "presence_df = pd.DataFrame({\n",
    "    \"plain_text\": messages[\"plain_text_body\"].notna(),\n",
    "    \"rich_text\": messages[\"rich_text_body\"].notna(),\n",
    "    \"html\": messages[\"html_body\"].notna()\n",
    "})\n",
    "\n",
    "correlation_matrix = presence_df.corr()\n",
    "\n",
    "plt.figure(figsize=(8, 6))\n",
    "sns.heatmap(correlation_matrix, annot=True, cmap=\"coolwarm\", vmin=-1, vmax=1)\n",
    "plt.title(\"Correlation Matrix of Message Body Types\")\n",
    "plt.show()"
   ]
  },
  {
   "cell_type": "markdown",
   "metadata": {},
   "source": [
    "### Sample Emails with only Plain Text Bodies"
   ]
  },
  {
   "cell_type": "code",
   "execution_count": 56,
   "metadata": {},
   "outputs": [
    {
     "name": "stdout",
     "output_type": "stream",
     "text": [
      "|  \n",
      "---  \n",
      "---  \n",
      "|  |  |  |  Elinor M. wants to get more active with you on Fitbit.    \n",
      "  \n",
      "  \n",
      "ACCEPT FRIEND  \n",
      "  \n",
      "\"Join me on Fitbit so we can track each other's progress, send each other\n",
      "encouragement, and see who tops the leaderboard each week!\"  \n",
      "---  \n",
      "|  |  |  Elinor M.'s AVERAGE DAILY STEPS   \n",
      "---  \n",
      "\\--  \n",
      "|  YOUR AVERAGE DAILY STEPS  \n",
      "---  \n",
      "\\--  \n",
      "  \n",
      "  \n",
      "  \n",
      "  \n",
      "---  \n",
      "  \n",
      "Fitbit users with at least one friend tend to be more active than the average\n",
      "user. Are you ready to step up to the challenge?  \n",
      "---  \n",
      "  \n",
      "|  | TELL FRIENDS & FAMILY YOU'RE ON THE PATH TO FITNESS |  SHARE  |  SHARE   \n",
      "---|---|---|---|---  \n",
      "  \n",
      "Let's be friends  \n",
      "  \n",
      "               |  You're receiving this email at belal.mnur@gmail.com because you have   \n",
      "elected to receive emails for Friend Requests. Not interested anymore?\n",
      "Unsubscribe.  \n",
      "Fitbit and the Fitbit Logo are registered trademarks of Fitbit, Inc.  \n",
      "Fitbit, Inc — 199 Fremont Street San Francisco, CA 94105 USA.  \n",
      "  \n",
      "WE'RE HIRING  \n",
      "  \n",
      "---  \n",
      "  \n",
      "\n",
      "  *[Fee]: Booking Fee\n",
      "  *[max.]: maximum\n",
      "  *[cm]: centimeters\n",
      "  *[in]: inches\n",
      "  *[Max.]: maximum\n",
      "  *[kg]: kilograms\n",
      "  *[lb]: pounds\n",
      "  *[Sunday, April  6, 2003]: 20030406\n",
      "\n",
      "\n"
     ]
    }
   ],
   "source": [
    "plain_text_body_values = messages[messages[\"plain_text_body\"].notna()][\"plain_text_body\"]\n",
    "print(plain_text_body_values.sample().item())"
   ]
  },
  {
   "cell_type": "markdown",
   "metadata": {},
   "source": [
    "### Sample Emails with only Rich Text Format Bodies"
   ]
  },
  {
   "cell_type": "code",
   "execution_count": 57,
   "metadata": {},
   "outputs": [
    {
     "data": {
      "text/plain": [
       "'{\\\\rtf1\\\\ansi\\\\ansicpg1252\\\\fromhtml1 \\\\fbidis \\\\deff0{\\\\fonttbl\\r\\n{\\\\f0\\\\fswiss\\\\fcharset0 Arial;}\\r\\n{\\\\f1\\\\fmodern Courier New;}\\r\\n{\\\\f2\\\\fnil\\\\fcharset2 Symbol;}\\r\\n{\\\\f3\\\\fmodern\\\\fcharset0 Courier New;}}\\r\\n{\\\\colortbl\\\\red0\\\\green0\\\\blue0;\\\\red0\\\\green0\\\\blue255;\\\\red255\\\\green255\\\\blue255;\\\\red255\\\\green0\\\\blue0;}\\r\\n\\\\uc1\\\\pard\\\\plain\\\\deftab360 \\\\f0\\\\fs24 \\r\\n{\\\\*\\\\htmltag243 <style type=\"text/css\">}\\r\\n{\\\\*\\\\htmltag243 \\\\par * \\\\{\\\\par     padding: 0;    margin: 0;\\\\}\\\\par table \\\\{\\\\par \\\\tab border-collapse: separate; width =100%;\\\\tab border: 0;\\\\tab border-spacing: 0;\\\\}\\\\par \\\\par tr \\\\{\\\\par \\\\tab line-height: 18px;\\\\}\\\\par \\\\par a, td \\\\{\\\\par \\\\tab font-size: 14px;\\\\tab font-family: Arial;\\\\tab color: #333;\\\\tab word-wrap: break-word;\\\\tab word-break: normal;\\\\tab padding: 0;\\\\}\\\\par \\\\par .title \\\\{\\\\par \\\\tab font-size: 28px;\\\\}\\\\par \\\\par .image \\\\{\\\\par \\\\tab width: auto;\\\\tab max-width: auto;\\\\}\\\\par \\\\par .footer \\\\{\\\\par \\\\tab width: 604px;\\\\}\\\\par \\\\par .main \\\\{\\\\par \\\\par \\\\}@media screen and (max-device-width: 800px) \\\\{\\\\par \\\\tab .title \\\\{\\\\par \\\\tab \\\\tab font-size: 22px !important;\\\\tab \\\\}\\\\par \\\\tab .image \\\\{\\\\par \\\\tab \\\\tab width: auto !important;\\\\tab \\\\tab max-width: 100% !important;\\\\tab \\\\}\\\\par \\\\tab .footer \\\\{\\\\par \\\\tab \\\\tab width: 100% !important;\\\\tab \\\\tab max-width: 604px !important\\\\par \\\\tab \\\\}\\\\par \\\\tab .main \\\\{\\\\par \\\\tab \\\\tab width: 100% !important;\\\\tab \\\\tab max-width: 604px !important\\\\par \\\\tab \\\\}\\\\par \\\\}\\\\par }\\r\\n{\\\\*\\\\htmltag251 </style>}\\r\\n{\\\\*\\\\htmltag3 \\\\par }\\r\\n{\\\\*\\\\htmltag3 \\\\par }\\r\\n{\\\\*\\\\htmltag96 <table bgcolor=\"#FFFFFF\" style=\"padding: 0; margin: 0; border: 0; width: 100%;\" align=\"left\">}\\\\htmlrtf {\\\\pard\\\\plain \\\\f0\\\\fs24 \\\\highlight2 \\\\htmlrtf0 \\r\\n{\\\\*\\\\htmltag0 \\\\par }\\r\\n{\\\\*\\\\htmltag240 \\\\tab }\\r\\n{\\\\*\\\\htmltag64 <tr style=\"height: 28px\">}\\\\htmlrtf {\\\\htmlrtf0 \\r\\n{\\\\*\\\\htmltag148 <td>}\\\\htmlrtf {\\\\htmlrtf0 \\r\\n{\\\\*\\\\htmltag84 &nbsp;}\\\\htmlrtf \\\\\\'a0\\\\htmlrtf0 \\r\\n{\\\\*\\\\htmltag156 </td>}\\\\htmlrtf }\\\\tab \\\\htmlrtf0 \\\\htmlrtf\\\\par}\\\\htmlrtf0\\r\\n\\r\\n{\\\\*\\\\htmltag72 </tr>}\\r\\n{\\\\*\\\\htmltag0 \\\\par }\\r\\n{\\\\*\\\\htmltag240 \\\\tab }\\r\\n{\\\\*\\\\htmltag64 <tr>}\\\\htmlrtf {\\\\htmlrtf0 \\r\\n{\\\\*\\\\htmltag4 \\\\par }\\r\\n{\\\\*\\\\htmltag84 \\\\tab \\\\tab }\\r\\n{\\\\*\\\\htmltag148 <td align=\"left\" style=\"padding: 0 20px; margin: 0\">}\\\\htmlrtf {\\\\htmlrtf0 \\r\\n{\\\\*\\\\htmltag4 \\\\par }\\r\\n{\\\\*\\\\htmltag84 \\\\tab \\\\tab \\\\tab }\\r\\n{\\\\*\\\\htmltag244 <!--<table bgcolor=\"#FFFFFF\" style=\"border: 0px; width: 100%; padding-left: 50px; padding-right: 50px;\" align=\"left\" class=\"main\">\\\\par \\\\tab \\\\tab \\\\tab \\\\tab <tr>\\\\par \\\\tab \\\\tab \\\\tab \\\\tab \\\\tab <td align=\"center\" valign=\"top\" >&nbsp;\\\\tab \\\\tab \\\\tab \\\\tab \\\\tab </td>\\\\par \\\\tab \\\\tab \\\\tab \\\\tab </tr>\\\\par \\\\tab \\\\tab \\\\tab </table>-->}\\r\\n{\\\\*\\\\htmltag4 \\\\par }\\r\\n{\\\\*\\\\htmltag4 \\\\par }\\r\\n{\\\\*\\\\htmltag4 \\\\par }\\\\htmlrtf }\\\\htmlrtf0 \\\\htmlrtf}\\\\htmlrtf0\\r\\n\\r\\n{\\\\*\\\\htmltag96 <table>}\\\\htmlrtf {\\\\pard\\\\plain \\\\f0\\\\fs24 \\\\htmlrtf0 \\r\\n{\\\\*\\\\htmltag0 \\\\par }\\r\\n{\\\\*\\\\htmltag240        }\\r\\n{\\\\*\\\\htmltag64 <tr>}\\\\htmlrtf {\\\\htmlrtf0 \\r\\n{\\\\*\\\\htmltag4 \\\\par }\\r\\n{\\\\*\\\\htmltag84            }\\r\\n{\\\\*\\\\htmltag148 <td style=\"height: 22px;color: #000000;font-family: Arial;\\\\tab font-size: 16px;font-weight: bold;line-height: 22px;\">}\\\\htmlrtf {\\\\htmlrtf0 \\r\\n{\\\\*\\\\htmltag4 \\\\par }\\r\\n{\\\\*\\\\htmltag84                 }Samah Gamar invites you to join this Webex meeting.\\r\\n{\\\\*\\\\htmltag4 \\\\par }\\\\htmlrtf  \\\\htmlrtf0 \\r\\n{\\\\*\\\\htmltag84                 \\\\tab            }\\r\\n{\\\\*\\\\htmltag156 </td>}\\\\htmlrtf }\\\\tab \\\\htmlrtf0 \\r\\n{\\\\*\\\\htmltag4 \\\\par }\\r\\n{\\\\*\\\\htmltag84       }\\\\htmlrtf\\\\par}\\\\htmlrtf0\\r\\n\\r\\n{\\\\*\\\\htmltag72 </tr>}\\r\\n{\\\\*\\\\htmltag0 \\\\par }\\r\\n{\\\\*\\\\htmltag104 </table>}\\\\htmlrtf }\\\\htmlrtf0 \\r\\n{\\\\*\\\\htmltag0 \\\\par }\\r\\n{\\\\*\\\\htmltag0 \\\\par }\\r\\n{\\\\*\\\\htmltag0 \\\\par }\\r\\n{\\\\*\\\\htmltag96 <table>}\\\\htmlrtf {\\\\pard\\\\plain \\\\f0\\\\fs24 \\\\htmlrtf0 \\r\\n{\\\\*\\\\htmltag64 <tr style=\"line-height: 20px;\">}\\\\htmlrtf {\\\\htmlrtf0 \\r\\n{\\\\*\\\\htmltag148 <td style=\"height:20px\">}\\\\htmlrtf {\\\\htmlrtf0 \\r\\n{\\\\*\\\\htmltag84 &nbsp;}\\\\htmlrtf \\\\\\'a0\\\\htmlrtf0 \\r\\n{\\\\*\\\\htmltag156 </td>}\\\\htmlrtf }\\\\tab \\\\htmlrtf0 \\\\htmlrtf\\\\par}\\\\htmlrtf0\\r\\n\\r\\n{\\\\*\\\\htmltag72 </tr>}\\r\\n{\\\\*\\\\htmltag104 </table>}\\\\htmlrtf }\\\\htmlrtf0 \\r\\n{\\\\*\\\\htmltag0 \\\\par }\\r\\n{\\\\*\\\\htmltag0 \\\\par }\\r\\n{\\\\*\\\\htmltag240     }\\r\\n{\\\\*\\\\htmltag96 <table style=\"width:auto; width:auto!important;\">}\\\\htmlrtf {\\\\pard\\\\plain \\\\f0\\\\fs24 \\\\htmlrtf0 \\r\\n{\\\\*\\\\htmltag0 \\\\par }\\r\\n{\\\\*\\\\htmltag240         }\\r\\n{\\\\*\\\\htmltag64 <tr>}\\\\htmlrtf {\\\\htmlrtf0 \\r\\n{\\\\*\\\\htmltag4 \\\\par }\\r\\n{\\\\*\\\\htmltag84             }\\r\\n{\\\\*\\\\htmltag148 <td style=\"font-family: Arial; color: #000000; font-size: 16px; line-height: 22px;\">}\\\\htmlrtf {\\\\htmlrtf0 \\r\\n{\\\\*\\\\htmltag4 \\\\par }\\r\\n{\\\\*\\\\htmltag84                 }Meeting number (access code): 137 213 5404\\r\\n{\\\\*\\\\htmltag4 \\\\par }\\\\htmlrtf  \\\\htmlrtf0 \\r\\n{\\\\*\\\\htmltag84             }\\r\\n{\\\\*\\\\htmltag156 </td>}\\\\htmlrtf }\\\\tab \\\\htmlrtf0 \\r\\n{\\\\*\\\\htmltag4 \\\\par }\\r\\n{\\\\*\\\\htmltag84         }\\\\htmlrtf\\\\par}\\\\htmlrtf0\\r\\n\\r\\n{\\\\*\\\\htmltag72 </tr>}\\r\\n{\\\\*\\\\htmltag0 \\\\par }\\r\\n{\\\\*\\\\htmltag240     }\\r\\n{\\\\*\\\\htmltag104 </table>}\\\\htmlrtf }\\\\htmlrtf0 \\r\\n{\\\\*\\\\htmltag0 \\\\par }\\r\\n{\\\\*\\\\htmltag240     }\\r\\n{\\\\*\\\\htmltag96 <table style=\"width:auto; width:auto!important\">}\\\\htmlrtf {\\\\pard\\\\plain \\\\f0\\\\fs24 \\\\htmlrtf0 \\r\\n{\\\\*\\\\htmltag0 \\\\par }\\r\\n{\\\\*\\\\htmltag240         }\\r\\n{\\\\*\\\\htmltag64 <tr >}\\\\htmlrtf {\\\\htmlrtf0 \\r\\n{\\\\*\\\\htmltag4 \\\\par }\\r\\n{\\\\*\\\\htmltag84             }\\r\\n{\\\\*\\\\htmltag148 <td style=\"font-family: Arial; color: #000000; font-size: 16px; line-height: 22px;\">}\\\\htmlrtf {\\\\htmlrtf0 Meeting password: TMyVXfiH667\\r\\n{\\\\*\\\\htmltag156 </td>}\\\\htmlrtf }\\\\tab \\\\htmlrtf0 \\r\\n{\\\\*\\\\htmltag4 \\\\par }\\\\htmlrtf  \\\\htmlrtf0 \\r\\n{\\\\*\\\\htmltag84         }\\\\htmlrtf\\\\par}\\\\htmlrtf0\\r\\n\\r\\n{\\\\*\\\\htmltag72 </tr>}\\r\\n{\\\\*\\\\htmltag0 \\\\par }\\r\\n{\\\\*\\\\htmltag240     }\\r\\n{\\\\*\\\\htmltag104 </table>}\\\\htmlrtf }\\\\htmlrtf0 \\r\\n{\\\\*\\\\htmltag0 \\\\par }\\r\\n{\\\\*\\\\htmltag240         }\\r\\n{\\\\*\\\\htmltag0 \\\\par }\\r\\n{\\\\*\\\\htmltag96 <table>}\\\\htmlrtf {\\\\pard\\\\plain \\\\f0\\\\fs24 \\\\htmlrtf0 \\r\\n{\\\\*\\\\htmltag64 <tr style=\"line-height: 20px;\">}\\\\htmlrtf {\\\\htmlrtf0 \\r\\n{\\\\*\\\\htmltag148 <td style=\"height:20px\">}\\\\htmlrtf {\\\\htmlrtf0 \\r\\n{\\\\*\\\\htmltag84 &nbsp;}\\\\htmlrtf \\\\\\'a0\\\\htmlrtf0 \\r\\n{\\\\*\\\\htmltag156 </td>}\\\\htmlrtf }\\\\tab \\\\htmlrtf0 \\\\htmlrtf\\\\par}\\\\htmlrtf0\\r\\n\\r\\n{\\\\*\\\\htmltag72 </tr>}\\r\\n{\\\\*\\\\htmltag104 </table>}\\\\htmlrtf }\\\\htmlrtf0 \\r\\n{\\\\*\\\\htmltag0 \\\\par }\\r\\n{\\\\*\\\\htmltag0 \\\\par }\\r\\n{\\\\*\\\\htmltag240     }\\r\\n{\\\\*\\\\htmltag96 <table  width=\"100%\">}\\\\htmlrtf {\\\\pard\\\\plain \\\\f0\\\\fs24 \\\\htmlrtf0 \\r\\n{\\\\*\\\\htmltag0 \\\\par }\\r\\n{\\\\*\\\\htmltag240         }\\r\\n{\\\\*\\\\htmltag64 <tr style=\"margin:0px;color: #666666;font-family: Arial;font-size: 14px;line-height: 22px;\">}\\\\htmlrtf {\\\\htmlrtf0 \\r\\n{\\\\*\\\\htmltag4 \\\\par }\\r\\n{\\\\*\\\\htmltag84             }\\r\\n{\\\\*\\\\htmltag148 <td style=\"margin:0px;color: #666666;font-family: Arial;font-size: 14px;line-height: 22px;\">}\\\\htmlrtf {\\\\htmlrtf0 Wednesday, June 17, 2020\\r\\n{\\\\*\\\\htmltag4 \\\\par }\\\\htmlrtf  \\\\htmlrtf0 \\r\\n{\\\\*\\\\htmltag84             }\\r\\n{\\\\*\\\\htmltag156 </td>}\\\\htmlrtf }\\\\tab \\\\htmlrtf0 \\r\\n{\\\\*\\\\htmltag4 \\\\par }\\r\\n{\\\\*\\\\htmltag84         }\\\\htmlrtf\\\\par}\\\\htmlrtf0\\r\\n\\r\\n{\\\\*\\\\htmltag72 </tr>}\\r\\n{\\\\*\\\\htmltag0 \\\\par }\\r\\n{\\\\*\\\\htmltag240         }\\r\\n{\\\\*\\\\htmltag64 <tr style=\"margin:0px;color: #666666;font-family: Arial;font-size: 14px;line-height: 22px;\">}\\\\htmlrtf {\\\\htmlrtf0 \\r\\n{\\\\*\\\\htmltag4 \\\\par }\\r\\n{\\\\*\\\\htmltag84             }\\r\\n{\\\\*\\\\htmltag148 <td style=\"margin:0px;color: #666666;font-family: Arial;font-size: 14px;line-height: 22px;\">}\\\\htmlrtf {\\\\htmlrtf0 11:50 am\\r\\n{\\\\*\\\\htmltag84 &nbsp;}\\\\htmlrtf \\\\\\'a0\\\\htmlrtf0 \\r\\n{\\\\*\\\\htmltag84 &nbsp;}\\\\htmlrtf \\\\\\'a0\\\\htmlrtf0 |\\r\\n{\\\\*\\\\htmltag84 &nbsp;}\\\\htmlrtf \\\\\\'a0\\\\htmlrtf0 \\r\\n{\\\\*\\\\htmltag84 &nbsp;}\\\\htmlrtf \\\\\\'a0\\\\htmlrtf0 (UTC+03:00) Nairobi\\r\\n{\\\\*\\\\htmltag84 &nbsp;}\\\\htmlrtf \\\\\\'a0\\\\htmlrtf0 \\r\\n{\\\\*\\\\htmltag84 &nbsp;}\\\\htmlrtf \\\\\\'a0\\\\htmlrtf0 |\\r\\n{\\\\*\\\\htmltag84 &nbsp;}\\\\htmlrtf \\\\\\'a0\\\\htmlrtf0 \\r\\n{\\\\*\\\\htmltag84 &nbsp;}\\\\htmlrtf \\\\\\'a0\\\\htmlrtf0 1 hr\\r\\n{\\\\*\\\\htmltag4 \\\\par }\\\\htmlrtf  \\\\htmlrtf0 \\r\\n{\\\\*\\\\htmltag84             }\\r\\n{\\\\*\\\\htmltag156 </td>}\\\\htmlrtf }\\\\tab \\\\htmlrtf0 \\r\\n{\\\\*\\\\htmltag4 \\\\par }\\r\\n{\\\\*\\\\htmltag84         }\\\\htmlrtf\\\\par}\\\\htmlrtf0\\r\\n\\r\\n{\\\\*\\\\htmltag72 </tr>}\\r\\n{\\\\*\\\\htmltag0 \\\\par }\\r\\n{\\\\*\\\\htmltag240     }\\r\\n{\\\\*\\\\htmltag104 </table>}\\\\htmlrtf }\\\\htmlrtf0 \\r\\n{\\\\*\\\\htmltag0 \\\\par }\\r\\n{\\\\*\\\\htmltag0 \\\\par }\\r\\n{\\\\*\\\\htmltag0  }{\\\\*\\\\htmltag64}\\\\htmlrtf {\\\\htmlrtf0 \\r\\n{\\\\*\\\\htmltag148 <FONT size=\"2\" COLOR=\"#FF0000\" style=\"font-family: Arial;\">}\\\\htmlrtf {\\\\fs20 \\\\cf3 \\\\htmlrtf0 \\r\\n{\\\\*\\\\htmltag156 </FONT>}\\\\htmlrtf }\\\\htmlrtf0 \\r\\n{\\\\*\\\\htmltag4 \\\\par }\\r\\n{\\\\*\\\\htmltag4 \\\\par }\\r\\n{\\\\*\\\\htmltag84     }\\r\\n{\\\\*\\\\htmltag4 \\\\par }\\r\\n{\\\\*\\\\htmltag4 \\\\par }\\r\\n{\\\\*\\\\htmltag84 \\\\tab \\\\tab \\\\tab }{\\\\*\\\\htmltag72}\\\\htmlrtf}\\\\htmlrtf0\\r\\n\\r\\n{\\\\*\\\\htmltag96 <table style=\"padding-bottom: 4px;font-family: Arial;\">}\\\\htmlrtf {\\\\pard\\\\plain \\\\f0\\\\fs24 \\\\htmlrtf0 \\r\\n{\\\\*\\\\htmltag64 <tr style=\"line-height: 20px\">}\\\\htmlrtf {\\\\htmlrtf0 \\r\\n{\\\\*\\\\htmltag148 <td style=\"height:20px\">}\\\\htmlrtf {\\\\htmlrtf0 \\r\\n{\\\\*\\\\htmltag84 &nbsp;}\\\\htmlrtf \\\\\\'a0\\\\htmlrtf0 \\r\\n{\\\\*\\\\htmltag156 </td>}\\\\htmlrtf }\\\\tab \\\\htmlrtf0 \\\\htmlrtf\\\\par}\\\\htmlrtf0\\r\\n\\r\\n{\\\\*\\\\htmltag72 </tr>}\\r\\n{\\\\*\\\\htmltag104 </table>}\\\\htmlrtf }\\\\htmlrtf0 \\r\\n{\\\\*\\\\htmltag0 \\\\par }\\r\\n{\\\\*\\\\htmltag240 \\\\tab \\\\tab \\\\tab }\\r\\n{\\\\*\\\\htmltag96 <table style=\\'width:auto;width:auto!important;\\'>}\\\\htmlrtf {\\\\pard\\\\plain \\\\f0\\\\fs24 \\\\htmlrtf0 \\r\\n{\\\\*\\\\htmltag64 <tr>}\\\\htmlrtf {\\\\htmlrtf0 \\r\\n{\\\\*\\\\htmltag148 <td style=\\'width:auto!important; \\'>}\\\\htmlrtf {\\\\htmlrtf0 \\\\htmlrtf }\\\\htmlrtf0 \\\\htmlrtf}\\\\htmlrtf0\\r\\n\\r\\n{\\\\*\\\\htmltag96 <table border=\\'0\\' cellpadding=\\'0\\' cellspacing=\\'0\\' style=\\'width:auto;width:auto!important; background-color:#43A942; border:0px solid #43A942; border-radius:20px; min-width:160px!important;\\'>}\\\\htmlrtf {\\\\pard\\\\plain \\\\f0\\\\fs24 \\\\htmlrtf0 \\r\\n{\\\\*\\\\htmltag96 <tbody>}\\r\\n{\\\\*\\\\htmltag64 <tr>}\\\\htmlrtf {\\\\htmlrtf0 \\r\\n{\\\\*\\\\htmltag148 <td align=\\'center\\' style=\\'padding:10px 36px;font-family: Arial;\\'>}\\\\htmlrtf {\\\\htmlrtf0 \\r\\n{\\\\*\\\\htmltag84 <a href=\\'https://dohainstitute.webex.com/dohainstitute/j.php?MTID=m98ec1edf91d7c3a970c7d57689dac064\\' style=\\'color:#FFFFFF; font-size:20px; text-decoration:none;\\'>}\\\\htmlrtf {\\\\field{\\\\*\\\\fldinst{HYPERLINK \"https://dohainstitute.webex.com/dohainstitute/j.php?MTID=m98ec1edf91d7c3a970c7d57689dac064\"}}{\\\\fldrslt\\\\cf1\\\\ul \\\\htmlrtf0 Join meeting\\\\htmlrtf }\\\\htmlrtf0 \\\\htmlrtf }\\\\htmlrtf0 \\r\\n{\\\\*\\\\htmltag92 </a>}\\r\\n{\\\\*\\\\htmltag156 </td>}\\\\htmlrtf }\\\\tab \\\\htmlrtf0 \\\\htmlrtf\\\\par}\\\\htmlrtf0\\r\\n\\r\\n{\\\\*\\\\htmltag72 </tr>}\\r\\n{\\\\*\\\\htmltag104 </tbody>}\\r\\n{\\\\*\\\\htmltag104 </table>}\\\\htmlrtf }\\\\htmlrtf0 \\r\\n{\\\\*\\\\htmltag248 </td>}\\r\\n{\\\\*\\\\htmltag72 </tr>}\\r\\n{\\\\*\\\\htmltag104 </table>}\\\\htmlrtf }\\\\htmlrtf0 \\r\\n{\\\\*\\\\htmltag0 \\\\par }\\r\\n{\\\\*\\\\htmltag240 \\\\tab \\\\tab \\\\tab }\\r\\n{\\\\*\\\\htmltag96 <table>}\\\\htmlrtf {\\\\pard\\\\plain \\\\f0\\\\fs24 \\\\htmlrtf0 \\r\\n{\\\\*\\\\htmltag64 <tr style=\"line-height: 48px\">}\\\\htmlrtf {\\\\htmlrtf0 \\r\\n{\\\\*\\\\htmltag148 <td style=\"height:48px\">}\\\\htmlrtf {\\\\htmlrtf0 \\r\\n{\\\\*\\\\htmltag84 &nbsp;}\\\\htmlrtf \\\\\\'a0\\\\htmlrtf0 \\r\\n{\\\\*\\\\htmltag156 </td>}\\\\htmlrtf }\\\\tab \\\\htmlrtf0 \\\\htmlrtf\\\\par}\\\\htmlrtf0\\r\\n\\r\\n{\\\\*\\\\htmltag72 </tr>}\\r\\n{\\\\*\\\\htmltag104 </table>}\\\\htmlrtf }\\\\htmlrtf0 \\r\\n{\\\\*\\\\htmltag0 \\\\par }\\r\\n{\\\\*\\\\htmltag0 \\\\par }\\r\\n{\\\\*\\\\htmltag0 \\\\par }\\r\\n{\\\\*\\\\htmltag240 \\\\tab }\\r\\n{\\\\*\\\\htmltag96 <table>}\\\\htmlrtf {\\\\pard\\\\plain \\\\f0\\\\fs24 \\\\htmlrtf0 \\r\\n{\\\\*\\\\htmltag96 <tbody>}\\r\\n{\\\\*\\\\htmltag64 <tr>}\\\\htmlrtf {\\\\htmlrtf0 \\r\\n{\\\\*\\\\htmltag148 <td style=\"color: #000000;font-family: Arial; font-size: 12px; font-weight: bold; line-height: 24px;\">}\\\\htmlrtf {\\\\htmlrtf0 \\r\\n{\\\\*\\\\htmltag84 <b>}\\\\htmlrtf {\\\\b \\\\htmlrtf0 Join by phone\\r\\n{\\\\*\\\\htmltag92 </b>}\\\\htmlrtf }\\\\htmlrtf0 \\r\\n{\\\\*\\\\htmltag156 </td>}\\\\htmlrtf }\\\\tab \\\\htmlrtf0 \\\\htmlrtf\\\\par}\\\\htmlrtf0\\r\\n\\r\\n{\\\\*\\\\htmltag72 </tr>}\\r\\n{\\\\*\\\\htmltag64 <tr style=\"margin:0px\">}\\\\htmlrtf {\\\\htmlrtf0 \\r\\n{\\\\*\\\\htmltag148 <td style=\"color: #333333;font-family: Arial;font-size: 14px;line-height: 24px;\">}\\\\htmlrtf {\\\\htmlrtf0 Use VoIP only\\r\\n{\\\\*\\\\htmltag156 </td>}\\\\htmlrtf }\\\\tab \\\\htmlrtf0 \\\\htmlrtf\\\\par}\\\\htmlrtf0\\r\\n\\r\\n{\\\\*\\\\htmltag72 </tr>}\\r\\n{\\\\*\\\\htmltag104 </tbody>}\\r\\n{\\\\*\\\\htmltag104 </table>}\\\\htmlrtf }\\\\htmlrtf0 \\r\\n{\\\\*\\\\htmltag96 <table cellpadding=\"0\" cellspacing=\"0\">}\\\\htmlrtf {\\\\pard\\\\plain \\\\f0\\\\fs24 \\\\htmlrtf0 \\r\\n{\\\\*\\\\htmltag64 <tr style=\"line-height: 28px;\">}\\\\htmlrtf {\\\\htmlrtf0 \\r\\n{\\\\*\\\\htmltag148 <td style=\"height:28px\">}\\\\htmlrtf {\\\\htmlrtf0 \\r\\n{\\\\*\\\\htmltag84 &nbsp;}\\\\htmlrtf \\\\\\'a0\\\\htmlrtf0 \\r\\n{\\\\*\\\\htmltag156 </td>}\\\\htmlrtf }\\\\tab \\\\htmlrtf0 \\\\htmlrtf\\\\par}\\\\htmlrtf0\\r\\n\\r\\n{\\\\*\\\\htmltag72 </tr>}\\r\\n{\\\\*\\\\htmltag104 </table>}\\\\htmlrtf }\\\\htmlrtf0 \\r\\n{\\\\*\\\\htmltag0 \\\\par }\\r\\n{\\\\*\\\\htmltag240 \\\\tab }\\r\\n{\\\\*\\\\htmltag96 <table>}\\\\htmlrtf {\\\\pard\\\\plain \\\\f0\\\\fs24 \\\\htmlrtf0 \\r\\n{\\\\*\\\\htmltag64 <tr>}\\\\htmlrtf {\\\\htmlrtf0 \\r\\n{\\\\*\\\\htmltag148 <td  style=\"color: #000000; font-family: Arial;font-size: 12px; font-weight: bold; line-height: 24px;\">}\\\\htmlrtf {\\\\htmlrtf0 \\r\\n{\\\\*\\\\htmltag84 <b>}\\\\htmlrtf {\\\\b \\\\htmlrtf0 Join from a video system or application\\r\\n{\\\\*\\\\htmltag92 </b>}\\\\htmlrtf }\\\\htmlrtf0 \\r\\n{\\\\*\\\\htmltag156 </td>}\\\\htmlrtf }\\\\tab \\\\htmlrtf0 \\\\htmlrtf\\\\par}\\\\htmlrtf0\\r\\n\\r\\n{\\\\*\\\\htmltag72 </tr>}\\r\\n{\\\\*\\\\htmltag64 <tr style=\"margin:0px\">}\\\\htmlrtf {\\\\htmlrtf0 \\r\\n{\\\\*\\\\htmltag148 <td style=\"color: #333333; font-family: Arial; font-size: 14px; line-height: 24px;\">}\\\\htmlrtf {\\\\htmlrtf0 Dial \\r\\n{\\\\*\\\\htmltag84 <a href=\" sip:1372135404@dohainstitute.webex.com\"   style=\"text-decoration:none;color:#00AFF9\">}\\\\htmlrtf {\\\\field{\\\\*\\\\fldinst{HYPERLINK \"sip:1372135404@dohainstitute.webex.com\"}}{\\\\fldrslt\\\\cf1\\\\ul \\\\htmlrtf0 1372135404@dohainstitute.webex.com\\\\htmlrtf }\\\\htmlrtf0 \\\\htmlrtf }\\\\htmlrtf0 \\r\\n{\\\\*\\\\htmltag92 </a>}\\r\\n{\\\\*\\\\htmltag156 </td>}\\\\htmlrtf }\\\\tab \\\\htmlrtf0 \\\\htmlrtf\\\\par}\\\\htmlrtf0\\r\\n\\r\\n{\\\\*\\\\htmltag72 </tr>}\\r\\n{\\\\*\\\\htmltag64 <tr style=\"margin:0px\">}\\\\htmlrtf {\\\\htmlrtf0 \\r\\n{\\\\*\\\\htmltag148 <td style=\"color: #333333; font-family: Arial; font-size: 14px; line-height: 24px;\">}\\\\htmlrtf {\\\\htmlrtf0 You can also dial 62.109.219.4 and enter your meeting number.\\r\\n{\\\\*\\\\htmltag156 </td>}\\\\htmlrtf }\\\\tab \\\\htmlrtf0 \\\\htmlrtf\\\\par}\\\\htmlrtf0\\r\\n\\r\\n{\\\\*\\\\htmltag72 </tr>}\\r\\n{\\\\*\\\\htmltag104 </table>}\\\\htmlrtf }\\\\htmlrtf0 \\r\\n{\\\\*\\\\htmltag96 <table>}\\\\htmlrtf {\\\\pard\\\\plain \\\\f0\\\\fs24 \\\\htmlrtf0 \\r\\n{\\\\*\\\\htmltag64 <tr style=\"line-height: 20px;\">}\\\\htmlrtf {\\\\htmlrtf0 \\r\\n{\\\\*\\\\htmltag148 <td style=\"height:20px\">}\\\\htmlrtf {\\\\htmlrtf0 \\r\\n{\\\\*\\\\htmltag84 &nbsp;}\\\\htmlrtf \\\\\\'a0\\\\htmlrtf0 \\r\\n{\\\\*\\\\htmltag156 </td>}\\\\htmlrtf }\\\\tab \\\\htmlrtf0 \\\\htmlrtf\\\\par}\\\\htmlrtf0\\r\\n\\r\\n{\\\\*\\\\htmltag72 </tr>}\\r\\n{\\\\*\\\\htmltag104 </table>}\\\\htmlrtf }\\\\htmlrtf0 \\r\\n{\\\\*\\\\htmltag0 \\\\par }\\r\\n{\\\\*\\\\htmltag240     }\\r\\n{\\\\*\\\\htmltag96 <table cellpadding=\"0\" cellspacing=\"0\">}\\\\htmlrtf {\\\\pard\\\\plain \\\\f0\\\\fs24 \\\\htmlrtf0 \\r\\n{\\\\*\\\\htmltag64 <tr>}\\\\htmlrtf {\\\\htmlrtf0 \\r\\n{\\\\*\\\\htmltag148 <td  style=\"color: #000000; font-family: Arial;font-size: 12px; font-weight: bold; line-height: 24px;\">}\\\\htmlrtf {\\\\htmlrtf0 \\r\\n{\\\\*\\\\htmltag84 <b>}\\\\htmlrtf {\\\\b \\\\htmlrtf0 Join using Microsoft Lync or Microsoft Skype for Business\\r\\n{\\\\*\\\\htmltag92 </b>}\\\\htmlrtf }\\\\htmlrtf0 \\r\\n{\\\\*\\\\htmltag156 </td>}\\\\htmlrtf }\\\\tab \\\\htmlrtf0 \\\\htmlrtf\\\\par}\\\\htmlrtf0\\r\\n\\r\\n{\\\\*\\\\htmltag72 </tr>}\\r\\n{\\\\*\\\\htmltag64 <tr style=\"margin:0px\">}\\\\htmlrtf {\\\\htmlrtf0 \\r\\n{\\\\*\\\\htmltag148 <td style=\"color: #333333; font-family: Arial; font-size: 14px; line-height: 24px;\">}\\\\htmlrtf {\\\\htmlrtf0 Dial \\r\\n{\\\\*\\\\htmltag84 <a href=\" sip:1372135404.dohainstitute@lync.webex.com\"   style=\"text-decoration:none;color:#00AFF9\">}\\\\htmlrtf {\\\\field{\\\\*\\\\fldinst{HYPERLINK \"sip:1372135404.dohainstitute@lync.webex.com\"}}{\\\\fldrslt\\\\cf1\\\\ul \\\\htmlrtf0 1372135404.dohainstitute@lync.webex.com\\\\htmlrtf }\\\\htmlrtf0 \\\\htmlrtf }\\\\htmlrtf0 \\r\\n{\\\\*\\\\htmltag92 </a>}\\r\\n{\\\\*\\\\htmltag156 </td>}\\\\htmlrtf }\\\\tab \\\\htmlrtf0 \\\\htmlrtf\\\\par}\\\\htmlrtf0\\r\\n\\r\\n{\\\\*\\\\htmltag72 </tr>}\\r\\n{\\\\*\\\\htmltag104 </table>}\\\\htmlrtf }\\\\htmlrtf0 \\r\\n{\\\\*\\\\htmltag0 \\\\par }\\r\\n{\\\\*\\\\htmltag0 \\\\par }\\r\\n{\\\\*\\\\htmltag240 \\\\tab \\\\tab \\\\tab }\\r\\n{\\\\*\\\\htmltag96 <table style=\"width: 100%;\" align=\"left\" class=\"main\">}\\\\htmlrtf {\\\\pard\\\\plain \\\\f0\\\\fs24 \\\\htmlrtf0 \\r\\n{\\\\*\\\\htmltag0 \\\\par }\\r\\n{\\\\*\\\\htmltag240                 }\\r\\n{\\\\*\\\\htmltag64 <tr style=\"height: 72px\">}\\\\htmlrtf {\\\\htmlrtf0 \\r\\n{\\\\*\\\\htmltag148 <td>}\\\\htmlrtf {\\\\htmlrtf0 \\r\\n{\\\\*\\\\htmltag84 &nbsp;}\\\\htmlrtf \\\\\\'a0\\\\htmlrtf0 \\r\\n{\\\\*\\\\htmltag156 </td>}\\\\htmlrtf }\\\\tab \\\\htmlrtf0 \\\\htmlrtf\\\\par}\\\\htmlrtf0\\r\\n\\r\\n{\\\\*\\\\htmltag72 </tr>}\\r\\n{\\\\*\\\\htmltag0 \\\\par }\\r\\n{\\\\*\\\\htmltag240 \\\\tab \\\\tab \\\\tab \\\\tab }\\r\\n{\\\\*\\\\htmltag64 <tr>}\\\\htmlrtf {\\\\htmlrtf0 \\r\\n{\\\\*\\\\htmltag4 \\\\par }\\r\\n{\\\\*\\\\htmltag84 \\\\tab \\\\tab \\\\tab \\\\tab \\\\tab }\\r\\n{\\\\*\\\\htmltag148 <td style=\"height: 24px; color: #000000; font-family:Arial; font-size: 14px; line-height: 24px;\">}\\\\htmlrtf {\\\\htmlrtf0 Need help? Go to \\r\\n{\\\\*\\\\htmltag84 <a href=\"http://help.webex.com\" style=\"color:#049FD9; text-decoration:none;\">}\\\\htmlrtf {\\\\field{\\\\*\\\\fldinst{HYPERLINK \"http://help.webex.com\"}}{\\\\fldrslt\\\\cf1\\\\ul \\\\htmlrtf0 http://help.webex.com\\\\htmlrtf }\\\\htmlrtf0 \\\\htmlrtf }\\\\htmlrtf0 \\r\\n{\\\\*\\\\htmltag92 </a>}\\r\\n{\\\\*\\\\htmltag4 \\\\par }\\\\htmlrtf  \\\\htmlrtf0 \\r\\n{\\\\*\\\\htmltag84 \\\\tab \\\\tab \\\\tab \\\\tab \\\\tab }\\r\\n{\\\\*\\\\htmltag156 </td>}\\\\htmlrtf }\\\\tab \\\\htmlrtf0 \\r\\n{\\\\*\\\\htmltag4 \\\\par }\\r\\n{\\\\*\\\\htmltag84 \\\\tab \\\\tab \\\\tab \\\\tab }\\\\htmlrtf\\\\par}\\\\htmlrtf0\\r\\n\\r\\n{\\\\*\\\\htmltag72 </tr>}\\r\\n{\\\\*\\\\htmltag0 \\\\par }\\r\\n{\\\\*\\\\htmltag240                 }\\r\\n{\\\\*\\\\htmltag64 <tr style=\"height: 44px\">}\\\\htmlrtf {\\\\htmlrtf0 \\r\\n{\\\\*\\\\htmltag148 <td>}\\\\htmlrtf {\\\\htmlrtf0 \\r\\n{\\\\*\\\\htmltag84 &nbsp;}\\\\htmlrtf \\\\\\'a0\\\\htmlrtf0 \\r\\n{\\\\*\\\\htmltag156 </td>}\\\\htmlrtf }\\\\tab \\\\htmlrtf0 \\\\htmlrtf\\\\par}\\\\htmlrtf0\\r\\n\\r\\n{\\\\*\\\\htmltag72 </tr>}\\r\\n{\\\\*\\\\htmltag0 \\\\par }\\r\\n{\\\\*\\\\htmltag240 \\\\tab \\\\tab \\\\tab }\\r\\n{\\\\*\\\\htmltag104 </table>}\\\\htmlrtf }\\\\htmlrtf0 \\r\\n{\\\\*\\\\htmltag0 \\\\par }\\r\\n{\\\\*\\\\htmltag240 \\\\tab \\\\tab }\\r\\n{\\\\*\\\\htmltag248 </td>}\\r\\n{\\\\*\\\\htmltag0 \\\\par }\\r\\n{\\\\*\\\\htmltag240 \\\\tab }\\r\\n{\\\\*\\\\htmltag72 </tr>}\\r\\n{\\\\*\\\\htmltag0 \\\\par }\\r\\n{\\\\*\\\\htmltag104 </table>}\\\\htmlrtf }\\\\htmlrtf0 \\r\\n{\\\\*\\\\htmltag0 \\\\par }}\\x00'"
      ]
     },
     "execution_count": 57,
     "metadata": {},
     "output_type": "execute_result"
    }
   ],
   "source": [
    "rich_text_body_values = messages[messages[\"rich_text_body\"].notna()][\"rich_text_body\"]\n",
    "rich_text_body_values.sample().item()"
   ]
  },
  {
   "cell_type": "markdown",
   "metadata": {},
   "source": [
    "### Sample Emails with only HTML Bodies"
   ]
  },
  {
   "cell_type": "code",
   "execution_count": 58,
   "metadata": {},
   "outputs": [
    {
     "data": {
      "text/html": [
       "<html>\r\n",
       "<head>\r\n",
       "<meta http-equiv=\"Content-Type\" content=\"text/html; charset=Windows-1252\">\r\n",
       "<style type=\"text/css\" style=\"display:none;\"><!-- P {margin-top:0;margin-bottom:0;} --></style>\r\n",
       "</head>\r\n",
       "<body dir=\"ltr\">\r\n",
       "<div id=\"divtagdefaultwrapper\" style=\"font-size:12pt;color:#000000;font-family:Calibri,Helvetica,sans-serif;\" dir=\"ltr\">\r\n",
       "<p style=\"margin-top:0;margin-bottom:0\">Belal,</p>\r\n",
       "<p style=\"margin-top:0;margin-bottom:0\"><br>\r\n",
       "</p>\r\n",
       "<p style=\"margin-top:0;margin-bottom:0\">You are welcome!</p>\r\n",
       "<p style=\"margin-top:0;margin-bottom:0\"><br>\r\n",
       "</p>\r\n",
       "<p style=\"margin-top:0;margin-bottom:0\">Mr. Havington</p>\r\n",
       "<p style=\"margin-top:0;margin-bottom:0\"><br>\r\n",
       "</p>\r\n",
       "<div id=\"Signature\">\r\n",
       "<div id=\"divtagdefaultwrapper\" dir=\"ltr\" style=\"font-size: 12pt; color: rgb(0, 0, 0); font-family: Calibri, Helvetica, sans-serif, EmojiFont, &quot;Apple Color Emoji&quot;, &quot;Segoe UI Emoji&quot;, NotoColorEmoji, &quot;Segoe UI Symbol&quot;, &quot;Android Emoji&quot;, EmojiSymbols;\">\r\n",
       "<p style=\"margin-top:0; margin-bottom:0\"></p>\r\n",
       "<div><br>\r\n",
       "</div>\r\n",
       "<div>\r\n",
       "<table class=\"MsoNormalTable \" border=\"0\" cellspacing=\"0\" cellpadding=\"0\" style=\"font-family:Calibri,Helvetica,sans-serif,EmojiFont,&quot;Apple Color Emoji&quot;,&quot;Segoe UI Emoji&quot;,NotoColorEmoji,&quot;Segoe UI Symbol&quot;,&quot;Android Emoji&quot;,EmojiSymbols; font-size:16px; table-layout:fixed\">\r\n",
       "<tbody>\r\n",
       "<tr class=\"\" style=\"height:58.85pt\">\r\n",
       "<td valign=\"top\" class=\"\" style=\"width:148px; padding:0in; height:58.85pt\">\r\n",
       "<p class=\"MsoNormal\"><img class=\"EmojiInsert\" style=\"\" data-outlook-trace=\"F:1|T:1\" src=\"cid:b1132d7e-1644-4ba3-a996-14a710736375\"><br>\r\n",
       "</p>\r\n",
       "</td>\r\n",
       "<td class=\"\" style=\"padding:0in; height:58.85pt; width:316px\">\r\n",
       "<table class=\"MsoNormalTable\" border=\"0\" cellspacing=\"0\" cellpadding=\"0\" width=\"216\" style=\"width:162.1pt\">\r\n",
       "<tbody>\r\n",
       "<tr style=\"height:8.9pt\">\r\n",
       "<td valign=\"top\" style=\"padding:0in 0in 0in 7.5pt; height:8.9pt\">\r\n",
       "<p class=\"MsoNormal\"><b><span style=\"font-size:9pt; font-family:Arial,sans-serif; color:rgb(51,0,79)\">The Keystone Teacher Link</span></b></p>\r\n",
       "</td>\r\n",
       "</tr>\r\n",
       "<tr style=\"height:20pt\">\r\n",
       "<td valign=\"top\" style=\"padding:0in 0in 0in 7.5pt; height:20pt\">\r\n",
       "<p class=\"MsoNormal\"><font color=\"#c00000\" face=\"Arial, sans-serif\"><span style=\"font-size:11.3333px\">High School Science</span></font></p>\r\n",
       "</td>\r\n",
       "</tr>\r\n",
       "<tr style=\"height:33.3pt\">\r\n",
       "<td valign=\"top\" style=\"padding:0in 0in 0in 7.5pt; height:33.3pt\">\r\n",
       "<p class=\"MsoNormal\"><span style=\"font-size:8.5pt; font-family:Arial,sans-serif; color:rgb(51,0,79)\">920 Central Rd&nbsp;<br>\r\n",
       "Bloomsburg, PA 17815</span></p>\r\n",
       "</td>\r\n",
       "</tr>\r\n",
       "</tbody>\r\n",
       "</table>\r\n",
       "</td>\r\n",
       "</tr>\r\n",
       "<tr class=\"\" style=\"height:24.95pt\">\r\n",
       "<td valign=\"top\" class=\"\" style=\"padding:0in 0in 0in 7.5pt; height:24.95pt\">\r\n",
       "<p class=\"MsoNormal\" align=\"right\" style=\"text-align:right\"><b><span style=\"font-size:8.5pt; font-family:&quot;Times New Roman&quot;,serif; color:rgb(192,0,0)\">office&nbsp;<br>\r\n",
       "email</span></b></p>\r\n",
       "</td>\r\n",
       "<td valign=\"top\" class=\"\" style=\"padding:0in 0in 0in 7.5pt; height:24.95pt\">\r\n",
       "<p class=\"MsoNormal\"><span style=\"font-size:9pt; font-family:Calibri,Helvetica,sans-serif\">1-844-494-3577</span></p>\r\n",
       "<p class=\"MsoNormal\"><span style=\"font-size:9pt\"><a href=\"mailto:hsscience@thekeystoneschool.net\" class=\"OWAAutoLink\" id=\"LPNoLP\">hsscience@thekeystoneschool.net</a></span>&nbsp;&nbsp;</p>\r\n",
       "</td>\r\n",
       "</tr>\r\n",
       "</tbody>\r\n",
       "</table>\r\n",
       "</div>\r\n",
       "<br>\r\n",
       "<p></p>\r\n",
       "</div>\r\n",
       "</div>\r\n",
       "</div>\r\n",
       "<hr style=\"display:inline-block;width:98%\" tabindex=\"-1\">\r\n",
       "<div id=\"divRplyFwdMsg\" dir=\"ltr\"><font face=\"Calibri, sans-serif\" style=\"font-size:11pt\" color=\"#000000\"><b>From:</b> Belal Mohammed-Nur &lt;belal.mnur@gmail.com&gt;<br>\r\n",
       "<b>Sent:</b> Tuesday, April 9, 2019 8:16:39 PM<br>\r\n",
       "<b>To:</b> hsscience@thekeystoneschool.net<br>\r\n",
       "<b>Subject:</b> RE: Regarding Chemistry &quot;8.02 Assignment: Gas Laws in Action&quot;</font>\r\n",
       "<div>&nbsp;</div>\r\n",
       "</div>\r\n",
       "<style>\r\n",
       "<!--\r\n",
       "@font-face\r\n",
       "\t{font-family:\"Cambria Math\"}\r\n",
       "@font-face\r\n",
       "\t{font-family:Calibri}\r\n",
       "p.x_MsoNormal, li.x_MsoNormal, div.x_MsoNormal\r\n",
       "\t{margin:0in;\r\n",
       "\tmargin-bottom:.0001pt;\r\n",
       "\tfont-size:11.0pt;\r\n",
       "\tfont-family:\"Calibri\",sans-serif}\r\n",
       "a:link, span.x_MsoHyperlink\r\n",
       "\t{color:blue;\r\n",
       "\ttext-decoration:underline}\r\n",
       "a:visited, span.x_MsoHyperlinkFollowed\r\n",
       "\t{color:#954F72;\r\n",
       "\ttext-decoration:underline}\r\n",
       ".x_MsoChpDefault\r\n",
       "\t{}\r\n",
       "@page WordSection1\r\n",
       "\t{margin:1.0in 1.0in 1.0in 1.0in}\r\n",
       "div.x_WordSection1\r\n",
       "\t{}\r\n",
       "-->\r\n",
       "</style>\r\n",
       "<div lang=\"EN-US\" link=\"blue\" vlink=\"#954F72\">\r\n",
       "<div class=\"x_WordSection1\">\r\n",
       "<p class=\"x_MsoNormal\">Good morning Mr.Havington,</p>\r\n",
       "<p class=\"x_MsoNormal\">&nbsp;</p>\r\n",
       "<p class=\"x_MsoNormal\">Thank you for providing me with this opportunity! It means a lot to me that I am able to learn and improve my work to benefit. I have recently sent you a follow up email with the requested updated document with the subject line “(Directed\r\n",
       " to: Mr. Havington) Regarding Chemistry 8.02 Assignment:Gas Laws in Action.”</p>\r\n",
       "<p class=\"x_MsoNormal\">&nbsp;</p>\r\n",
       "<p class=\"x_MsoNormal\">I look forward to your review and thank you once again,</p>\r\n",
       "<p class=\"x_MsoNormal\">Belal Mohammed-Nur</p>\r\n",
       "<p class=\"x_MsoNormal\">&nbsp;</p>\r\n",
       "<p class=\"x_MsoNormal\">Sent from <a href=\"https://go.microsoft.com/fwlink/?LinkId=550986\">\r\n",
       "Mail</a> for Windows 10</p>\r\n",
       "<p class=\"x_MsoNormal\">&nbsp;</p>\r\n",
       "<div style=\"border:none; border-top:solid #E1E1E1 1.0pt; padding:3.0pt 0in 0in 0in\">\r\n",
       "<p class=\"x_MsoNormal\" style=\"border:none; padding:0in\"><b>From: </b><a href=\"mailto:hsscience@thekeystoneschool.net\">hsscience@thekeystoneschool.net</a><br>\r\n",
       "<b>Sent: </b>Friday, April 5, 2019 4:28 PM<br>\r\n",
       "<b>To: </b><a href=\"mailto:belal.mnur@gmail.com\">Belal Mohammed-Nur</a><br>\r\n",
       "<b>Subject: </b>Re: Regarding Chemistry &quot;8.02 Assignment: Gas Laws in Action&quot;</p>\r\n",
       "</div>\r\n",
       "<p class=\"x_MsoNormal\">&nbsp;</p>\r\n",
       "<p><span style=\"font-size:12.0pt; color:black\">Hello&nbsp; Belal,</span></p>\r\n",
       "<p><span style=\"font-size:12.0pt; color:black\">&nbsp;</span></p>\r\n",
       "<p><span style=\"font-size:12.0pt; color:black\">I'm happy that you are working to improve your work on this assignment.</span></p>\r\n",
       "<p><span style=\"font-size:12.0pt; color:black\">&nbsp;</span></p>\r\n",
       "<p><span style=\"font-size:12.0pt; color:black\">Please email your changes to&nbsp;the Teacher Link&nbsp; and make it to my attention.</span></p>\r\n",
       "<p><span style=\"font-size:12.0pt; color:black\">&nbsp;</span></p>\r\n",
       "<p><span style=\"font-size:12.0pt; color:black\">Mr. Havington</span></p>\r\n",
       "<p><span style=\"font-size:12.0pt; color:black\">&nbsp;</span></p>\r\n",
       "<p><span style=\"font-size:12.0pt; color:black\">&nbsp;</span></p>\r\n",
       "<p><span style=\"font-size:12.0pt; color:black\">&nbsp;</span></p>\r\n",
       "<div id=\"x_Signature\">\r\n",
       "<div id=\"x_divtagdefaultwrapper\">\r\n",
       "<div>\r\n",
       "<p class=\"x_MsoNormal\"><span style=\"font-size:12.0pt; color:black\">&nbsp;</span></p>\r\n",
       "</div>\r\n",
       "<div>\r\n",
       "<table class=\"x_MsoNormalTable\" border=\"0\" cellspacing=\"0\" cellpadding=\"0\">\r\n",
       "<tbody>\r\n",
       "<tr style=\"height:58.85pt\">\r\n",
       "<td width=\"148\" valign=\"top\" style=\"width:111.0pt; padding:0in 0in 0in 0in; height:58.85pt\">\r\n",
       "<p class=\"x_MsoNormal\" style=\"\"><span style=\"font-size:12.0pt\"><img border=\"0\" width=\"151\" height=\"75\" id=\"x_Picture_x0020_1\" alt=\"cid:b939c65c-3e6c-406c-8fc9-c41841396d12\" style=\"width:1.5729in; height:.7812in\" data-outlook-trace=\"F:1|T:1\" src=\"cid:&lt;b939c65c-3e6c-406c-8fc9-c41841396d12&gt;\"></span><span style=\"font-size:12.0pt\"></span></p>\r\n",
       "</td>\r\n",
       "<td width=\"316\" style=\"width:237.0pt; padding:0in 0in 0in 0in; height:58.85pt\">\r\n",
       "<table class=\"x_MsoNormalTable\" border=\"0\" cellspacing=\"0\" cellpadding=\"0\" width=\"216\" style=\"width:162.1pt\">\r\n",
       "<tbody>\r\n",
       "<tr style=\"height:8.9pt\">\r\n",
       "<td valign=\"top\" style=\"padding:0in 0in 0in 7.5pt; height:8.9pt\">\r\n",
       "<p class=\"x_MsoNormal\" style=\"\"><b><span style=\"font-size:9.0pt; font-family:&quot;Arial&quot;,sans-serif; color:#33004F\">The Keystone Teacher Link</span></b></p>\r\n",
       "</td>\r\n",
       "</tr>\r\n",
       "<tr style=\"height:20.0pt\">\r\n",
       "<td valign=\"top\" style=\"padding:0in 0in 0in 7.5pt; height:20.0pt\">\r\n",
       "<p class=\"x_MsoNormal\" style=\"\"><span style=\"font-size:8.5pt; font-family:&quot;Arial&quot;,sans-serif; color:#C00000\">High School Science</span></p>\r\n",
       "</td>\r\n",
       "</tr>\r\n",
       "<tr style=\"height:33.3pt\">\r\n",
       "<td valign=\"top\" style=\"padding:0in 0in 0in 7.5pt; height:33.3pt\">\r\n",
       "<p class=\"x_MsoNormal\" style=\"\"><span style=\"font-size:8.5pt; font-family:&quot;Arial&quot;,sans-serif; color:#33004F\">920 Central Rd&nbsp;<br>\r\n",
       "Bloomsburg, PA 17815</span></p>\r\n",
       "</td>\r\n",
       "</tr>\r\n",
       "</tbody>\r\n",
       "</table>\r\n",
       "</td>\r\n",
       "</tr>\r\n",
       "<tr style=\"height:24.95pt\">\r\n",
       "<td valign=\"top\" style=\"padding:0in 0in 0in 7.5pt; height:24.95pt\">\r\n",
       "<p class=\"x_MsoNormal\" align=\"right\" style=\"text-align:right\"><b><span style=\"font-size:8.5pt; font-family:&quot;Times New Roman&quot;,serif; color:#C00000\">office&nbsp;<br>\r\n",
       "email</span></b><span style=\"font-size:12.0pt\"></span></p>\r\n",
       "</td>\r\n",
       "<td valign=\"top\" style=\"padding:0in 0in 0in 7.5pt; height:24.95pt\">\r\n",
       "<p class=\"x_MsoNormal\" style=\"\"><span style=\"font-size:9.0pt\">1-844-494-3577</span><span style=\"font-size:12.0pt\"></span></p>\r\n",
       "<p class=\"x_MsoNormal\" style=\"\"><span style=\"font-size:9.0pt\"><a href=\"mailto:hsscience@thekeystoneschool.net\">hsscience@thekeystoneschool.net</a></span><span style=\"font-size:12.0pt\">&nbsp;&nbsp;</span></p>\r\n",
       "</td>\r\n",
       "</tr>\r\n",
       "</tbody>\r\n",
       "</table>\r\n",
       "</div>\r\n",
       "<p class=\"x_MsoNormal\"><span style=\"font-size:12.0pt; color:black\">&nbsp;</span></p>\r\n",
       "</div>\r\n",
       "</div>\r\n",
       "<p class=\"x_MsoNormal\"><img border=\"0\" width=\"324\" height=\"1\" id=\"x_Horizontal_x0020_Line_x0020_2\" style=\"width:3.375in; height:.0104in\" data-outlook-trace=\"F:1|T:1\" src=\"cid:image002.png@01D4EF4B.CE382A40\"></p>\r\n",
       "<div id=\"x_divRplyFwdMsg\">\r\n",
       "<p class=\"x_MsoNormal\"><b><span style=\"color:black\">From:</span></b><span style=\"color:black\"> Belal Mohammed-Nur &lt;belal.mnur@gmail.com&gt;<br>\r\n",
       "<b>Sent:</b> Thursday, April 4, 2019 4:27:58 PM<br>\r\n",
       "<b>To:</b> hsscience@thekeystoneschool.net<br>\r\n",
       "<b>Subject:</b> Regarding Chemistry &quot;8.02 Assignment: Gas Laws in Action&quot;</span> </p>\r\n",
       "<div>\r\n",
       "<p class=\"x_MsoNormal\">&nbsp;</p>\r\n",
       "</div>\r\n",
       "</div>\r\n",
       "<p class=\"x_MsoNormal\" style=\"margin-bottom:12.0pt\">Good morning,<br>\r\n",
       "<br>\r\n",
       "This is Belal Mohammed-Nur from the &quot;Chemistry With Adv Lab” Course (CHM02-i-0815-0-0004) regarding the Unit 8 Assignment “8.02 Assignment: Gas Laws in Action.”<br>\r\n",
       "<br>\r\n",
       "On February 14th, I submitted the assignment “8.02 Assignment: Gas Laws in Action” and received a grade of 70/100 and a submission review inferring that I was “off to a good start with good information about 4 stroke engine[s] but you did not relate in enough\r\n",
       " detail the connection between the gas laws.” I believe that despite having good background information on my chosen explanation, I have not conveyed the knowledge in a structured way within the writing assignment. Additionally, and due to mistakes regarding\r\n",
       " the appropriate grading rubric, (as explained by Ms. Lancenese in a recent email), I was unable to format the MLA citations and in the correct manner. Based on recent updates, and with my constant effort in excelling in the course, I am confident that I have\r\n",
       " the ability to revise the writing assignment and to present a better, informative assignment for a potential re-evaluation.<br>\r\n",
       "<br>\r\n",
       "If granted the opportunity to revise the Unit 8 Assignment “8.02 Assignment: Gas Laws in Action,” for a re-evaluation, I will return with a clearer product that will convey my research in a better manner. I hope you consider providing me with this opportunity,\r\n",
       " and respect any and all stances the Keystone Teacher Link or the Chemistry teacher(s) may take regarding this request.<br>\r\n",
       "<br>\r\n",
       "Sincerely,<br>\r\n",
       "Belal Mohammed-Nur</p>\r\n",
       "<p class=\"x_MsoNormal\">&nbsp;</p>\r\n",
       "</div>\r\n",
       "</div>\r\n",
       "</body>\r\n",
       "</html>\r\n"
      ],
      "text/plain": [
       "<IPython.core.display.HTML object>"
      ]
     },
     "metadata": {},
     "output_type": "display_data"
    }
   ],
   "source": [
    "html_body_values = messages[messages[\"html_body\"].notna()][\"html_body\"]\n",
    "html_body_values.sample().item()\n",
    "display(HTML(html_body_values.sample().item()))"
   ]
  },
  {
   "cell_type": "markdown",
   "metadata": {},
   "source": [
    "## Email Domain Investigation"
   ]
  },
  {
   "cell_type": "markdown",
   "metadata": {},
   "source": [
    "### Bar Graph of Top Domains"
   ]
  },
  {
   "cell_type": "code",
   "execution_count": 59,
   "metadata": {},
   "outputs": [
    {
     "data": {
      "image/png": "[encoded data removed]",
      "text/plain": [
       "<Figure size 1200x800 with 1 Axes>"
      ]
     },
     "metadata": {},
     "output_type": "display_data"
    }
   ],
   "source": [
    "domain_counts = messages['domain'].value_counts()\n",
    "top_domains = domain_counts.nlargest(19)\n",
    "other_count = domain_counts[~domain_counts.index.isin(top_domains.index)].sum()\n",
    "top_10_domains = pd.concat([top_domains, pd.Series({'other': other_count})])\n",
    "\n",
    "plt.figure(figsize=(12, 8))\n",
    "top_10_domains.sort_values().plot(kind='barh', color='skyblue')\n",
    "plt.title('Top 10 Email Domains')\n",
    "plt.xlabel('Count')\n",
    "plt.ylabel('Domain')\n",
    "plt.tight_layout()\n",
    "\n",
    "plt.show()\n"
   ]
  },
  {
   "cell_type": "markdown",
   "metadata": {},
   "source": [
    "## Thread Identification"
   ]
  },
  {
   "cell_type": "code",
   "execution_count": 71,
   "metadata": {},
   "outputs": [
    {
     "data": {
      "text/html": [
       "<div>\n",
       "<style scoped>\n",
       "    .dataframe tbody tr th:only-of-type {\n",
       "        vertical-align: middle;\n",
       "    }\n",
       "\n",
       "    .dataframe tbody tr th {\n",
       "        vertical-align: top;\n",
       "    }\n",
       "\n",
       "    .dataframe thead th {\n",
       "        text-align: right;\n",
       "    }\n",
       "</style>\n",
       "<table border=\"1\" class=\"dataframe\">\n",
       "  <thead>\n",
       "    <tr style=\"text-align: right;\">\n",
       "      <th></th>\n",
       "      <th>global_message_id</th>\n",
       "      <th>folder_id</th>\n",
       "      <th>from_address_id</th>\n",
       "      <th>provider_email_id</th>\n",
       "      <th>creation_time</th>\n",
       "      <th>submit_time</th>\n",
       "      <th>delivery_time</th>\n",
       "      <th>sender_name</th>\n",
       "      <th>in_reply_to</th>\n",
       "      <th>subject</th>\n",
       "      <th>plain_text_body</th>\n",
       "      <th>rich_text_body</th>\n",
       "      <th>html_body</th>\n",
       "      <th>first_in_thread</th>\n",
       "      <th>previous_message_id</th>\n",
       "      <th>domain</th>\n",
       "      <th>language</th>\n",
       "      <th>spam_score</th>\n",
       "      <th>from_internal_domain</th>\n",
       "      <th>subject_prefix</th>\n",
       "    </tr>\n",
       "    <tr>\n",
       "      <th>id</th>\n",
       "      <th></th>\n",
       "      <th></th>\n",
       "      <th></th>\n",
       "      <th></th>\n",
       "      <th></th>\n",
       "      <th></th>\n",
       "      <th></th>\n",
       "      <th></th>\n",
       "      <th></th>\n",
       "      <th></th>\n",
       "      <th></th>\n",
       "      <th></th>\n",
       "      <th></th>\n",
       "      <th></th>\n",
       "      <th></th>\n",
       "      <th></th>\n",
       "      <th></th>\n",
       "      <th></th>\n",
       "      <th></th>\n",
       "      <th></th>\n",
       "    </tr>\n",
       "  </thead>\n",
       "  <tbody>\n",
       "    <tr>\n",
       "      <th>1</th>\n",
       "      <td>CANc0Yq66py_2t28pJ0H6E47s_BRZv1qR6O9=KFp2wqUC+...</td>\n",
       "      <td>1</td>\n",
       "      <td>1</td>\n",
       "      <td>2097188</td>\n",
       "      <td>2024-07-02 08:27:34</td>\n",
       "      <td>2024-06-30 05:06:15</td>\n",
       "      <td>2024-06-30 05:06:26</td>\n",
       "      <td>Mohammed Alsahal</td>\n",
       "      <td>CANc0Yq7Oy8un7hjwvQsEJyum4-p905KNjfPscOpabNgtC...</td>\n",
       "      <td>QSTP summer Workshops Program</td>\n",
       "      <td>**_Reminder!_**\\n\\n  \\n\\nOn Sat, 29 Jun 2024 a...</td>\n",
       "      <td>None</td>\n",
       "      <td>&lt;div dir=\"ltr\"&gt;&lt;div dir=\"auto\"&gt;&lt;b&gt;&lt;font color=...</td>\n",
       "      <td>False</td>\n",
       "      <td>&lt;CANc0Yq7Oy8un7hjwvQsEJyum4-p905KNjfPscOpabNgt...</td>\n",
       "      <td>gmail.com</td>\n",
       "      <td>None</td>\n",
       "      <td>None</td>\n",
       "      <td>False</td>\n",
       "      <td>None</td>\n",
       "    </tr>\n",
       "  </tbody>\n",
       "</table>\n",
       "</div>"
      ],
      "text/plain": [
       "                                    global_message_id  folder_id  \\\n",
       "id                                                                 \n",
       "1   CANc0Yq66py_2t28pJ0H6E47s_BRZv1qR6O9=KFp2wqUC+...          1   \n",
       "\n",
       "    from_address_id  provider_email_id       creation_time  \\\n",
       "id                                                           \n",
       "1                 1            2097188 2024-07-02 08:27:34   \n",
       "\n",
       "           submit_time       delivery_time       sender_name  \\\n",
       "id                                                             \n",
       "1  2024-06-30 05:06:15 2024-06-30 05:06:26  Mohammed Alsahal   \n",
       "\n",
       "                                          in_reply_to  \\\n",
       "id                                                      \n",
       "1   CANc0Yq7Oy8un7hjwvQsEJyum4-p905KNjfPscOpabNgtC...   \n",
       "\n",
       "                          subject  \\\n",
       "id                                  \n",
       "1   QSTP summer Workshops Program   \n",
       "\n",
       "                                      plain_text_body rich_text_body  \\\n",
       "id                                                                     \n",
       "1   **_Reminder!_**\\n\\n  \\n\\nOn Sat, 29 Jun 2024 a...           None   \n",
       "\n",
       "                                            html_body  first_in_thread  \\\n",
       "id                                                                       \n",
       "1   <div dir=\"ltr\"><div dir=\"auto\"><b><font color=...            False   \n",
       "\n",
       "                                  previous_message_id     domain language  \\\n",
       "id                                                                          \n",
       "1   <CANc0Yq7Oy8un7hjwvQsEJyum4-p905KNjfPscOpabNgt...  gmail.com     None   \n",
       "\n",
       "   spam_score  from_internal_domain subject_prefix  \n",
       "id                                                  \n",
       "1        None                 False           None  "
      ]
     },
     "execution_count": 71,
     "metadata": {},
     "output_type": "execute_result"
    }
   ],
   "source": [
    "messages[messages['plain_text_body'].str.contains('We are excited to inform you that our Summer Workshop Program', na=False)]"
   ]
  },
  {
   "cell_type": "code",
   "execution_count": 41,
   "metadata": {},
   "outputs": [
    {
     "name": "stdout",
     "output_type": "stream",
     "text": [
      "Global Message ID: CANc0Yq66py_2t28pJ0H6E47s_BRZv1qR6O9=KFp2wqUC+WDzAA@mail.gmail.com\n",
      "In Reply To: CANc0Yq7Oy8un7hjwvQsEJyum4-p905KNjfPscOpabNgtC1JZmQ@mail.gmail.com\n",
      "**_Reminder!_**\n",
      "\n",
      "  \n",
      "\n",
      "On Sat, 29 Jun 2024 at 6:06 PM Mohammed Alsahal <m7mdalsahal@gmail.com> wrote:  \n",
      "\n",
      "> Dears Interns,\n",
      ">\n",
      "> Greetings,\n",
      ">\n",
      "> We are excited to inform you that our Summer Workshop Program will commence\n",
      "> tomorrow with our first workshop titled \"Discover QSTP Where Ideas Become\n",
      "> Reality\" presented by Mrs. Haifa Al Abdullah. As these workshops are part of\n",
      "> your field training, they are paid opportunities. Your attendance at the\n",
      "> workshop will count as paid working hours. ** _Therefore, please register by\n",
      "> scanning the QR code provided in the workshop poster as attendance is\n",
      "> mandatory._**\n",
      ">\n",
      "> Best regards,\n",
      ">\n",
      "> Mohammed Al-Hafiz\n",
      "\n",
      "\n"
     ]
    }
   ],
   "source": [
    "sample = messages[['global_message_id', 'in_reply_to', 'subject', 'sender_name', 'delivery_time', 'plain_text_body']][messages['global_message_id'].notna()][messages['in_reply_to'].notna()].head(1)\n",
    "print(f\"Global Message ID: {sample['global_message_id'].item()}\")\n",
    "print(f\"In Reply To: {sample['in_reply_to'].item()}\")\n",
    "print(sample['plain_text_body'].item())"
   ]
  },
  {
   "cell_type": "code",
   "execution_count": 16,
   "metadata": {},
   "outputs": [
    {
     "name": "stdout",
     "output_type": "stream",
     "text": [
      "Total number of messages: 5039\n",
      "Number of unique non-null 'in_reply_to' values: 520\n",
      "Number of 'in_reply_to' values that match a 'global_message_id': 0\n",
      "\n",
      "No matching pairs found.\n"
     ]
    }
   ],
   "source": [
    "# Get all non-null 'in_reply_to' values\n",
    "in_reply_to_values = messages['in_reply_to'].dropna().unique()\n",
    "\n",
    "# Check which of these values exist in the index (global_message_id)\n",
    "matching_ids = messages.index.intersection(in_reply_to_values)\n",
    "\n",
    "print(f\"Total number of messages: {len(messages)}\")\n",
    "print(f\"Number of unique non-null 'in_reply_to' values: {len(in_reply_to_values)}\")\n",
    "print(f\"Number of 'in_reply_to' values that match a 'global_message_id': {len(matching_ids)}\")\n",
    "\n",
    "if len(matching_ids) > 0:\n",
    "    print(\"\\nExample of a matching pair:\")\n",
    "    example_id = matching_ids[0]\n",
    "    print(f\"global_message_id: {example_id}\")\n",
    "    print(f\"Corresponding 'in_reply_to' from another message: {messages[messages['in_reply_to'] == example_id].index[0]}\")\n",
    "else:\n",
    "    print(\"\\nNo matching pairs found.\")"
   ]
  },
  {
   "cell_type": "code",
   "execution_count": 17,
   "metadata": {},
   "outputs": [],
   "source": [
    "def find_thread_root(message_id, df):\n",
    "    visited = set()\n",
    "    current_id = message_id\n",
    "    while current_id in df.index and pd.notna(df.loc[current_id, 'in_reply_to']):\n",
    "        if current_id in visited:\n",
    "            # We've encountered a loop, break it\n",
    "            return current_id, True\n",
    "        visited.add(current_id)\n",
    "        current_id = df.loc[current_id, 'in_reply_to']\n",
    "    \n",
    "    # Check if the thread is broken\n",
    "    is_broken = current_id not in df.index and pd.notna(current_id)\n",
    "    \n",
    "    return current_id, is_broken\n",
    "\n",
    "threads = {}\n",
    "\n",
    "for message_id in messages.index:\n",
    "    root_id, is_broken = find_thread_root(message_id, messages)\n",
    "    \n",
    "    if root_id not in threads:\n",
    "        threads[root_id] = {'is_broken': is_broken}\n",
    "\n",
    "threads_df = pd.DataFrame.from_dict(threads, orient='index', columns=['thread_is_broken'])\n",
    "threads_df.index.name = 'thread_id'\n",
    "\n",
    "messages['thread_id'] = messages.apply(lambda row: find_thread_root(row.name, messages)[0], axis=1)"
   ]
  },
  {
   "cell_type": "code",
   "execution_count": 18,
   "metadata": {},
   "outputs": [
    {
     "name": "stdout",
     "output_type": "stream",
     "text": [
      "Number of threads: 0\n",
      "Number of broken threads: 0\n",
      "Number of messages: 5039\n"
     ]
    }
   ],
   "source": [
    "print(f\"Number of threads: {len(threads_df)}\")\n",
    "print(f\"Number of broken threads: {threads_df['thread_is_broken'].sum()}\")\n",
    "print(f\"Number of messages: {len(messages)}\")"
   ]
  }
 ],
 "metadata": {
  "kernelspec": {
   "display_name": "Python 3",
   "language": "python",
   "name": "python3"
  },
  "language_info": {
   "codemirror_mode": {
    "name": "ipython",
    "version": 3
   },
   "file_extension": ".py",
   "mimetype": "text/x-python",
   "name": "python",
   "nbconvert_exporter": "python",
   "pygments_lexer": "ipython3",
   "version": "3.11.4"
  }
 },
 "nbformat": 4,
 "nbformat_minor": 2
}
