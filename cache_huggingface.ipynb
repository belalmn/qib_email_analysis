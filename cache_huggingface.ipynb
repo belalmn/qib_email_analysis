{
 "cells": [
  {
   "cell_type": "code",
   "execution_count": 1,
   "metadata": {},
   "outputs": [],
   "source": [
    "from transformers import AutoModelForSequenceClassification\n",
    "from huggingface_hub import login\n",
    "import os\n",
    "from tqdm.auto import tqdm"
   ]
  },
  {
   "cell_type": "code",
   "execution_count": 2,
   "metadata": {},
   "outputs": [],
   "source": [
    "login()"
   ]
  },
  {
   "cell_type": "code",
   "execution_count": 5,
   "metadata": {},
   "outputs": [],
   "source": [
    "models = [\n",
    "    # \"meta-llama/Meta-Llama-3.1-8B-Instruct\",\n",
    "    \"mrm8488/bert-tiny-finetuned-sms-spam-detection\",\n",
    "    \"facebook/bart-large-mnli\"\n",
    "]"
   ]
  },
  {
   "cell_type": "code",
   "execution_count": 3,
   "metadata": {},
   "outputs": [
    {
     "data": {
      "application/vnd.jupyter.widget-view+json": {
       "model_id": "06e4643e7e8e4121963088a4be042037",
       "version_major": 2,
       "version_minor": 0
      },
      "text/plain": [
       "  0%|          | 0/2 [00:00<?, ?it/s]"
      ]
     },
     "metadata": {},
     "output_type": "display_data"
    },
    {
     "name": "stdout",
     "output_type": "stream",
     "text": [
      "Downloading mrm8488/bert-tiny-finetuned-sms-spam-detection\n",
      "Saved to src/models/bert-tiny-finetuned-sms-spam-detection\n",
      "Downloading facebook/bart-large-mnli\n"
     ]
    },
    {
     "data": {
      "application/vnd.jupyter.widget-view+json": {
       "model_id": "6f0b4678c5c447c590c78944db863e44",
       "version_major": 2,
       "version_minor": 0
      },
      "text/plain": [
       "model.safetensors:  71%|#######1  | 1.16G/1.63G [00:00<?, ?B/s]"
      ]
     },
     "metadata": {},
     "output_type": "display_data"
    },
    {
     "name": "stderr",
     "output_type": "stream",
     "text": [
      "Some non-default generation parameters are set in the model config. These should go into a GenerationConfig file (https://huggingface.co/docs/transformers/generation_strategies#save-a-custom-decoding-strategy-with-your-model) instead. This warning will be raised to an exception in v4.41.\n",
      "Non-default generation parameters: {'forced_eos_token_id': 2}\n"
     ]
    },
    {
     "name": "stdout",
     "output_type": "stream",
     "text": [
      "Saved to src/models/bart-large-mnli\n"
     ]
    }
   ],
   "source": [
    "model_dir = \"src/models\"\n",
    "for model in tqdm(models):\n",
    "    print(f\"Downloading {model}\")\n",
    "    modelName = model.split(\"/\")[-1]\n",
    "    modelPath = os.path.join(model_dir, modelName)\n",
    "    model = AutoModelForSequenceClassification.from_pretrained(model)\n",
    "    model.save_pretrained(modelPath)\n",
    "    print(f\"Saved to {modelPath}\")"
   ]
  }
 ],
 "metadata": {
  "kernelspec": {
   "display_name": "qib",
   "language": "python",
   "name": "python3"
  },
  "language_info": {
   "codemirror_mode": {
    "name": "ipython",
    "version": 3
   },
   "file_extension": ".py",
   "mimetype": "text/x-python",
   "name": "python",
   "nbconvert_exporter": "python",
   "pygments_lexer": "ipython3",
   "version": "3.11.4"
  }
 },
 "nbformat": 4,
 "nbformat_minor": 2
}
